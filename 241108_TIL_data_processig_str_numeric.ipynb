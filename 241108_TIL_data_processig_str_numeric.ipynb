{
 "cells": [
  {
   "cell_type": "markdown",
   "metadata": {},
   "source": [
    "## 대소문자 처리하기"
   ]
  },
  {
   "cell_type": "markdown",
   "metadata": {},
   "source": [
    "### 개념\n",
    "str 접근자를 사용하여 lower(), upper(), capitalize() 등의 함수를 활용해 대소문자 처리 가능\n",
    "\n",
    "### 방법\n",
    "1. 모든 문자 소문자로 통일 `upper()`\n",
    "2. 모든 문자 대문자로 통일 `lower()`\n",
    "3. 앞글자만 대문자, 나머지는 소문자 `caplitalize()`\n",
    "\n",
    "### 주의사항\n",
    "1. DataFrame의 컬럼에 변환된 데이터를 저장(할당)해야 실제로 값들이 변경된다.\n",
    "2. pandas의 Series 형식은 위 세가지 문자처리함수를 메소드로 갖고 있지 않으므로, .str을 통해 시리즈 안의 값을 문자로 바꾼후 처리해야 한다.\n",
    "    - str은 문자열 뿐만  아니라 리스트나 튜플처럼 순서가 있는 데이터 묶음에도 적용이 가능한 접근자!\n",
    "    - 따라서 .str로 접근하고 인덱싱하면 분리된 데이터의 각 부분에 접근 가능해짐"
   ]
  },
  {
   "cell_type": "code",
   "execution_count": null,
   "metadata": {},
   "outputs": [
    {
     "data": {
      "text/html": [
       "<div>\n",
       "<style scoped>\n",
       "    .dataframe tbody tr th:only-of-type {\n",
       "        vertical-align: middle;\n",
       "    }\n",
       "\n",
       "    .dataframe tbody tr th {\n",
       "        vertical-align: top;\n",
       "    }\n",
       "\n",
       "    .dataframe thead th {\n",
       "        text-align: right;\n",
       "    }\n",
       "</style>\n",
       "<table border=\"1\" class=\"dataframe\">\n",
       "  <thead>\n",
       "    <tr style=\"text-align: right;\">\n",
       "      <th></th>\n",
       "      <th>id</th>\n",
       "      <th>state</th>\n",
       "      <th>guests</th>\n",
       "      <th>beds</th>\n",
       "      <th>property_type</th>\n",
       "      <th>rating</th>\n",
       "      <th>n_reviews</th>\n",
       "      <th>location</th>\n",
       "      <th>price</th>\n",
       "    </tr>\n",
       "  </thead>\n",
       "  <tbody>\n",
       "    <tr>\n",
       "      <th>0</th>\n",
       "      <td>BF1406</td>\n",
       "      <td>Illinois</td>\n",
       "      <td>2</td>\n",
       "      <td>1</td>\n",
       "      <td>Apartment</td>\n",
       "      <td>96.0</td>\n",
       "      <td>55</td>\n",
       "      <td>Avondale, Chicago.</td>\n",
       "      <td>48</td>\n",
       "    </tr>\n",
       "    <tr>\n",
       "      <th>1</th>\n",
       "      <td>DB7921</td>\n",
       "      <td>MASSACHUSETTS</td>\n",
       "      <td>4</td>\n",
       "      <td>1</td>\n",
       "      <td>Apartment</td>\n",
       "      <td>NaN</td>\n",
       "      <td>0</td>\n",
       "      <td>South End, Boston.</td>\n",
       "      <td>115</td>\n",
       "    </tr>\n",
       "    <tr>\n",
       "      <th>2</th>\n",
       "      <td>OZ5857</td>\n",
       "      <td>ILLINOIS</td>\n",
       "      <td>4</td>\n",
       "      <td>3</td>\n",
       "      <td>Apartment</td>\n",
       "      <td>100.0</td>\n",
       "      <td>51</td>\n",
       "      <td>Avondale, Chicago.</td>\n",
       "      <td>150</td>\n",
       "    </tr>\n",
       "  </tbody>\n",
       "</table>\n",
       "</div>"
      ],
      "text/plain": [
       "       id          state  guests  beds property_type  rating  n_reviews  \\\n",
       "0  BF1406       Illinois       2     1     Apartment    96.0         55   \n",
       "1  DB7921  MASSACHUSETTS       4     1     Apartment     NaN          0   \n",
       "2  OZ5857       ILLINOIS       4     3     Apartment   100.0         51   \n",
       "\n",
       "             location  price  \n",
       "0  Avondale, Chicago.     48  \n",
       "1  South End, Boston.    115  \n",
       "2  Avondale, Chicago.    150  "
      ]
     },
     "metadata": {},
     "output_type": "display_data"
    }
   ],
   "source": [
    "import pandas as pd\n",
    "\n",
    "# 에어비앤비 데이터 불러오기\n",
    "airbnb_df = pd.read_csv('./data/airbnb.csv')\n",
    "\n",
    "airbnb_df.head(3)"
   ]
  },
  {
   "cell_type": "code",
   "execution_count": null,
   "metadata": {},
   "outputs": [
    {
     "name": "stdout",
     "output_type": "stream",
     "text": [
      "<class 'pandas.core.frame.DataFrame'>\n",
      "RangeIndex: 713 entries, 0 to 712\n",
      "Data columns (total 9 columns):\n",
      " #   Column         Non-Null Count  Dtype  \n",
      "---  ------         --------------  -----  \n",
      " 0   id             713 non-null    object \n",
      " 1   state          713 non-null    object \n",
      " 2   guests         713 non-null    int64  \n",
      " 3   beds           713 non-null    int64  \n",
      " 4   property_type  713 non-null    object \n",
      " 5   rating         700 non-null    float64\n",
      " 6   n_reviews      713 non-null    int64  \n",
      " 7   location       713 non-null    object \n",
      " 8   price          713 non-null    int64  \n",
      "dtypes: float64(1), int64(4), object(4)\n",
      "memory usage: 50.3+ KB\n"
     ]
    }
   ],
   "source": [
    "airbnb_df.info()"
   ]
  },
  {
   "cell_type": "code",
   "execution_count": null,
   "metadata": {},
   "outputs": [
    {
     "data": {
      "text/plain": [
       "array(['Illinois', 'MASSACHUSETTS', 'ILLINOIS', 'california',\n",
       "       'massachusetts', 'California', 'Massachusetts', 'CALIFORNIA',\n",
       "       'illinois'], dtype=object)"
      ]
     },
     "metadata": {},
     "output_type": "display_data"
    }
   ],
   "source": [
    "airbnb_df['state'].unique() # 문자열 형식이 통일성 없음을 확인"
   ]
  },
  {
   "cell_type": "code",
   "execution_count": null,
   "metadata": {},
   "outputs": [
    {
     "data": {
      "text/plain": [
       "0           ILLINOIS\n",
       "1      MASSACHUSETTS\n",
       "2           ILLINOIS\n",
       "3         CALIFORNIA\n",
       "4      MASSACHUSETTS\n",
       "           ...      \n",
       "708       CALIFORNIA\n",
       "709       CALIFORNIA\n",
       "710       CALIFORNIA\n",
       "711         ILLINOIS\n",
       "712    MASSACHUSETTS\n",
       "Name: state, Length: 713, dtype: object"
      ]
     },
     "metadata": {},
     "output_type": "display_data"
    }
   ],
   "source": [
    "airbnb_df['state'].str.upper()"
   ]
  },
  {
   "cell_type": "code",
   "execution_count": null,
   "metadata": {},
   "outputs": [
    {
     "data": {
      "text/plain": [
       "0           illinois\n",
       "1      massachusetts\n",
       "2           illinois\n",
       "3         california\n",
       "4      massachusetts\n",
       "           ...      \n",
       "708       california\n",
       "709       california\n",
       "710       california\n",
       "711         illinois\n",
       "712    massachusetts\n",
       "Name: state, Length: 713, dtype: object"
      ]
     },
     "metadata": {},
     "output_type": "display_data"
    }
   ],
   "source": [
    "airbnb_df['state'].str.lower()"
   ]
  },
  {
   "cell_type": "code",
   "execution_count": null,
   "metadata": {},
   "outputs": [
    {
     "data": {
      "text/plain": [
       "0           Illinois\n",
       "1      Massachusetts\n",
       "2           Illinois\n",
       "3         California\n",
       "4      Massachusetts\n",
       "           ...      \n",
       "708       California\n",
       "709       California\n",
       "710       California\n",
       "711         Illinois\n",
       "712    Massachusetts\n",
       "Name: state, Length: 713, dtype: object"
      ]
     },
     "metadata": {},
     "output_type": "display_data"
    }
   ],
   "source": [
    "airbnb_df['state'].str.capitalize()"
   ]
  },
  {
   "cell_type": "markdown",
   "metadata": {},
   "source": [
    "---"
   ]
  },
  {
   "cell_type": "markdown",
   "metadata": {},
   "source": [
    "## 문자열 분리하기"
   ]
  },
  {
   "cell_type": "markdown",
   "metadata": {},
   "source": [
    "### 개념\n",
    "`split()` 함수는 문자열을 특정 문자 기준으로 나누어 리스트로 반환 / 이때 str접근자를 사용해 Series에 문자열 처리 적용\n",
    "\n",
    "### 방법\n",
    "`split()` 사용해서 괄호안에 분리 기준이 되는 string 입력"
   ]
  },
  {
   "cell_type": "code",
   "execution_count": null,
   "metadata": {},
   "outputs": [
    {
     "data": {
      "text/html": [
       "<div>\n",
       "<style scoped>\n",
       "    .dataframe tbody tr th:only-of-type {\n",
       "        vertical-align: middle;\n",
       "    }\n",
       "\n",
       "    .dataframe tbody tr th {\n",
       "        vertical-align: top;\n",
       "    }\n",
       "\n",
       "    .dataframe thead th {\n",
       "        text-align: right;\n",
       "    }\n",
       "</style>\n",
       "<table border=\"1\" class=\"dataframe\">\n",
       "  <thead>\n",
       "    <tr style=\"text-align: right;\">\n",
       "      <th></th>\n",
       "      <th>state</th>\n",
       "      <th>guests</th>\n",
       "      <th>beds</th>\n",
       "      <th>property_type</th>\n",
       "      <th>rating</th>\n",
       "      <th>n_reviews</th>\n",
       "      <th>location</th>\n",
       "      <th>price</th>\n",
       "    </tr>\n",
       "    <tr>\n",
       "      <th>id</th>\n",
       "      <th></th>\n",
       "      <th></th>\n",
       "      <th></th>\n",
       "      <th></th>\n",
       "      <th></th>\n",
       "      <th></th>\n",
       "      <th></th>\n",
       "      <th></th>\n",
       "    </tr>\n",
       "  </thead>\n",
       "  <tbody>\n",
       "    <tr>\n",
       "      <th>BF1406</th>\n",
       "      <td>Illinois</td>\n",
       "      <td>2</td>\n",
       "      <td>1</td>\n",
       "      <td>Apartment</td>\n",
       "      <td>96.0</td>\n",
       "      <td>55</td>\n",
       "      <td>Avondale, Chicago.</td>\n",
       "      <td>48</td>\n",
       "    </tr>\n",
       "    <tr>\n",
       "      <th>DB7921</th>\n",
       "      <td>MASSACHUSETTS</td>\n",
       "      <td>4</td>\n",
       "      <td>1</td>\n",
       "      <td>Apartment</td>\n",
       "      <td>NaN</td>\n",
       "      <td>0</td>\n",
       "      <td>South End, Boston.</td>\n",
       "      <td>115</td>\n",
       "    </tr>\n",
       "    <tr>\n",
       "      <th>OZ5857</th>\n",
       "      <td>ILLINOIS</td>\n",
       "      <td>4</td>\n",
       "      <td>3</td>\n",
       "      <td>Apartment</td>\n",
       "      <td>100.0</td>\n",
       "      <td>51</td>\n",
       "      <td>Avondale, Chicago.</td>\n",
       "      <td>150</td>\n",
       "    </tr>\n",
       "  </tbody>\n",
       "</table>\n",
       "</div>"
      ],
      "text/plain": [
       "                state  guests  beds property_type  rating  n_reviews  \\\n",
       "id                                                                     \n",
       "BF1406       Illinois       2     1     Apartment    96.0         55   \n",
       "DB7921  MASSACHUSETTS       4     1     Apartment     NaN          0   \n",
       "OZ5857       ILLINOIS       4     3     Apartment   100.0         51   \n",
       "\n",
       "                  location  price  \n",
       "id                                 \n",
       "BF1406  Avondale, Chicago.     48  \n",
       "DB7921  South End, Boston.    115  \n",
       "OZ5857  Avondale, Chicago.    150  "
      ]
     },
     "metadata": {},
     "output_type": "display_data"
    }
   ],
   "source": [
    "import pandas as pd\n",
    "\n",
    "# 에어비앤비 데이터 불러오기\n",
    "airbnb_df = pd.read_csv('./data/airbnb.csv', index_col=0)\n",
    "\n",
    "airbnb_df.head(3)"
   ]
  },
  {
   "cell_type": "code",
   "execution_count": null,
   "metadata": {},
   "outputs": [
    {
     "data": {
      "text/plain": [
       "id\n",
       "BF1406             [Avondale,  Chicago.]\n",
       "DB7921             [South End,  Boston.]\n",
       "OZ5857             [Avondale,  Chicago.]\n",
       "HY8797           [SoMa,  San Francisco.]\n",
       "VN7858          [West Roxbury,  Boston.]\n",
       "                       ...              \n",
       "XG3289           [Venice,  Los Angeles.]\n",
       "ZR5298     [Mid-Wilshire,  Los Angeles.]\n",
       "XZ5531    [Redondo Beach,  Los Angeles.]\n",
       "EE8333             [Lakeview,  Chicago.]\n",
       "AA6024           [East Boston,  Boston.]\n",
       "Name: location, Length: 713, dtype: object"
      ]
     },
     "metadata": {},
     "output_type": "display_data"
    }
   ],
   "source": [
    "# 동네명, 도시(주)이름 분리\n",
    "airbnb_df['location'].str.split(',')"
   ]
  },
  {
   "cell_type": "code",
   "execution_count": null,
   "metadata": {},
   "outputs": [
    {
     "data": {
      "text/html": [
       "<div>\n",
       "<style scoped>\n",
       "    .dataframe tbody tr th:only-of-type {\n",
       "        vertical-align: middle;\n",
       "    }\n",
       "\n",
       "    .dataframe tbody tr th {\n",
       "        vertical-align: top;\n",
       "    }\n",
       "\n",
       "    .dataframe thead th {\n",
       "        text-align: right;\n",
       "    }\n",
       "</style>\n",
       "<table border=\"1\" class=\"dataframe\">\n",
       "  <thead>\n",
       "    <tr style=\"text-align: right;\">\n",
       "      <th></th>\n",
       "      <th>neighborhood</th>\n",
       "    </tr>\n",
       "    <tr>\n",
       "      <th>id</th>\n",
       "      <th></th>\n",
       "    </tr>\n",
       "  </thead>\n",
       "  <tbody>\n",
       "    <tr>\n",
       "      <th>BF1406</th>\n",
       "      <td>Avondale</td>\n",
       "    </tr>\n",
       "    <tr>\n",
       "      <th>DB7921</th>\n",
       "      <td>South End</td>\n",
       "    </tr>\n",
       "    <tr>\n",
       "      <th>OZ5857</th>\n",
       "      <td>Avondale</td>\n",
       "    </tr>\n",
       "    <tr>\n",
       "      <th>HY8797</th>\n",
       "      <td>SoMa</td>\n",
       "    </tr>\n",
       "    <tr>\n",
       "      <th>VN7858</th>\n",
       "      <td>West Roxbury</td>\n",
       "    </tr>\n",
       "    <tr>\n",
       "      <th>...</th>\n",
       "      <td>...</td>\n",
       "    </tr>\n",
       "    <tr>\n",
       "      <th>XG3289</th>\n",
       "      <td>Venice</td>\n",
       "    </tr>\n",
       "    <tr>\n",
       "      <th>ZR5298</th>\n",
       "      <td>Mid-Wilshire</td>\n",
       "    </tr>\n",
       "    <tr>\n",
       "      <th>XZ5531</th>\n",
       "      <td>Redondo Beach</td>\n",
       "    </tr>\n",
       "    <tr>\n",
       "      <th>EE8333</th>\n",
       "      <td>Lakeview</td>\n",
       "    </tr>\n",
       "    <tr>\n",
       "      <th>AA6024</th>\n",
       "      <td>East Boston</td>\n",
       "    </tr>\n",
       "  </tbody>\n",
       "</table>\n",
       "<p>713 rows × 1 columns</p>\n",
       "</div>"
      ],
      "text/plain": [
       "         neighborhood\n",
       "id                   \n",
       "BF1406       Avondale\n",
       "DB7921      South End\n",
       "OZ5857       Avondale\n",
       "HY8797           SoMa\n",
       "VN7858   West Roxbury\n",
       "...               ...\n",
       "XG3289         Venice\n",
       "ZR5298   Mid-Wilshire\n",
       "XZ5531  Redondo Beach\n",
       "EE8333       Lakeview\n",
       "AA6024    East Boston\n",
       "\n",
       "[713 rows x 1 columns]"
      ]
     },
     "metadata": {},
     "output_type": "display_data"
    }
   ],
   "source": [
    "# neighborhood 컬럼 만들어서 분리한 데이터 저장\n",
    "airbnb_df['neighborhood'] = airbnb_df['location'].str.split(',').str[0]\n",
    "airbnb_df[['neighborhood']]"
   ]
  },
  {
   "cell_type": "code",
   "execution_count": null,
   "metadata": {},
   "outputs": [
    {
     "data": {
      "text/html": [
       "<div>\n",
       "<style scoped>\n",
       "    .dataframe tbody tr th:only-of-type {\n",
       "        vertical-align: middle;\n",
       "    }\n",
       "\n",
       "    .dataframe tbody tr th {\n",
       "        vertical-align: top;\n",
       "    }\n",
       "\n",
       "    .dataframe thead th {\n",
       "        text-align: right;\n",
       "    }\n",
       "</style>\n",
       "<table border=\"1\" class=\"dataframe\">\n",
       "  <thead>\n",
       "    <tr style=\"text-align: right;\">\n",
       "      <th></th>\n",
       "      <th>city</th>\n",
       "    </tr>\n",
       "    <tr>\n",
       "      <th>id</th>\n",
       "      <th></th>\n",
       "    </tr>\n",
       "  </thead>\n",
       "  <tbody>\n",
       "    <tr>\n",
       "      <th>BF1406</th>\n",
       "      <td>Chicago</td>\n",
       "    </tr>\n",
       "    <tr>\n",
       "      <th>DB7921</th>\n",
       "      <td>Boston</td>\n",
       "    </tr>\n",
       "    <tr>\n",
       "      <th>OZ5857</th>\n",
       "      <td>Chicago</td>\n",
       "    </tr>\n",
       "    <tr>\n",
       "      <th>HY8797</th>\n",
       "      <td>San Francisco</td>\n",
       "    </tr>\n",
       "    <tr>\n",
       "      <th>VN7858</th>\n",
       "      <td>Boston</td>\n",
       "    </tr>\n",
       "    <tr>\n",
       "      <th>...</th>\n",
       "      <td>...</td>\n",
       "    </tr>\n",
       "    <tr>\n",
       "      <th>XG3289</th>\n",
       "      <td>Los Angeles</td>\n",
       "    </tr>\n",
       "    <tr>\n",
       "      <th>ZR5298</th>\n",
       "      <td>Los Angeles</td>\n",
       "    </tr>\n",
       "    <tr>\n",
       "      <th>XZ5531</th>\n",
       "      <td>Los Angeles</td>\n",
       "    </tr>\n",
       "    <tr>\n",
       "      <th>EE8333</th>\n",
       "      <td>Chicago</td>\n",
       "    </tr>\n",
       "    <tr>\n",
       "      <th>AA6024</th>\n",
       "      <td>Boston</td>\n",
       "    </tr>\n",
       "  </tbody>\n",
       "</table>\n",
       "<p>713 rows × 1 columns</p>\n",
       "</div>"
      ],
      "text/plain": [
       "                  city\n",
       "id                    \n",
       "BF1406         Chicago\n",
       "DB7921          Boston\n",
       "OZ5857         Chicago\n",
       "HY8797   San Francisco\n",
       "VN7858          Boston\n",
       "...                ...\n",
       "XG3289     Los Angeles\n",
       "ZR5298     Los Angeles\n",
       "XZ5531     Los Angeles\n",
       "EE8333         Chicago\n",
       "AA6024          Boston\n",
       "\n",
       "[713 rows x 1 columns]"
      ]
     },
     "metadata": {},
     "output_type": "display_data"
    }
   ],
   "source": [
    "airbnb_df['city'] = airbnb_df['location'].str.split(',').str[1].str[:-1]\n",
    "airbnb_df[['city']]"
   ]
  },
  {
   "cell_type": "code",
   "execution_count": null,
   "metadata": {},
   "outputs": [
    {
     "data": {
      "text/html": [
       "<div>\n",
       "<style scoped>\n",
       "    .dataframe tbody tr th:only-of-type {\n",
       "        vertical-align: middle;\n",
       "    }\n",
       "\n",
       "    .dataframe tbody tr th {\n",
       "        vertical-align: top;\n",
       "    }\n",
       "\n",
       "    .dataframe thead th {\n",
       "        text-align: right;\n",
       "    }\n",
       "</style>\n",
       "<table border=\"1\" class=\"dataframe\">\n",
       "  <thead>\n",
       "    <tr style=\"text-align: right;\">\n",
       "      <th></th>\n",
       "      <th>state</th>\n",
       "      <th>guests</th>\n",
       "      <th>beds</th>\n",
       "      <th>property_type</th>\n",
       "      <th>rating</th>\n",
       "      <th>n_reviews</th>\n",
       "      <th>location</th>\n",
       "      <th>price</th>\n",
       "      <th>neighborhood</th>\n",
       "      <th>city</th>\n",
       "    </tr>\n",
       "    <tr>\n",
       "      <th>id</th>\n",
       "      <th></th>\n",
       "      <th></th>\n",
       "      <th></th>\n",
       "      <th></th>\n",
       "      <th></th>\n",
       "      <th></th>\n",
       "      <th></th>\n",
       "      <th></th>\n",
       "      <th></th>\n",
       "      <th></th>\n",
       "    </tr>\n",
       "  </thead>\n",
       "  <tbody>\n",
       "    <tr>\n",
       "      <th>BF1406</th>\n",
       "      <td>Illinois</td>\n",
       "      <td>2</td>\n",
       "      <td>1</td>\n",
       "      <td>Apartment</td>\n",
       "      <td>96.0</td>\n",
       "      <td>55</td>\n",
       "      <td>Avondale, Chicago.</td>\n",
       "      <td>48</td>\n",
       "      <td>Avondale</td>\n",
       "      <td>Chicago</td>\n",
       "    </tr>\n",
       "    <tr>\n",
       "      <th>DB7921</th>\n",
       "      <td>MASSACHUSETTS</td>\n",
       "      <td>4</td>\n",
       "      <td>1</td>\n",
       "      <td>Apartment</td>\n",
       "      <td>NaN</td>\n",
       "      <td>0</td>\n",
       "      <td>South End, Boston.</td>\n",
       "      <td>115</td>\n",
       "      <td>South End</td>\n",
       "      <td>Boston</td>\n",
       "    </tr>\n",
       "    <tr>\n",
       "      <th>OZ5857</th>\n",
       "      <td>ILLINOIS</td>\n",
       "      <td>4</td>\n",
       "      <td>3</td>\n",
       "      <td>Apartment</td>\n",
       "      <td>100.0</td>\n",
       "      <td>51</td>\n",
       "      <td>Avondale, Chicago.</td>\n",
       "      <td>150</td>\n",
       "      <td>Avondale</td>\n",
       "      <td>Chicago</td>\n",
       "    </tr>\n",
       "  </tbody>\n",
       "</table>\n",
       "</div>"
      ],
      "text/plain": [
       "                state  guests  beds property_type  rating  n_reviews  \\\n",
       "id                                                                     \n",
       "BF1406       Illinois       2     1     Apartment    96.0         55   \n",
       "DB7921  MASSACHUSETTS       4     1     Apartment     NaN          0   \n",
       "OZ5857       ILLINOIS       4     3     Apartment   100.0         51   \n",
       "\n",
       "                  location  price neighborhood      city  \n",
       "id                                                        \n",
       "BF1406  Avondale, Chicago.     48     Avondale   Chicago  \n",
       "DB7921  South End, Boston.    115    South End    Boston  \n",
       "OZ5857  Avondale, Chicago.    150     Avondale   Chicago  "
      ]
     },
     "metadata": {},
     "output_type": "display_data"
    }
   ],
   "source": [
    "airbnb_df.head(3)"
   ]
  },
  {
   "cell_type": "code",
   "execution_count": null,
   "metadata": {},
   "outputs": [
    {
     "data": {
      "text/html": [
       "<div>\n",
       "<style scoped>\n",
       "    .dataframe tbody tr th:only-of-type {\n",
       "        vertical-align: middle;\n",
       "    }\n",
       "\n",
       "    .dataframe tbody tr th {\n",
       "        vertical-align: top;\n",
       "    }\n",
       "\n",
       "    .dataframe thead th {\n",
       "        text-align: right;\n",
       "    }\n",
       "</style>\n",
       "<table border=\"1\" class=\"dataframe\">\n",
       "  <thead>\n",
       "    <tr style=\"text-align: right;\">\n",
       "      <th></th>\n",
       "      <th>state</th>\n",
       "      <th>guests</th>\n",
       "      <th>beds</th>\n",
       "      <th>property_type</th>\n",
       "      <th>rating</th>\n",
       "      <th>n_reviews</th>\n",
       "      <th>price</th>\n",
       "      <th>neighborhood</th>\n",
       "      <th>city</th>\n",
       "    </tr>\n",
       "    <tr>\n",
       "      <th>id</th>\n",
       "      <th></th>\n",
       "      <th></th>\n",
       "      <th></th>\n",
       "      <th></th>\n",
       "      <th></th>\n",
       "      <th></th>\n",
       "      <th></th>\n",
       "      <th></th>\n",
       "      <th></th>\n",
       "    </tr>\n",
       "  </thead>\n",
       "  <tbody>\n",
       "    <tr>\n",
       "      <th>BF1406</th>\n",
       "      <td>Illinois</td>\n",
       "      <td>2</td>\n",
       "      <td>1</td>\n",
       "      <td>Apartment</td>\n",
       "      <td>96.0</td>\n",
       "      <td>55</td>\n",
       "      <td>48</td>\n",
       "      <td>Avondale</td>\n",
       "      <td>Chicago</td>\n",
       "    </tr>\n",
       "    <tr>\n",
       "      <th>DB7921</th>\n",
       "      <td>MASSACHUSETTS</td>\n",
       "      <td>4</td>\n",
       "      <td>1</td>\n",
       "      <td>Apartment</td>\n",
       "      <td>NaN</td>\n",
       "      <td>0</td>\n",
       "      <td>115</td>\n",
       "      <td>South End</td>\n",
       "      <td>Boston</td>\n",
       "    </tr>\n",
       "    <tr>\n",
       "      <th>OZ5857</th>\n",
       "      <td>ILLINOIS</td>\n",
       "      <td>4</td>\n",
       "      <td>3</td>\n",
       "      <td>Apartment</td>\n",
       "      <td>100.0</td>\n",
       "      <td>51</td>\n",
       "      <td>150</td>\n",
       "      <td>Avondale</td>\n",
       "      <td>Chicago</td>\n",
       "    </tr>\n",
       "  </tbody>\n",
       "</table>\n",
       "</div>"
      ],
      "text/plain": [
       "                state  guests  beds property_type  rating  n_reviews  price  \\\n",
       "id                                                                            \n",
       "BF1406       Illinois       2     1     Apartment    96.0         55     48   \n",
       "DB7921  MASSACHUSETTS       4     1     Apartment     NaN          0    115   \n",
       "OZ5857       ILLINOIS       4     3     Apartment   100.0         51    150   \n",
       "\n",
       "       neighborhood      city  \n",
       "id                             \n",
       "BF1406     Avondale   Chicago  \n",
       "DB7921    South End    Boston  \n",
       "OZ5857     Avondale   Chicago  "
      ]
     },
     "metadata": {},
     "output_type": "display_data"
    }
   ],
   "source": [
    "# 행방향 삭제 axis=0 / 열방향 삭제 axis=1\n",
    "airbnb_df = airbnb_df.drop('location', axis=1)\n",
    "airbnb_df.head(3)"
   ]
  },
  {
   "cell_type": "markdown",
   "metadata": {},
   "source": [
    "---"
   ]
  },
  {
   "cell_type": "markdown",
   "metadata": {},
   "source": [
    "## 불필요한 문자 제거하기"
   ]
  },
  {
   "cell_type": "markdown",
   "metadata": {},
   "source": [
    "### 개념\n",
    "문자열에 공백이나 문장부호등 불필요한 문자 제거"
   ]
  },
  {
   "cell_type": "code",
   "execution_count": null,
   "metadata": {},
   "outputs": [
    {
     "data": {
      "text/html": [
       "<div>\n",
       "<style scoped>\n",
       "    .dataframe tbody tr th:only-of-type {\n",
       "        vertical-align: middle;\n",
       "    }\n",
       "\n",
       "    .dataframe tbody tr th {\n",
       "        vertical-align: top;\n",
       "    }\n",
       "\n",
       "    .dataframe thead th {\n",
       "        text-align: right;\n",
       "    }\n",
       "</style>\n",
       "<table border=\"1\" class=\"dataframe\">\n",
       "  <thead>\n",
       "    <tr style=\"text-align: right;\">\n",
       "      <th></th>\n",
       "      <th>id</th>\n",
       "      <th>state</th>\n",
       "      <th>guests</th>\n",
       "      <th>beds</th>\n",
       "      <th>property_type</th>\n",
       "      <th>rating</th>\n",
       "      <th>n_reviews</th>\n",
       "      <th>price</th>\n",
       "      <th>neighborhood</th>\n",
       "      <th>city</th>\n",
       "    </tr>\n",
       "  </thead>\n",
       "  <tbody>\n",
       "    <tr>\n",
       "      <th>0</th>\n",
       "      <td>BF1406</td>\n",
       "      <td>Illinois</td>\n",
       "      <td>2</td>\n",
       "      <td>1</td>\n",
       "      <td>Apartment</td>\n",
       "      <td>96.0</td>\n",
       "      <td>55</td>\n",
       "      <td>48</td>\n",
       "      <td>Avondale</td>\n",
       "      <td>Chicago.</td>\n",
       "    </tr>\n",
       "    <tr>\n",
       "      <th>1</th>\n",
       "      <td>DB7921</td>\n",
       "      <td>MASSACHUSETTS</td>\n",
       "      <td>4</td>\n",
       "      <td>1</td>\n",
       "      <td>Apartment</td>\n",
       "      <td>NaN</td>\n",
       "      <td>0</td>\n",
       "      <td>115</td>\n",
       "      <td>South End</td>\n",
       "      <td>Boston.</td>\n",
       "    </tr>\n",
       "    <tr>\n",
       "      <th>2</th>\n",
       "      <td>OZ5857</td>\n",
       "      <td>ILLINOIS</td>\n",
       "      <td>4</td>\n",
       "      <td>3</td>\n",
       "      <td>Apartment</td>\n",
       "      <td>100.0</td>\n",
       "      <td>51</td>\n",
       "      <td>150</td>\n",
       "      <td>Avondale</td>\n",
       "      <td>Chicago.</td>\n",
       "    </tr>\n",
       "  </tbody>\n",
       "</table>\n",
       "</div>"
      ],
      "text/plain": [
       "       id          state  guests  beds property_type  rating  n_reviews  \\\n",
       "0  BF1406       Illinois       2     1     Apartment    96.0         55   \n",
       "1  DB7921  MASSACHUSETTS       4     1     Apartment     NaN          0   \n",
       "2  OZ5857       ILLINOIS       4     3     Apartment   100.0         51   \n",
       "\n",
       "   price neighborhood       city  \n",
       "0     48     Avondale   Chicago.  \n",
       "1    115    South End    Boston.  \n",
       "2    150     Avondale   Chicago.  "
      ]
     },
     "metadata": {},
     "output_type": "display_data"
    }
   ],
   "source": [
    "import pandas as pd\n",
    "\n",
    "# 에어비앤비 데이터 불러오기\n",
    "airbnb_df = pd.read_csv('./data/airbnb.csv')\n",
    "airbnb_df['neighborhood'] = airbnb_df['location'].str.split(',').str[0]\n",
    "airbnb_df['city'] = airbnb_df['location'].str.split(',').str[1]\n",
    "airbnb_df = airbnb_df.drop('location', axis=1)\n",
    "airbnb_df.head(3)"
   ]
  },
  {
   "cell_type": "markdown",
   "metadata": {},
   "source": [
    "### 방법\n",
    "#### 1. 앞뒤 공백 제거 : `strip()`"
   ]
  },
  {
   "cell_type": "code",
   "execution_count": null,
   "metadata": {},
   "outputs": [
    {
     "data": {
      "text/plain": [
       "array([' Chicago.', ' Boston.', ' San Francisco.', ' Los Angeles.'],\n",
       "      dtype=object)"
      ]
     },
     "metadata": {},
     "output_type": "display_data"
    }
   ],
   "source": [
    "airbnb_df['city'].unique()"
   ]
  },
  {
   "cell_type": "code",
   "execution_count": null,
   "metadata": {},
   "outputs": [
    {
     "data": {
      "text/plain": [
       "0             Chicago\n",
       "1              Boston\n",
       "2             Chicago\n",
       "3       San Francisco\n",
       "4              Boston\n",
       "            ...      \n",
       "708       Los Angeles\n",
       "709       Los Angeles\n",
       "710       Los Angeles\n",
       "711           Chicago\n",
       "712            Boston\n",
       "Name: city, Length: 713, dtype: object"
      ]
     },
     "metadata": {},
     "output_type": "display_data"
    }
   ],
   "source": [
    "airbnb_df['city'] = airbnb_df['city'].str.strip('.')\n",
    "airbnb_df['city']"
   ]
  },
  {
   "cell_type": "markdown",
   "metadata": {},
   "source": [
    "### 2. 문자 바꾸기 : `replace()`\n",
    "- regex=False를 설정하면 단순한 문자 치환 가능"
   ]
  },
  {
   "cell_type": "code",
   "execution_count": null,
   "metadata": {},
   "outputs": [
    {
     "data": {
      "text/plain": [
       "0             Chicago\n",
       "1              Boston\n",
       "2             Chicago\n",
       "3       San Francisco\n",
       "4              Boston\n",
       "            ...      \n",
       "708       Los Angeles\n",
       "709       Los Angeles\n",
       "710       Los Angeles\n",
       "711           Chicago\n",
       "712            Boston\n",
       "Name: city, Length: 713, dtype: object"
      ]
     },
     "metadata": {},
     "output_type": "display_data"
    }
   ],
   "source": [
    "airbnb_df['city'] = airbnb_df['city'].str.replace('.',\"\",regex=False)\n",
    "airbnb_df['city']"
   ]
  },
  {
   "cell_type": "markdown",
   "metadata": {},
   "source": [
    "* 정규표현식 : `regex`(regular expression)\n",
    "    - True : 기본값, 정규표현식으로 특정 패턴 처리 가능\n",
    "    - False : 정규표현식 사용 X, 단순 문자 치환만"
   ]
  },
  {
   "cell_type": "markdown",
   "metadata": {},
   "source": [
    "---"
   ]
  },
  {
   "cell_type": "markdown",
   "metadata": {},
   "source": [
    "## 새로운 값 계산하기"
   ]
  },
  {
   "cell_type": "markdown",
   "metadata": {},
   "source": [
    "### 1. 허리-엉덩이 비율 계산하기\n",
    "- dataframe의 값을 사용하여 사칙 연산을 통해 새로운 컬럼 생성"
   ]
  },
  {
   "cell_type": "code",
   "execution_count": null,
   "metadata": {},
   "outputs": [],
   "source": [
    "import pandas as pd\n",
    "\n",
    "patient_df = pd.read_csv(\"./data/patient.csv\")"
   ]
  },
  {
   "cell_type": "code",
   "execution_count": null,
   "metadata": {},
   "outputs": [
    {
     "data": {
      "text/html": [
       "<div>\n",
       "<style scoped>\n",
       "    .dataframe tbody tr th:only-of-type {\n",
       "        vertical-align: middle;\n",
       "    }\n",
       "\n",
       "    .dataframe tbody tr th {\n",
       "        vertical-align: top;\n",
       "    }\n",
       "\n",
       "    .dataframe thead th {\n",
       "        text-align: right;\n",
       "    }\n",
       "</style>\n",
       "<table border=\"1\" class=\"dataframe\">\n",
       "  <thead>\n",
       "    <tr style=\"text-align: right;\">\n",
       "      <th></th>\n",
       "      <th>age</th>\n",
       "      <th>sex</th>\n",
       "      <th>glucose</th>\n",
       "      <th>cholesterol</th>\n",
       "      <th>height</th>\n",
       "      <th>weight</th>\n",
       "      <th>hip</th>\n",
       "      <th>waist</th>\n",
       "      <th>diabetes</th>\n",
       "    </tr>\n",
       "  </thead>\n",
       "  <tbody>\n",
       "    <tr>\n",
       "      <th>0</th>\n",
       "      <td>50</td>\n",
       "      <td>Male</td>\n",
       "      <td>385</td>\n",
       "      <td>140</td>\n",
       "      <td>1.75</td>\n",
       "      <td>78.0</td>\n",
       "      <td>41</td>\n",
       "      <td>37</td>\n",
       "      <td>Y</td>\n",
       "    </tr>\n",
       "    <tr>\n",
       "      <th>1</th>\n",
       "      <td>37</td>\n",
       "      <td>Female</td>\n",
       "      <td>67</td>\n",
       "      <td>214</td>\n",
       "      <td>1.63</td>\n",
       "      <td>65.8</td>\n",
       "      <td>42</td>\n",
       "      <td>34</td>\n",
       "      <td>N</td>\n",
       "    </tr>\n",
       "    <tr>\n",
       "      <th>2</th>\n",
       "      <td>43</td>\n",
       "      <td>Female</td>\n",
       "      <td>100</td>\n",
       "      <td>160</td>\n",
       "      <td>1.63</td>\n",
       "      <td>63.5</td>\n",
       "      <td>40</td>\n",
       "      <td>37</td>\n",
       "      <td>N</td>\n",
       "    </tr>\n",
       "  </tbody>\n",
       "</table>\n",
       "</div>"
      ],
      "text/plain": [
       "   age     sex  glucose  cholesterol  height  weight  hip  waist diabetes\n",
       "0   50    Male      385          140    1.75    78.0   41     37        Y\n",
       "1   37  Female       67          214    1.63    65.8   42     34        N\n",
       "2   43  Female      100          160    1.63    63.5   40     37        N"
      ]
     },
     "metadata": {},
     "output_type": "display_data"
    }
   ],
   "source": [
    "patient_df.head(3)"
   ]
  },
  {
   "cell_type": "code",
   "execution_count": null,
   "metadata": {},
   "outputs": [
    {
     "name": "stdout",
     "output_type": "stream",
     "text": [
      "<class 'pandas.core.frame.DataFrame'>\n",
      "RangeIndex: 348 entries, 0 to 347\n",
      "Data columns (total 9 columns):\n",
      " #   Column       Non-Null Count  Dtype  \n",
      "---  ------       --------------  -----  \n",
      " 0   age          348 non-null    int64  \n",
      " 1   sex          348 non-null    object \n",
      " 2   glucose      348 non-null    int64  \n",
      " 3   cholesterol  348 non-null    int64  \n",
      " 4   height       348 non-null    float64\n",
      " 5   weight       348 non-null    float64\n",
      " 6   hip          348 non-null    int64  \n",
      " 7   waist        348 non-null    int64  \n",
      " 8   diabetes     348 non-null    object \n",
      "dtypes: float64(2), int64(5), object(2)\n",
      "memory usage: 24.6+ KB\n"
     ]
    }
   ],
   "source": [
    "patient_df.info()"
   ]
  },
  {
   "cell_type": "code",
   "execution_count": null,
   "metadata": {},
   "outputs": [
    {
     "data": {
      "text/html": [
       "<div>\n",
       "<style scoped>\n",
       "    .dataframe tbody tr th:only-of-type {\n",
       "        vertical-align: middle;\n",
       "    }\n",
       "\n",
       "    .dataframe tbody tr th {\n",
       "        vertical-align: top;\n",
       "    }\n",
       "\n",
       "    .dataframe thead th {\n",
       "        text-align: right;\n",
       "    }\n",
       "</style>\n",
       "<table border=\"1\" class=\"dataframe\">\n",
       "  <thead>\n",
       "    <tr style=\"text-align: right;\">\n",
       "      <th></th>\n",
       "      <th>age</th>\n",
       "      <th>glucose</th>\n",
       "      <th>cholesterol</th>\n",
       "      <th>height</th>\n",
       "      <th>weight</th>\n",
       "      <th>hip</th>\n",
       "      <th>waist</th>\n",
       "    </tr>\n",
       "  </thead>\n",
       "  <tbody>\n",
       "    <tr>\n",
       "      <th>0</th>\n",
       "      <td>50</td>\n",
       "      <td>385</td>\n",
       "      <td>140</td>\n",
       "      <td>1.75</td>\n",
       "      <td>78.0</td>\n",
       "      <td>41</td>\n",
       "      <td>37</td>\n",
       "    </tr>\n",
       "    <tr>\n",
       "      <th>1</th>\n",
       "      <td>37</td>\n",
       "      <td>67</td>\n",
       "      <td>214</td>\n",
       "      <td>1.63</td>\n",
       "      <td>65.8</td>\n",
       "      <td>42</td>\n",
       "      <td>34</td>\n",
       "    </tr>\n",
       "    <tr>\n",
       "      <th>2</th>\n",
       "      <td>43</td>\n",
       "      <td>100</td>\n",
       "      <td>160</td>\n",
       "      <td>1.63</td>\n",
       "      <td>63.5</td>\n",
       "      <td>40</td>\n",
       "      <td>37</td>\n",
       "    </tr>\n",
       "    <tr>\n",
       "      <th>3</th>\n",
       "      <td>32</td>\n",
       "      <td>90</td>\n",
       "      <td>176</td>\n",
       "      <td>1.60</td>\n",
       "      <td>114.3</td>\n",
       "      <td>58</td>\n",
       "      <td>45</td>\n",
       "    </tr>\n",
       "    <tr>\n",
       "      <th>4</th>\n",
       "      <td>20</td>\n",
       "      <td>71</td>\n",
       "      <td>164</td>\n",
       "      <td>1.83</td>\n",
       "      <td>65.8</td>\n",
       "      <td>36</td>\n",
       "      <td>29</td>\n",
       "    </tr>\n",
       "    <tr>\n",
       "      <th>...</th>\n",
       "      <td>...</td>\n",
       "      <td>...</td>\n",
       "      <td>...</td>\n",
       "      <td>...</td>\n",
       "      <td>...</td>\n",
       "      <td>...</td>\n",
       "      <td>...</td>\n",
       "    </tr>\n",
       "    <tr>\n",
       "      <th>343</th>\n",
       "      <td>40</td>\n",
       "      <td>87</td>\n",
       "      <td>218</td>\n",
       "      <td>1.85</td>\n",
       "      <td>90.7</td>\n",
       "      <td>41</td>\n",
       "      <td>38</td>\n",
       "    </tr>\n",
       "    <tr>\n",
       "      <th>344</th>\n",
       "      <td>66</td>\n",
       "      <td>174</td>\n",
       "      <td>188</td>\n",
       "      <td>1.73</td>\n",
       "      <td>95.3</td>\n",
       "      <td>48</td>\n",
       "      <td>45</td>\n",
       "    </tr>\n",
       "    <tr>\n",
       "      <th>345</th>\n",
       "      <td>31</td>\n",
       "      <td>69</td>\n",
       "      <td>183</td>\n",
       "      <td>1.68</td>\n",
       "      <td>86.2</td>\n",
       "      <td>47</td>\n",
       "      <td>41</td>\n",
       "    </tr>\n",
       "    <tr>\n",
       "      <th>346</th>\n",
       "      <td>44</td>\n",
       "      <td>84</td>\n",
       "      <td>202</td>\n",
       "      <td>1.73</td>\n",
       "      <td>71.2</td>\n",
       "      <td>37</td>\n",
       "      <td>33</td>\n",
       "    </tr>\n",
       "    <tr>\n",
       "      <th>347</th>\n",
       "      <td>40</td>\n",
       "      <td>85</td>\n",
       "      <td>169</td>\n",
       "      <td>1.65</td>\n",
       "      <td>81.6</td>\n",
       "      <td>44</td>\n",
       "      <td>40</td>\n",
       "    </tr>\n",
       "  </tbody>\n",
       "</table>\n",
       "<p>348 rows × 7 columns</p>\n",
       "</div>"
      ],
      "text/plain": [
       "     age  glucose  cholesterol  height  weight  hip  waist\n",
       "0     50      385          140    1.75    78.0   41     37\n",
       "1     37       67          214    1.63    65.8   42     34\n",
       "2     43      100          160    1.63    63.5   40     37\n",
       "3     32       90          176    1.60   114.3   58     45\n",
       "4     20       71          164    1.83    65.8   36     29\n",
       "..   ...      ...          ...     ...     ...  ...    ...\n",
       "343   40       87          218    1.85    90.7   41     38\n",
       "344   66      174          188    1.73    95.3   48     45\n",
       "345   31       69          183    1.68    86.2   47     41\n",
       "346   44       84          202    1.73    71.2   37     33\n",
       "347   40       85          169    1.65    81.6   44     40\n",
       "\n",
       "[348 rows x 7 columns]"
      ]
     },
     "metadata": {},
     "output_type": "display_data"
    }
   ],
   "source": [
    "# 특정 형식 데이터만 추출\n",
    "patient_df.select_dtypes(include=['int64','float64'])"
   ]
  },
  {
   "cell_type": "code",
   "execution_count": null,
   "metadata": {},
   "outputs": [
    {
     "data": {
      "text/html": [
       "<div>\n",
       "<style scoped>\n",
       "    .dataframe tbody tr th:only-of-type {\n",
       "        vertical-align: middle;\n",
       "    }\n",
       "\n",
       "    .dataframe tbody tr th {\n",
       "        vertical-align: top;\n",
       "    }\n",
       "\n",
       "    .dataframe thead th {\n",
       "        text-align: right;\n",
       "    }\n",
       "</style>\n",
       "<table border=\"1\" class=\"dataframe\">\n",
       "  <thead>\n",
       "    <tr style=\"text-align: right;\">\n",
       "      <th></th>\n",
       "      <th>waist_hip_ratio</th>\n",
       "    </tr>\n",
       "  </thead>\n",
       "  <tbody>\n",
       "    <tr>\n",
       "      <th>0</th>\n",
       "      <td>0.90</td>\n",
       "    </tr>\n",
       "    <tr>\n",
       "      <th>1</th>\n",
       "      <td>0.81</td>\n",
       "    </tr>\n",
       "    <tr>\n",
       "      <th>2</th>\n",
       "      <td>0.92</td>\n",
       "    </tr>\n",
       "    <tr>\n",
       "      <th>3</th>\n",
       "      <td>0.78</td>\n",
       "    </tr>\n",
       "    <tr>\n",
       "      <th>4</th>\n",
       "      <td>0.81</td>\n",
       "    </tr>\n",
       "    <tr>\n",
       "      <th>...</th>\n",
       "      <td>...</td>\n",
       "    </tr>\n",
       "    <tr>\n",
       "      <th>343</th>\n",
       "      <td>0.93</td>\n",
       "    </tr>\n",
       "    <tr>\n",
       "      <th>344</th>\n",
       "      <td>0.94</td>\n",
       "    </tr>\n",
       "    <tr>\n",
       "      <th>345</th>\n",
       "      <td>0.87</td>\n",
       "    </tr>\n",
       "    <tr>\n",
       "      <th>346</th>\n",
       "      <td>0.89</td>\n",
       "    </tr>\n",
       "    <tr>\n",
       "      <th>347</th>\n",
       "      <td>0.91</td>\n",
       "    </tr>\n",
       "  </tbody>\n",
       "</table>\n",
       "<p>348 rows × 1 columns</p>\n",
       "</div>"
      ],
      "text/plain": [
       "     waist_hip_ratio\n",
       "0               0.90\n",
       "1               0.81\n",
       "2               0.92\n",
       "3               0.78\n",
       "4               0.81\n",
       "..               ...\n",
       "343             0.93\n",
       "344             0.94\n",
       "345             0.87\n",
       "346             0.89\n",
       "347             0.91\n",
       "\n",
       "[348 rows x 1 columns]"
      ]
     },
     "metadata": {},
     "output_type": "display_data"
    }
   ],
   "source": [
    "# Series도 numpy 기반이기 때문에 그대로 연산 가능\n",
    "patient_df['waist_hip_ratio'] = round((patient_df['waist'] / patient_df['hip']),2)\n",
    "patient_df[['waist_hip_ratio']]"
   ]
  },
  {
   "cell_type": "code",
   "execution_count": null,
   "metadata": {},
   "outputs": [
    {
     "data": {
      "text/plain": [
       "30.88235294117647"
      ]
     },
     "metadata": {},
     "output_type": "display_data"
    }
   ],
   "source": [
    "#성별별 비만율\n",
    "gender_whr_df = patient_df[['sex','waist_hip_ratio']]\n",
    "male_df = gender_whr_df[gender_whr_df['sex'] == 'Male']\n",
    "female_df = gender_whr_df[gender_whr_df['sex'] == 'Female']\n",
    "\n",
    "len(male_df[male_df['waist_hip_ratio'] >= 0.9]) / len(male_df) * 100\n",
    "len(female_df[female_df['waist_hip_ratio'] >= 0.9]) / len(female_df) * 100"
   ]
  }
 ],
 "metadata": {
  "language_info": {
   "name": "python"
  }
 },
 "nbformat": 4,
 "nbformat_minor": 2
}
