{
 "cells": [
  {
   "cell_type": "markdown",
   "metadata": {},
   "source": [
    "# GIT"
   ]
  },
  {
   "cell_type": "markdown",
   "metadata": {},
   "source": [
    "### 1) GIT/GITHUB 란?\n",
    "#### GIT이란?\n",
    "- 코드 버전 관리 프로그램(소프트웨어)\n",
    "- 동시 협업을 가능하게한다.\n",
    "- 다른 컴퓨터에 작업물 보내기(공유) 가능\n",
    "\n",
    "#### GITHUB란?\n",
    "- 버전관리 프로그램의 HUB\n",
    "- 저장소를 빌려줌\n",
    "- GIT이라는 프로그램을 통해 외부 저장소로 업로드할 수 있게 하는 원격 저장소\n",
    "\n",
    "#### 버전 관리\n",
    "1) 지난 버전 확인 가능\n",
    "2) 이전 버전으로 롤백 가능\n",
    "---"
   ]
  },
  {
   "cell_type": "markdown",
   "metadata": {},
   "source": [
    "### 2) 레포지토리와 커밋\n"
   ]
  },
  {
   "cell_type": "markdown",
   "metadata": {},
   "source": [
    "#### 레포지토리(repository)\n",
    "- 커밋들의 저장소\n",
    "- 프로젝트 디렉토리 안에 버전 저장, 시점에 따라서 저장되는 저장소가 `레포지토리`\n",
    "- 엄밀히 말하면 `.git` 이 레포지토리\n",
    "1) 로컬 레포지토리 : 로컬 환경에서 만든 저장소(내 컴퓨터에서 만든 저장소)\n",
    "2) 리모트 레포지토리 : git hub에서 만든 저장소(원격 환경에서 만든 저장소)"
   ]
  },
  {
   "cell_type": "markdown",
   "metadata": {},
   "source": [
    "#### 레포지토리 만들기\n",
    "- 프로젝트 디렉토리(폴더) 만들기\n",
    "- 터미널 오픈\n",
    "- 해당 프로젝트 디렉토리로 이동(cd 프로젝트 디렉토리명)\n",
    "- git init"
   ]
  },
  {
   "cell_type": "markdown",
   "metadata": {},
   "source": [
    "#### 커밋(Commit)\n",
    "- 프로젝트 디렉토리의 특정 목습을 하나의 버전으로 남기는 행위 & 결과물\n",
    "- 저장하고 싶은 시점을 저장하는 것을 커밋이라고 한다. \n",
    "- 결과물과 액션 모두 커밋이라고 부름\n",
    "---"
   ]
  },
  {
   "cell_type": "markdown",
   "metadata": {},
   "source": [
    "### 3) 커밋하기\n",
    "과정\n",
    "~~~python\n",
    "- git config user.name \"유저명\" #처음으로 커밋 할 때만\n",
    "- git config user.email \"이메일\" #처음으로 커밋 할 때만\n",
    "- git commit -m \"커밋 메시지\"\n",
    "- git add 파일  #커밋할 대상 지정(여러개 가능, 파일마다 git add 해주면 됨)\n",
    "- git commit -m \"커밋 메시지\"\n",
    "~~~\n",
    "\n",
    "단계\n",
    "- working directory(프로젝트 디렉토리) > staging area(git add 커맨드한 파일이 존재) > repository(커밋들이 저장되는 저장소)\n",
    "- staging area 존재 이유 : 여러 개의 파일을 작업하고 커밋할 때, 선별적으로 커밋하기 위해 \n",
    "- staging area : index라고도 함\n",
    "- working directroy = working tree\n",
    "\n",
    "\n",
    "용어\n",
    "- root commit : 첫 커밋(최상위 커밋)"
   ]
  },
  {
   "cell_type": "markdown",
   "metadata": {},
   "source": [
    "#### GIT ADD 자세히 알아보기"
   ]
  },
  {
   "cell_type": "markdown",
   "metadata": {},
   "source": [
    "- git status 실행시, 수정 사항 / 커밋 대상 지정 여부(staging area에 올라왔는지 여부) 사항 보여줌\n",
    "- 디렉토리도 파일처럼 git add할 수 있음\n",
    "- 한 파일도 수정사항에 따라 여러번 git add된것도 안된것도 존재할 수 있다.\n",
    "- 한번에 git add하는 방법\n",
    "    - git add . : 같은 파일안에 있는 것 전부 git add\n",
    "- `working tree clean` : 우리가 작업한 파일과 커밋한 파일이 하나도 다른 것이 없다."
   ]
  },
  {
   "cell_type": "markdown",
   "metadata": {},
   "source": [
    "#### git이 보는 4가지 상태\n",
    "1) untracked 회색\n",
    "2) tracked\n",
    "    - <font color=\"green\">unmodified</font> : (수정이 안된 상태) staging이 됐는데 가장 최근에 커밋한 파일과 비교해서 다른것이 없는 상태\n",
    "    - <font color=\"orange\">modified</font> : (무언가 수정이 된 상태) staging이 됐는데 가장 최근에 커밋한 파일과 비교해서 다른 것이 있는 상태\n",
    "    - <font color=\"red\">staged</font> : staging area에 올라와 있는 상태 / staging 됐다고 표현(변동사항이 발생한 부분을 git add를 했다)\n",
    "\n",
    "추적? 파일 변동사항이 추적되지 않는다. / staging area에 올라와야 버전 관리자의 관리를 받기 시작해서 추적 가능해진다."
   ]
  },
  {
   "cell_type": "markdown",
   "metadata": {},
   "source": [
    "#### GIT ADD 삭제하기\n",
    "- git reset [파일명]\n",
    "- modified 에서 ummodified로 변경됨"
   ]
  },
  {
   "cell_type": "markdown",
   "metadata": {},
   "source": [
    "#### 커밋 히스토리 보기\n",
    "- git log\n",
    "- git log pretty=oneline\n",
    "- git show [커밋ID]"
   ]
  },
  {
   "cell_type": "markdown",
   "metadata": {},
   "source": [
    "#### 두 커밋 간의 차이 보기: DIFF\n",
    "- git diff `이전 커밋 ID` `이후 커밋 ID`"
   ]
  },
  {
   "cell_type": "markdown",
   "metadata": {},
   "source": [
    "#### HEAD의 의미\n",
    "--"
   ]
  },
  {
   "cell_type": "markdown",
   "metadata": {},
   "source": [
    "---"
   ]
  },
  {
   "cell_type": "markdown",
   "metadata": {},
   "source": [
    "## 기타"
   ]
  },
  {
   "cell_type": "markdown",
   "metadata": {},
   "source": [
    "#### 주요 GIT 커맨드 정리\n",
    "- git init : 현재 디렉토리를 Git이 관리하는 프로젝트 디렉토리(=working directory)로 설정하고 그 안에 레포지토리(.git 디렉토리) 생성\n",
    "- git config user.name 'codeit' : 현재 사용자의 아이디를 'codeit'으로 설정(커밋할 때 필요한 정보)\n",
    "- git config user.email 'teacher@codeit.kr' : 현재 사용자의 이메일 주소를 'teacher@codeit.kr'로 설정(커밋할 때 필요한 정보)\n",
    "- git add [파일 이름] : 수정사항이 있는 특정 파일을 staging area에 올리기\n",
    "- git add [디렉토리명] : 해당 디렉토리 내에서 수정사항이 있는 모든 파일들을 staging area에 올리기\n",
    "- git add . : working directory 내의 수정사항이 있는 모든 파일들을 staging area에 올리기\n",
    "- git reset [파일 이름] : staging area에 올렸던 파일 다시 내리기\n",
    "- git status : Git이 현재 인식하고 있는 프로젝트 관련 내용들 출력(문제 상황이 발생했을 때 현재 상태를 파악하기 위해 활용하면 좋음)\n",
    "- git commit -m \"커밋 메시지\" : 현재 staging area에 있는 것들 커밋으로 남기기\n",
    "- git help [커맨드 이름] : 사용법이 궁금한 Git 커맨드의 공식 메뉴얼 내용 출력\n",
    "- git push -u origin master : 로컬 레포지토리의 내용을 처음으로 리모트 레포지토리에 올릴 때 사용합니다.(-u origin master가 무슨 뜻인지는 'Git에서 브랜치 사용하기' 챕터에서 배울 거니까 걱정마세요!)\n",
    "- git push : 로컬 레포지토리의 내용을 리모트 레포지토리에 보내기\n",
    "- git pull : 리모트 레포지토리의 내용을 로컬 레포지토리로 가져오기\n",
    "- git clone [프로젝트의 GitHub 상 주소] : GitHub에 있는 프로젝트를 내 컴퓨터로 가져오기\n",
    "- git commit --amend : 가장 최근 커밋 수정\n",
    "- git config alias.[별칭] [별칭 지정할 원래 코드] : 코드에 별칭 지정하기"
   ]
  },
  {
   "cell_type": "markdown",
   "metadata": {},
   "source": [
    "#### 커밋 생성, 커밋 메시지 작성 가이드라인 노트\n",
    "1. 커밋의 제목과 상세 내용은 한줄 띄어쓰기\n",
    "2. 제목 뒤에는 마침표를 찍지 않는다.\n",
    "3. 제목의 첫번째는 대문자로 작성\n",
    "4. 제목은 명령조로 작성\n",
    "5. 상세 내용에는 다음과 같은 내용 작성 권장\n",
    "    - 왜 커밋을 했고\n",
    "    - 어떤 문제가 있었고\n",
    "    - 적용한 해결책이 어떤 효과를 가지는지\n",
    "6. 다른 사람들이 내 코드를 바로 이해할 수 있다고 가정하지말고 최대한 친절하게 작성한다.\n",
    "7. 커밋 하나당 기능 한개 권장 / 커밋 하나당 하나의 문제 해결한 것만 작성\n",
    "8. 커밋할 떄 워킹 디렉토리에 에러가 있으면 안된다.(커밋한 파일에는 에러가 없이 실행되어야 한다.)"
   ]
  }
 ],
 "metadata": {
  "language_info": {
   "name": "python"
  }
 },
 "nbformat": 4,
 "nbformat_minor": 2
}
