{
 "cells": [
  {
   "cell_type": "markdown",
   "metadata": {},
   "source": [
    "# 반복문 (for / while)"
   ]
  },
  {
   "cell_type": "code",
   "execution_count": 2,
   "metadata": {},
   "outputs": [
    {
     "name": "stdout",
     "output_type": "stream",
     "text": [
      "while문을 반복 실행한다.\n",
      "while문을 반복 실행한다.\n",
      "while문을 반복 실행한다.\n",
      "while문을 반복 실행한다.\n"
     ]
    }
   ],
   "source": [
    "Lifes = 4\n",
    "\n",
    "while (Lifes > 0):\n",
    "    Lifes -= 1\n",
    "    print(\"while문을 반복 실행한다.\")"
   ]
  },
  {
   "cell_type": "code",
   "execution_count": 3,
   "metadata": {},
   "outputs": [
    {
     "name": "stdout",
     "output_type": "stream",
     "text": [
      "while문을 반복 실행한다.\n",
      "while문을 반복 실행한다.\n",
      "while문을 반복 실행한다.\n",
      "while문을 반복 실행한다.\n"
     ]
    }
   ],
   "source": [
    "Lifes = 4\n",
    "\n",
    "while True:\n",
    "    Lifes -= 1\n",
    "    print(\"while문을 반복 실행한다.\")\n",
    "\n",
    "    if Lifes == 0:\n",
    "        break"
   ]
  },
  {
   "cell_type": "code",
   "execution_count": 6,
   "metadata": {},
   "outputs": [
    {
     "name": "stdout",
     "output_type": "stream",
     "text": [
      "반복\n",
      "반복\n",
      "반복\n"
     ]
    }
   ],
   "source": [
    "Lifes = 4\n",
    "\n",
    "for i in range(1, Lifes): #range(a,b)는 a이상 b미만이라는 뜻\n",
    "    print(\"반복\")\n",
    "    Lifes -= 1\n",
    "    if Lifes < 0:\n",
    "        break"
   ]
  },
  {
   "cell_type": "markdown",
   "metadata": {},
   "source": [
    "### 꿀팁 \n",
    "- command + / => 한번에 주석처리\n",
    "- pass => 오류를 무시해라\n",
    "- 사전 정의할때 {}로만 정의하면 set이랑 헷갈리니까 dict()으로 명확하게 정의해주는 것이 좋다.\n",
    "- option + shift + 방향키 = 해당 코드 복사\n",
    "- command + shift + L = 같은 단어 동시 지정\n",
    "- ctrl + c = 터미널 중지"
   ]
  },
  {
   "cell_type": "markdown",
   "metadata": {},
   "source": [
    "### try, except 구문\n",
    "- 여러개의 except를 통해 에러를 상세히 구분해서 예외처리 가능하다."
   ]
  },
  {
   "cell_type": "code",
   "execution_count": null,
   "metadata": {},
   "outputs": [],
   "source": []
  }
 ],
 "metadata": {
  "language_info": {
   "name": "python"
  }
 },
 "nbformat": 4,
 "nbformat_minor": 2
}
