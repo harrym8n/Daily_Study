{
 "cells": [
  {
   "cell_type": "markdown",
   "metadata": {},
   "source": [
    "## 시간 추적 클래스(TimeTracker)"
   ]
  },
  {
   "cell_type": "code",
   "execution_count": 2,
   "metadata": {},
   "outputs": [
    {
     "name": "stdout",
     "output_type": "stream",
     "text": [
      "공부한 시간: 0 분\n"
     ]
    }
   ],
   "source": [
    "from datetime import datetime\n",
    "import time\n",
    "\n",
    "class TimeTracker:\n",
    "    def start(self):\n",
    "      self.start_time = datetime.now()\n",
    "    \n",
    "    def stop(self):\n",
    "      self.stop_time = datetime.now()\n",
    "    \n",
    "    def get_elapsed_time(self):\n",
    "      diff = self.stop_time - self.start_time\n",
    "      return int(diff.seconds / 60)\n",
    "\n",
    "\n",
    "# 사용 예시\n",
    "if __name__ == \"__main__\":\n",
    "    tracker = TimeTracker()\n",
    "    tracker.start()\n",
    "\n",
    "    # 여기서 실제로 시간을 지연시키려면 time.sleep()을 사용할 수 있지만, 코드 실행을 바로 확인하기 위해 주석 처리함\n",
    "    # time.sleep(186)  # 186초 대기\n",
    "\n",
    "    tracker.stop()\n",
    "    print(f\"공부한 시간: {tracker.get_elapsed_time()} 분\")"
   ]
  },
  {
   "cell_type": "markdown",
   "metadata": {},
   "source": [
    "## 주소록 클래스"
   ]
  },
  {
   "cell_type": "code",
   "execution_count": 1,
   "metadata": {},
   "outputs": [
    {
     "name": "stdout",
     "output_type": "stream",
     "text": [
      "이름: Jane Doe\n",
      "전화번호: 010-1234-5678\n",
      "이메일: jane@example.com\n"
     ]
    }
   ],
   "source": [
    "class Contact:\n",
    "    def __init__(self, name, phone, email):\n",
    "      self.name = name\n",
    "      self.phone = phone\n",
    "      self.email = email\n",
    "\n",
    "    def __str__(self):\n",
    "      return f\"이름: {self.name}\\n전화번호: {self.phone}\\n이메일: {self.email}\"\n",
    "  \n",
    "\n",
    "# 사용 예시\n",
    "if __name__ == \"__main__\":\n",
    "    # 연락처 정보 생성\n",
    "    friend = Contact(\"Jane Doe\", \"010-1234-5678\", \"jane@example.com\")\n",
    "    # 연락처 정보 출력\n",
    "    print(friend)\n"
   ]
  },
  {
   "cell_type": "markdown",
   "metadata": {},
   "source": [
    "## 투표 시스템 클래스"
   ]
  },
  {
   "cell_type": "code",
   "execution_count": 3,
   "metadata": {},
   "outputs": [
    {
     "name": "stdout",
     "output_type": "stream",
     "text": [
      "Alice 후보가 성공적으로 등록되었습니다.\n",
      "Bob 후보가 성공적으로 등록되었습니다.\n",
      "Charlie 후보가 성공적으로 등록되었습니다.\n",
      "Alice: 2 votes\n",
      "Bob: 1 vote\n",
      "Charlie: 0 votes\n"
     ]
    }
   ],
   "source": [
    "class VoteSystem:\n",
    "  def __init__(self):\n",
    "    self.candidate_list = dict()\n",
    "\n",
    "  def add_candidate(self, name): #인스턴스를 받을 수 있는 예약변수 - self / self.속성하려면 init 안에 정의된 인스턴스 변수만 사용 가능함 / self가 아닌 인자는 그냥 인자(인스턴스 변수가 아님) \n",
    "    if name not in self.candidate_list:\n",
    "      self.candidate_list[name] = 0\n",
    "      print(f\"{name} 후보가 성공적으로 등록되었습니다.\")\n",
    "    else:\n",
    "       print(f\"{name} 후보는 이미 등록되어 있습니다.\")\n",
    "    \n",
    "\n",
    "  def vote(self, another_candidate):\n",
    "    if another_candidate in self.candidate_list:\n",
    "      self.candidate_list[another_candidate] += 1 \n",
    "    else:\n",
    "      print(\"등록되지 않은 후보자입니다.\")\n",
    "    \n",
    "  def get_results(self):\n",
    "    i = 0\n",
    "    for candidate in list(self.candidate_list.keys()):\n",
    "      if self.candidate_list[candidate] == 1:\n",
    "        print(f\"{candidate}: {self.candidate_list[candidate]} vote\")\n",
    "      else:\n",
    "        print(f\"{candidate}: {self.candidate_list[candidate]} votes\")\n",
    "\n",
    "\n",
    "\n",
    "# 사용 예시\n",
    "if __name__ == \"__main__\":\n",
    "    voting_system = VoteSystem()\n",
    "    voting_system.add_candidate(\"Alice\")\n",
    "    voting_system.add_candidate(\"Bob\")\n",
    "    voting_system.add_candidate(\"Charlie\")\n",
    "\n",
    "    voting_system.vote(\"Alice\")\n",
    "    voting_system.vote(\"Alice\")\n",
    "    voting_system.vote(\"Bob\")\n",
    "\n",
    "    voting_system.get_results()"
   ]
  },
  {
   "cell_type": "markdown",
   "metadata": {},
   "source": [
    "## 은행 계좌 클래스"
   ]
  },
  {
   "cell_type": "code",
   "execution_count": 4,
   "metadata": {},
   "outputs": [
    {
     "name": "stdout",
     "output_type": "stream",
     "text": [
      "현재 잔액: 130000원\n"
     ]
    }
   ],
   "source": [
    "class BankAccount:\n",
    "    def __init__(self, account_number, account_holder, balance):\n",
    "      self.account_number = account_number\n",
    "      self.account_holder = account_holder\n",
    "      self.balance = balance\n",
    "\n",
    "    def deposit(self, amount):\n",
    "      self.balance += amount\n",
    "    \n",
    "    def withdraw(self, amount):\n",
    "      if self.balance < amount:\n",
    "        print(f\"잔액이 부족합니다!\\n현재 잔액: {self.balance}원\")\n",
    "      else: \n",
    "        self.balance -= amount\n",
    "      \n",
    "    def get_balance(self):\n",
    "      return self.balance\n",
    "\n",
    "\n",
    "\n",
    "# 사용 예시\n",
    "if __name__ == \"__main__\":\n",
    "    my_account = BankAccount(\"123-456-789\", \"김철수\", 100000)\n",
    "    my_account.deposit(50000)\n",
    "    my_account.withdraw(20000)\n",
    "    print(f\"현재 잔액: {my_account.get_balance()}원\")"
   ]
  },
  {
   "cell_type": "markdown",
   "metadata": {},
   "source": [
    "## 직원 관리 클래스"
   ]
  },
  {
   "cell_type": "code",
   "execution_count": 5,
   "metadata": {},
   "outputs": [
    {
     "name": "stdout",
     "output_type": "stream",
     "text": [
      "전체 직원의 평균 급여: 55000.0\n"
     ]
    }
   ],
   "source": [
    "class EmployeeManager:\n",
    "    total_salary = 0\n",
    "    employee_number = 0\n",
    "\n",
    "    def __init__(self, name, salary:float):\n",
    "      self.name = name\n",
    "      self.salary = salary\n",
    "      \n",
    "      EmployeeManager.total_salary += salary\n",
    "      EmployeeManager.employee_number += 1\n",
    "    \n",
    "    @classmethod\n",
    "    def calculate_average_salary(cls):\n",
    "      print(f\"전체 직원의 평균 급여: {cls.total_salary/cls.employee_number}\")\n",
    "\n",
    "# 사용 예시\n",
    "if __name__ == \"__main__\":\n",
    "    emp1 = EmployeeManager(\"홍길동\", 50000)\n",
    "    emp2 = EmployeeManager(\"김철수\", 60000)\n",
    "\n",
    "    EmployeeManager.calculate_average_salary()\n"
   ]
  },
  {
   "cell_type": "markdown",
   "metadata": {},
   "source": [
    "## 프랜차이즈 레스토랑 관리 클래스"
   ]
  },
  {
   "cell_type": "code",
   "execution_count": 6,
   "metadata": {},
   "outputs": [
    {
     "name": "stdout",
     "output_type": "stream",
     "text": [
      "\n",
      "\n",
      "강남점 예약 목록\n",
      "- 홍길동, 2024-05-20, 4명\n",
      "홍대점 예약 목록\n",
      "- 김철수, 2024-05-21, 2명\n",
      "\n",
      "\n",
      "전체 레스토랑 예약 수: 2\n"
     ]
    }
   ],
   "source": [
    "class ReservationSystem:\n",
    "    def __init__(self, name):\n",
    "      self.name = name\n",
    "      self.reservation_list = []\n",
    "    \n",
    "    def add_reservation(self, customer_name, date, people_num):\n",
    "      if [customer_name, date, people_num] not in self.reservation_list:\n",
    "        self.reservation_list.append([customer_name, date, people_num])\n",
    "      else:\n",
    "        print(\"동일한 예약 내역이 존재합니다.\")\n",
    "      \n",
    "\n",
    "    def cancel_reservation(self, customer_name, date, people_num):\n",
    "      if [customer_name, date, people_num] in self.reservation_list:\n",
    "        self.reservation_list.remove([customer_name, date, people_num])\n",
    "      else:\n",
    "        print(\"입력하신 정보로 예약된 내역이 없습니다.\")\n",
    "      \n",
    "    def list_reservations(self):\n",
    "      for i in range(len(self.reservation_list)):\n",
    "        data = str(self.reservation_list[i])[1:-1]\n",
    "        print(\"{} 예약 목록\\n- {}명\".format(self.name,data.replace(\"'\",''))) #리스트에서 꺽쇠 제거+따옴표 제거(더 쉬운 방법이 있으면 알고 싶습니다!)\n",
    "        #print(f\"{self.name} 예약 목록\\n- {data.replace(\"'\",'')}\") #이 코드는 왜 오류가 날까요~?\n",
    "\n",
    "    def sum_reservations(self):\n",
    "      total_list = []\n",
    "      for i in range(len(self)):\n",
    "        total_list += self[i].reservation_list\n",
    "      \n",
    "      return len(total_list)\n",
    "\n",
    "\n",
    "\n",
    "\n",
    "# 사용 예시\n",
    "if __name__ == \"__main__\":\n",
    "    restaurant1 = ReservationSystem(\"강남점\")\n",
    "    restaurant2 = ReservationSystem(\"홍대점\")\n",
    "\n",
    "    restaurant1.add_reservation(\"홍길동\", \"2024-05-20\", 4)\n",
    "    restaurant2.add_reservation(\"김철수\", \"2024-05-21\", 2)\n",
    "    restaurant1.add_reservation(\"해리문\", \"2024-05-23\", 3)\n",
    "    \n",
    "    restaurant1.cancel_reservation(\"해리문\", \"2024-05-23\", 3)\n",
    "\n",
    "    print(\"\\n\")\n",
    "    restaurant1.list_reservations()\n",
    "    restaurant2.list_reservations()\n",
    "\n",
    "    print(\"\\n\")\n",
    "    total_reservations = ReservationSystem.sum_reservations([restaurant1, restaurant2])\n",
    "    print(f\"전체 레스토랑 예약 수: {total_reservations}\")\n"
   ]
  },
  {
   "cell_type": "code",
   "execution_count": null,
   "metadata": {},
   "outputs": [],
   "source": []
  }
 ],
 "metadata": {
  "kernelspec": {
   "display_name": "Python 3",
   "language": "python",
   "name": "python3"
  },
  "language_info": {
   "codemirror_mode": {
    "name": "ipython",
    "version": 3
   },
   "file_extension": ".py",
   "mimetype": "text/x-python",
   "name": "python",
   "nbconvert_exporter": "python",
   "pygments_lexer": "ipython3",
   "version": "3.12.7"
  }
 },
 "nbformat": 4,
 "nbformat_minor": 2
}
