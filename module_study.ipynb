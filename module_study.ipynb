{
 "cells": [
  {
   "cell_type": "markdown",
   "metadata": {},
   "source": [
    "## 1.1 모듈 불러오기\n",
    "\n"
   ]
  },
  {
   "cell_type": "markdown",
   "metadata": {},
   "source": [
    "- 기능들을 정리해둔 파이썬 프로그램\n",
    "- 모듈 불러오기 : 기능들의 묶음을 가져다 쓰기\n",
    "- 함수가 모듈안에 들어가면 메서드라고 함"
   ]
  },
  {
   "cell_type": "markdown",
   "metadata": {},
   "source": [
    "ex) calculator.py 모듈 예시"
   ]
  },
  {
   "cell_type": "code",
   "execution_count": null,
   "metadata": {},
   "outputs": [],
   "source": [
    "#더하기\n",
    "def add(x,y):\n",
    "    return x + y\n",
    "\n",
    "#빼기\n",
    "def substract(x,y):\n",
    "    return x - y\n",
    "\n",
    "#곱하기\n",
    "def multiply(x,y):\n",
    "    return x * y\n",
    "\n",
    "#나누기\n",
    "def divide(x,y):\n",
    "    return x / y"
   ]
  },
  {
   "cell_type": "markdown",
   "metadata": {},
   "source": [
    "### - 권장 1\n",
    "- aliasing으로 모듈의 줄임말 이름 붙여서\n",
    "- .(func)으로 요소, 함수, 메서드를 호출해서 사용\n"
   ]
  },
  {
   "cell_type": "code",
   "execution_count": 6,
   "metadata": {},
   "outputs": [
    {
     "name": "stdout",
     "output_type": "stream",
     "text": [
      "6\n",
      "8\n",
      "2\n"
     ]
    },
    {
     "data": {
      "text/plain": [
       "2.0"
      ]
     },
     "execution_count": 6,
     "metadata": {},
     "output_type": "execute_result"
    }
   ],
   "source": [
    "import calculator as calc #calculator 모듈이 같은 폴더에 있어야함\n",
    "\n",
    "#모듈에서 메서드 호출하기\n",
    "print(calc.add(4,2))\n",
    "print(calc.multiply(4,2))\n",
    "print(calc.substract(4,2))\n",
    "calc.divide(4,2)"
   ]
  },
  {
   "cell_type": "markdown",
   "metadata": {},
   "source": [
    "### - 권장 2\n",
    "- from(모듈) import (함수) or (메서드)\n",
    "- 함수 or 메서드 바로 사용 가능"
   ]
  },
  {
   "cell_type": "code",
   "execution_count": 7,
   "metadata": {},
   "outputs": [
    {
     "name": "stdout",
     "output_type": "stream",
     "text": [
      "6\n",
      "2\n",
      "8\n"
     ]
    },
    {
     "data": {
      "text/plain": [
       "2.0"
      ]
     },
     "execution_count": 7,
     "metadata": {},
     "output_type": "execute_result"
    }
   ],
   "source": [
    "from calculator import add, substract, divide, multiply #모듈에서 꺼낼 함수 지정\n",
    "\n",
    "print(add(4,2))\n",
    "print(substract(4,2))\n",
    "print(multiply(4,2))\n",
    "divide(4,2)"
   ]
  },
  {
   "cell_type": "markdown",
   "metadata": {},
   "source": [
    "### - 권장하지 않는 방법"
   ]
  },
  {
   "cell_type": "code",
   "execution_count": 8,
   "metadata": {},
   "outputs": [
    {
     "data": {
      "text/plain": [
       "9"
      ]
     },
     "execution_count": 8,
     "metadata": {},
     "output_type": "execute_result"
    }
   ],
   "source": [
    "from calculator import * #전체 불러오기\n",
    "\n",
    "add(4,5)"
   ]
  },
  {
   "cell_type": "markdown",
   "metadata": {},
   "source": [
    "## 1.2 표준 라이브러리(Standard Library)\n",
    "- python 설치하면 기본으로 내장되어 있는 라이브러리\n",
    "1. math\n",
    "2. random\n",
    "3. os - 운영체제 단의 기능(파일 생성 등)\n",
    "4. datetime"
   ]
  },
  {
   "cell_type": "markdown",
   "metadata": {},
   "source": [
    "### 1. math"
   ]
  },
  {
   "cell_type": "markdown",
   "metadata": {},
   "source": [
    "- 수학 관련 기능들의 묶음"
   ]
  },
  {
   "cell_type": "code",
   "execution_count": 10,
   "metadata": {},
   "outputs": [
    {
     "name": "stdout",
     "output_type": "stream",
     "text": [
      "2.0\n",
      "1.0\n",
      "3.141592653589793\n"
     ]
    }
   ],
   "source": [
    "import math\n",
    "\n",
    "print(math.log10(100))\n",
    "print(math.cos(0))\n",
    "print(math.pi)"
   ]
  },
  {
   "cell_type": "markdown",
   "metadata": {},
   "source": [
    "### 2. random"
   ]
  },
  {
   "cell_type": "markdown",
   "metadata": {},
   "source": [
    "- 랜덤한 값을 만들어내는 기능(함수)"
   ]
  },
  {
   "cell_type": "code",
   "execution_count": 14,
   "metadata": {},
   "outputs": [
    {
     "name": "stdout",
     "output_type": "stream",
     "text": [
      "0.5478867486159107\n",
      "8\n",
      "0.2943320544774706\n"
     ]
    }
   ],
   "source": [
    "import random\n",
    "print(random.random()) #0 ~ 1.0 사이의 랜덤한 수가 출력\n",
    "print(random.randint(1,20)) #두 수 사이(a<= N <=b)의 어떤 랜덤한 정수(integer)를 리턴하는 메서드\n",
    "print(random.uniform(0,2)) #두 수 사이(a<= N <=b)의 어떤 랜덤한 실수(float)를 리턴하는 메서드"
   ]
  },
  {
   "cell_type": "markdown",
   "metadata": {},
   "source": [
    "### 3. os\n",
    "- 운영체제(operation system)를 조작하는 기능들의 묶음"
   ]
  },
  {
   "cell_type": "code",
   "execution_count": 18,
   "metadata": {},
   "outputs": [
    {
     "name": "stdout",
     "output_type": "stream",
     "text": [
      "root\n",
      "/Volumes/Macintosh HD - Data/코드잇 스프린트/1_파이썬_응용하기\n"
     ]
    }
   ],
   "source": [
    "import os\n",
    "\n",
    "print(os.getlogin()) # 현재 os에 어떤 계정으로 로그인이 되어있는지 : 대부분 root 계정\n",
    "print(os.getcwd()) #cwd(current working directory) : 현재 작업하고 있는 폴더를 불러오는 명령어"
   ]
  },
  {
   "cell_type": "markdown",
   "metadata": {},
   "source": [
    "### 4. datetime\n",
    "- 날짜와 시간을 다루기 위한 다양한 기능들의 묶음"
   ]
  },
  {
   "cell_type": "code",
   "execution_count": 19,
   "metadata": {},
   "outputs": [],
   "source": [
    "import datetime"
   ]
  },
  {
   "cell_type": "markdown",
   "metadata": {},
   "source": [
    "4.1 datetime 값 생성\n",
    "- 2024년 9월 6일 을 파이썬으로 표현하려면?"
   ]
  },
  {
   "cell_type": "code",
   "execution_count": 27,
   "metadata": {},
   "outputs": [
    {
     "name": "stdout",
     "output_type": "stream",
     "text": [
      "2024-09-06 00:00:00\n",
      "<class 'datetime.datetime'>\n"
     ]
    }
   ],
   "source": [
    "someday = datetime.datetime(2024,9,6)\n",
    "print(someday)\n",
    "print(type(someday))"
   ]
  },
  {
   "cell_type": "markdown",
   "metadata": {},
   "source": [
    "- 시간은 자동으로 00시 00분 00초로 되어있는데, 시간까지 정하려면?"
   ]
  },
  {
   "cell_type": "code",
   "execution_count": 28,
   "metadata": {},
   "outputs": [
    {
     "name": "stdout",
     "output_type": "stream",
     "text": [
      "2024-09-06 18:07:22\n",
      "<class 'datetime.datetime'>\n"
     ]
    }
   ],
   "source": [
    "someday = datetime.datetime(2024,9,6,18,7,22)\n",
    "print(someday)\n",
    "print(type(someday))"
   ]
  },
  {
   "cell_type": "markdown",
   "metadata": {},
   "source": [
    "4.2 오늘 날짜"
   ]
  },
  {
   "cell_type": "markdown",
   "metadata": {},
   "source": [
    "- 바로 실시간 시간 호출"
   ]
  },
  {
   "cell_type": "code",
   "execution_count": 29,
   "metadata": {},
   "outputs": [
    {
     "data": {
      "text/plain": [
       "datetime.datetime(2024, 10, 17, 18, 8, 4, 484692)"
      ]
     },
     "execution_count": 29,
     "metadata": {},
     "output_type": "execute_result"
    }
   ],
   "source": [
    "now = datetime.datetime.now()\n",
    "now"
   ]
  },
  {
   "cell_type": "markdown",
   "metadata": {},
   "source": [
    "4.3 timedelta 타입\n",
    "- 날짜 사이의 차이를 나타내는 타입\n",
    "  - delta: 수학에서 변화량을 나타내는 그리스어 기호\n",
    "- 시간끼리 사칙연산 가능?\n",
    "  - datetime 끼리 덧셈 불가\n",
    "  - timedelta와 덧셈 가능\n",
    "  - 곱셈 나눗셈 불가"
   ]
  },
  {
   "cell_type": "code",
   "execution_count": 30,
   "metadata": {},
   "outputs": [
    {
     "data": {
      "text/plain": [
       "datetime.timedelta(days=41, seconds=42, microseconds=484692)"
      ]
     },
     "execution_count": 30,
     "metadata": {},
     "output_type": "execute_result"
    }
   ],
   "source": [
    "timedelta = now - someday\n",
    "timedelta"
   ]
  },
  {
   "cell_type": "code",
   "execution_count": 31,
   "metadata": {},
   "outputs": [
    {
     "data": {
      "text/plain": [
       "datetime.timedelta(days=2, seconds=11412)"
      ]
     },
     "execution_count": 31,
     "metadata": {},
     "output_type": "execute_result"
    }
   ],
   "source": [
    "timedelta2 = datetime.timedelta(days=2, hours=3, minutes=10, seconds=12)\n",
    "timedelta2"
   ]
  },
  {
   "cell_type": "code",
   "execution_count": 34,
   "metadata": {},
   "outputs": [
    {
     "data": {
      "text/plain": [
       "datetime.datetime(2024, 11, 27, 18, 8, 46, 969384)"
      ]
     },
     "execution_count": 34,
     "metadata": {},
     "output_type": "execute_result"
    }
   ],
   "source": [
    "now + timedelta"
   ]
  },
  {
   "cell_type": "markdown",
   "metadata": {},
   "source": [
    "4.4 datetime 해부하기\n",
    "- datetime을 구성하는 연,월,일,시,분,초를 추출하려면?"
   ]
  },
  {
   "cell_type": "code",
   "execution_count": 38,
   "metadata": {},
   "outputs": [
    {
     "name": "stdout",
     "output_type": "stream",
     "text": [
      "2024\n",
      "10\n",
      "17\n",
      "18\n",
      "8\n",
      "4\n",
      "484692\n"
     ]
    }
   ],
   "source": [
    "print(now.year)\n",
    "print(now.month)\n",
    "print(now.day)\n",
    "print(now.hour)\n",
    "print(now.minute)\n",
    "print(now.second)\n",
    "print(now.microsecond)"
   ]
  },
  {
   "cell_type": "markdown",
   "metadata": {},
   "source": [
    "4.5 datetime 포매팅\n",
    "- strftime()함수를 이용하면 날짜 형식을 원하는대로 바꿀 수 있다.\n",
    "- 포맷 코드 문서 찾거나 gpt한테 물어봐서 그때 그때 필요한 코드 작성, 외울 필요 없다."
   ]
  },
  {
   "cell_type": "code",
   "execution_count": 40,
   "metadata": {},
   "outputs": [
    {
     "data": {
      "text/plain": [
       "'Thursday, October 17th 2024'"
      ]
     },
     "execution_count": 40,
     "metadata": {},
     "output_type": "execute_result"
    }
   ],
   "source": [
    "now.strftime(\"%A, %B %dth %Y\")"
   ]
  },
  {
   "cell_type": "markdown",
   "metadata": {},
   "source": []
  }
 ],
 "metadata": {
  "kernelspec": {
   "display_name": "Python 3",
   "language": "python",
   "name": "python3"
  },
  "language_info": {
   "codemirror_mode": {
    "name": "ipython",
    "version": 3
   },
   "file_extension": ".py",
   "mimetype": "text/x-python",
   "name": "python",
   "nbconvert_exporter": "python",
   "pygments_lexer": "ipython3",
   "version": "3.12.7"
  }
 },
 "nbformat": 4,
 "nbformat_minor": 2
}
