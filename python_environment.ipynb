{
 "cells": [
  {
   "cell_type": "markdown",
   "metadata": {},
   "source": [
    "# <파이썬 환경>"
   ]
  },
  {
   "cell_type": "markdown",
   "metadata": {},
   "source": [
    "## 환경"
   ]
  },
  {
   "cell_type": "markdown",
   "metadata": {},
   "source": [
    "개발 환경\n",
    "- 운영 체제\n",
    "- 텍스트 에디터나 IDE\n",
    "- 특정 언어 버전\n",
    "- 프레임워크, 라이브러리, 패키지 + 버전\n",
    "- 컴퓨터 사양"
   ]
  },
  {
   "cell_type": "markdown",
   "metadata": {},
   "source": [
    "파이썬 환경\n",
    "- 파이썬과 파이썬 패키지 작동 원리\n",
    "- 파이썬과 파이썬 패키지가 실행에 미치는 영향\n",
    "- 파이썬 환경을 만들고 관리하고 공유하는 환경"
   ]
  },
  {
   "cell_type": "markdown",
   "metadata": {},
   "source": [
    "## 파이썬 버전"
   ]
  },
  {
   "cell_type": "markdown",
   "metadata": {},
   "source": [
    "### 버전 종류\n",
    "Major 버전\n",
    "- 큰 변화가 있을 때 업데이트됩니다.\n",
    "- 이전 버전과의 호환성을 깨는 변경 사항이 포함됩니다. 예를 들어, Python 2에서 Python 3로의 전환은 많은 차이점이 있으며, Python 3 코드는 Python 2와 호환되지 않습니다.\n",
    "\n",
    "Minor 버전\n",
    "- 새로운 기능이 추가되거나 기존 기능이 개선될 때 업데이트됩니다.\n",
    "- 호환성 문제는 없지만, 새로운 기능을 통해 기존 코드가 개선될 수 있습니다.\n",
    "\n",
    "Micro 버전\n",
    "- 버그 수정이나 성능 개선과 같은 작은 업데이트가 이루어질 때 수정됩니다.\n",
    "- 기존 기능에 대한 보완이 이루어지며, 주로 안정성을 향상시키기 위한 목적이 큽니다."
   ]
  },
  {
   "cell_type": "markdown",
   "metadata": {},
   "source": [
    "## 파이썬 인터프리터\n",
    "\n",
    "- **파이썬 인터프리터**: 파이썬 코드를 머신 코드로 변환하고 실행하는 프로그램\n",
    "   - 코드를 **바로** 머신 코드로 변환하는 대신, 먼저 **bytecode**라는 중간 단계를 거칩니다.\n",
    "\n",
    "#### 작동 과정\n",
    "1. **코드 컴파일**: 파이썬 코드를 bytecode로 변환하며, `.pyc` 파일로 저장. 문법 오류가 있으면 bytecode가 생성X\n",
    "2. **파이썬 가상 머신(PVM)**: bytecode를 한 줄씩 읽고, 머신 코드로 변환해 바로 실행\n",
    "- **인터프리터**: 코드 전체를 한 번에 번역하지 않고, **한 줄씩 변환하고 실행**합니다.\n",
    "\n",
    "- `컴파일러 vs 인터프리터`\n",
    "    -\t컴파일러 언어: 코드 `전체를 한 번에` 머신 코드로 번역 (예: C, C++)\n",
    "    -\t인터프리터 언어: 중간 단계에서 통역하며, 코드 실행 시 `줄 단위로 변환`. (예: 파이썬)\n",
    "    -\t파이썬은 먼저 bytecode로 컴파일하고, 이후 가상 머신이 한 줄씩 변환하여 실행\n",
    "\n",
    "- 장단점\n",
    "    -\t컴파일러 언어: 미리 컴파일된 파일로 실행되므로 속도가 빠름\n",
    "    -\t인터프리터 언어: 코드 수정 후 바로 실행 가능하나, 실행 속도는 느릴 수 있음\n",
    "    -\t파이썬: `컴파일러와 인터프리터의 특징을 모두 가짐` / 먼저 bytecode로 컴파일 후, 이를 인터프리터가 한 줄씩 실행하는 방식\n"
   ]
  },
  {
   "cell_type": "markdown",
   "metadata": {},
   "source": [
    "#### 기본 파이썬 인터프리터를 설정하기\n",
    "- pip을 사용해서 설치한 모듈과 패캐지는 어디 다운받아지고, 인터프리터는 이걸 어떻게 찾아서 사용하는 걸까요?\n",
    "\n",
    "    - `echo $PATH` : 접근하는 환경 변수 경로를 : 문자열을 기준으로 구분한 내용\n",
    "    - `which python3` : 파이썬 인터프리터 경로 찍기\n",
    "        ```bash\n",
    "        $ which python3\n",
    "        /usr/local/bin/python3\n",
    "        ```\n",
    "    - `which pip3` : 파이썬 설치 패캐지 관리자 경로 찍기\n",
    "        ```bash\n",
    "        $ which pip3\n",
    "        /usr/local/bin/pip3\n",
    "        ```\n",
    "    - `인터프리터는 자기만의 pip을 사용`한다. (둘 다, 같은 bin에 있으므로)\n",
    "\n",
    "        - 그리고 설치한 모듈과 패캐지는 lib/python3.x/site-packages/ 안에 있다.\n",
    "            ```bash\n",
    "            python3\n",
    "            >>> import sysconfig\n",
    "            >>> print(sysconfig.get_paths()[\"purelib\"])\n",
    "            ```        \n",
    "        - 그래서 인터프리터가 해당 모듈과 패캐지를 접근해서 스크립트를 실행하고, 반대로 pip3을 통해 이 폴더 안에 다운로드를 한다"
   ]
  },
  {
   "cell_type": "markdown",
   "metadata": {},
   "source": [
    "#### 원하는 파이썬 버전 적용하기 (터미널)\n",
    "1) subl ~/.zprofile\n",
    "    - 희망하는 버전 코드를 제일 아래로 잘라내기 붙여넣기 후 저장\n",
    "2) source ~/.zprofile\n",
    "    - 위 코드를 터미널에 실행\n"
   ]
  },
  {
   "cell_type": "markdown",
   "metadata": {},
   "source": [
    "#### 특이사항\n",
    "1) 터미널을 다시 열면 경로가 초기화 된다.\n",
    "    - 환경 변수는 하나의 터미널 안에서만 선언\n",
    "2) 새로운 버전을 설치하면 설치했던 외부 프로그램(패키지)을 다시 설치해줘야함\n",
    "    - 버전 별로 패키지가 저장되는 경로가 따로 있음\n",
    "3) 마이크로 버전까진 호환이 되나, 마이너 버전은 호환 X"
   ]
  },
  {
   "cell_type": "markdown",
   "metadata": {},
   "source": [
    "#### 결론\n",
    "**버전 디렉토리들은 각각 하나의 환경이다!**\n",
    "- /Library/Frameworks/Python.framework/Versions/\n",
    "    - 3.11\n",
    "    - 3.8\n",
    "    - 3.12\n",
    "    - 이 `버전 디렉토리가 곧 파이썬 환경`이다. 각각마다 별도의 인터프리터, 패캐지 설치 관리자, 설치된 모듈 혹은 패캐지들이 각각 존재한다."
   ]
  },
  {
   "cell_type": "markdown",
   "metadata": {},
   "source": [
    "# 외부 프로그램 설치하기 `pip`"
   ]
  },
  {
   "cell_type": "markdown",
   "metadata": {},
   "source": [
    "외부 프로그램 설치\n",
    "- `pip3 install 프로그램명`\n",
    "- pip3 install numpy\n",
    "- pip3 install numpy==1.20.1 (특정버전 지정 설치)\n"
   ]
  },
  {
   "cell_type": "markdown",
   "metadata": {},
   "source": [
    "외부 프로그램 삭제\n",
    "- `pip3 uninstall 프로그램명`"
   ]
  },
  {
   "cell_type": "code",
   "execution_count": 2,
   "metadata": {},
   "outputs": [
    {
     "name": "stdout",
     "output_type": "stream",
     "text": [
      "/Library/Frameworks/Python.framework/Versions/3.12/lib/python3.12/site-packages\n"
     ]
    }
   ],
   "source": [
    "#모듈들이 어디에 설치되어 있는지 확인하는 코드\n",
    "import sysconfig\n",
    "print(sysconfig.get_paths()[\"purelib\"]) "
   ]
  },
  {
   "cell_type": "markdown",
   "metadata": {},
   "source": [
    "- bin > interpreter / pip\n",
    "- lib/site-packages > 패키지(모듈)"
   ]
  }
 ],
 "metadata": {
  "kernelspec": {
   "display_name": "Python 3",
   "language": "python",
   "name": "python3"
  },
  "language_info": {
   "codemirror_mode": {
    "name": "ipython",
    "version": 3
   },
   "file_extension": ".py",
   "mimetype": "text/x-python",
   "name": "python",
   "nbconvert_exporter": "python",
   "pygments_lexer": "ipython3",
   "version": "3.12.7"
  }
 },
 "nbformat": 4,
 "nbformat_minor": 2
}
