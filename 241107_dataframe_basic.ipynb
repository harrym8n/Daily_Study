{
 "cells": [
  {
   "cell_type": "markdown",
   "metadata": {},
   "source": [
    "## DataFrame 기초"
   ]
  },
  {
   "cell_type": "markdown",
   "metadata": {},
   "source": [
    "### 1. 데이터 불러오기\n",
    "\n",
    "- `pandas 라이브러리 불러오기`: 데이터를 DataFrame 형태로 다루기 위해 import pandas as pd 사용.\n",
    "- `CSV 파일 불러오기`: pd.read_csv('data/loan.csv')를 사용해 CSV 파일을 불러와 변수에 저장.\n",
    "- `xlsx 파일 불러오기`: pd.read_excel('data/loan.xlsx')를 사용해 .xlsx 파일을 불러와 변수에 저장.\n",
    "\n",
    "    1. **sheet_name** : 몇 번째 시트에 있는 데이터를 가져올지\n",
    "        - 시트 이름(문자열) : \"Sheet2\"\n",
    "        - 인덱스(숫자) : 1\n",
    "\n",
    "    2. **header** : 몇 번째 행, (인덱스 시작 0)\n",
    "    \n",
    "    3. **usecols** : 가져올 열의 범위, (엑셀의 열 알파벳 범위)"
   ]
  },
  {
   "cell_type": "markdown",
   "metadata": {},
   "source": [
    "### 2. 관련 함수\n",
    "- `df.head(n)` : 위에서부터 n개 만큼 행 출력\n",
    "- `df.shape()` : 행,열 개수 출력\n",
    "- `df.dtypes()` : 컬럼 데이터 타입 확인\n",
    "- `df.info()` : 타입, 개수, 결측값 확인\n",
    "- `df.describe()` : 숫자형 데이터에 대한 기술 통계 요약 정보 출력 / 기본 통계량 출력\n",
    "    - ìnclude='all' 옵션을 통해 모든 컬럼(범주형 변수 포함)의 통계 정보 확인 가능\n",
    "- `df.sort_values()` : 특정 컬럼 기준 정렬 가능\n",
    "    - by='컬럼명'\n",
    "    - ascending=True / False : 내림차순 / 오름차순"
   ]
  },
  {
   "cell_type": "markdown",
   "metadata": {},
   "source": [
    "## 여러개의 조건으로 불린 인덱싱하기"
   ]
  },
  {
   "cell_type": "markdown",
   "metadata": {},
   "source": [
    "### 1. 논리 연산자"
   ]
  },
  {
   "cell_type": "markdown",
   "metadata": {},
   "source": [
    "- AND(&) : 교집합\n",
    "- OR(|) : 합집합\n",
    "- NOT(~) : 반대"
   ]
  },
  {
   "cell_type": "markdown",
   "metadata": {},
   "source": [
    "### 2. 논리 연산자의 우선 순위"
   ]
  },
  {
   "cell_type": "markdown",
   "metadata": {},
   "source": [
    "- NOT(~) > AND(&) > OR(|) 순으로 적용\n",
    "- 보통은 괄호를 사용해서 우선순위 지정해줌"
   ]
  },
  {
   "cell_type": "markdown",
   "metadata": {},
   "source": [
    "### 3. query() 함수로 불린 인덱싱\n",
    "- SQL처럼 쿼리 날릴 수 있음\n",
    "- 단, 실행 속도가 좀 느리다.\n",
    "- 사용법 : `df.query('column > nnn')`\n",
    "- 조건식에 변수를 넣으려면 변수명 앞에 @ 추가해주면 된다.\n",
    "    - ex) `df.query('column > @variable')`\n",
    "- SQL에서 사용하는 `in`, `not in` 연산자 사용 가능"
   ]
  },
  {
   "cell_type": "markdown",
   "metadata": {},
   "source": [
    "---"
   ]
  },
  {
   "cell_type": "markdown",
   "metadata": {},
   "source": [
    "## 데이터 삭제하기 내보내기"
   ]
  },
  {
   "cell_type": "markdown",
   "metadata": {},
   "source": [
    "### 1. 로우 삭제하기 (결측값 제거할 때 사용)\n",
    "- drop() 함수 사용\n",
    "    - 행 인덱스 기준 삭제\n",
    "    - 여러 로우 삭제시 리스트로 인덱스 넘겨줌\n",
    "    - DataFrame 갱신하려면 결과를 다시 변수에 지정해야 함"
   ]
  },
  {
   "cell_type": "markdown",
   "metadata": {},
   "source": [
    "여러 컬럼 삭제\n",
    "```python\n",
    "df.drop(columns=['c1', 'c2'])\n",
    "```"
   ]
  },
  {
   "cell_type": "markdown",
   "metadata": {},
   "source": [
    "#### 시트 이름과 시작 위치 설정\n",
    "\n",
    "- sheet_name, startrow, startcol 파라미터를 사용하여 엑셀 파일의 시트 이름과 데이터의 시작 위치를 설정 가능\n",
    "\n",
    "    - `sheet_name` : 시트 이름\n",
    "    - `startrow` : 시트 시작 행\n",
    "    - `startcol` : 시트 시작 열"
   ]
  },
  {
   "cell_type": "markdown",
   "metadata": {},
   "source": [
    "- `내보내기`\n",
    "    - df.to_csv(저장 경로) : **인덱스에 있는 값을 컬럼으로 만들어 버린다.**\n",
    "        - **index = False** : index를 새로운 컬럼으로 편입시키지 않는다.\n",
    "        - 또는 read_csv(index_col=0/ \"(인덱스 지정할 열 이름)\")\n",
    "    - df.to_excel(저장 경로)\n",
    "        - sheet_name : 저장할 시트 이름\n",
    "        - startrow : 시작 행 (시작값 0)\n",
    "        - startcol : 시작 열 (시작값 0)"
   ]
  }
 ],
 "metadata": {
  "kernelspec": {
   "display_name": "Python 3",
   "language": "python",
   "name": "python3"
  },
  "language_info": {
   "name": "python",
   "version": "3.10.9"
  }
 },
 "nbformat": 4,
 "nbformat_minor": 2
}
