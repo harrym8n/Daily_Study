{
 "cells": [
  {
   "cell_type": "markdown",
   "metadata": {},
   "source": [
    "## 1단계 번호 뽑기"
   ]
  },
  {
   "cell_type": "markdown",
   "metadata": {},
   "source": [
    "방법 1 : 반복 횟수 정하고 차감하는 방식"
   ]
  },
  {
   "cell_type": "code",
   "execution_count": 11,
   "metadata": {},
   "outputs": [
    {
     "data": {
      "text/plain": [
       "[23, 36, 13, 10, 25, 27]"
      ]
     },
     "execution_count": 11,
     "metadata": {},
     "output_type": "execute_result"
    }
   ],
   "source": [
    "import random\n",
    "\n",
    "def generate_numbers(n):\n",
    "    random_num_list = []\n",
    "\n",
    "    while n > 0:\n",
    "        rand_num = random.randint(1,45)\n",
    "        if rand_num not in random_num_list:\n",
    "            random_num_list.append(rand_num)\n",
    "            n -= 1\n",
    "    \n",
    "    return random_num_list\n",
    "\n",
    "generate_numbers(6)"
   ]
  },
  {
   "cell_type": "markdown",
   "metadata": {},
   "source": [
    "방법 2 리스트의 항목의 개수로 횟수를 추가해나가는 방식"
   ]
  },
  {
   "cell_type": "code",
   "execution_count": 48,
   "metadata": {},
   "outputs": [
    {
     "data": {
      "text/plain": [
       "[19, 12, 30, 14, 7, 15]"
      ]
     },
     "execution_count": 48,
     "metadata": {},
     "output_type": "execute_result"
    }
   ],
   "source": [
    "import random\n",
    "\n",
    "def generate_numbers(n):\n",
    "    random_num_list = []\n",
    "\n",
    "    while len(random_num_list) < n:\n",
    "        rand_num = random.randint(1,45)\n",
    "        if rand_num not in random_num_list:\n",
    "            random_num_list.append(rand_num)\n",
    "    \n",
    "    return random_num_list\n",
    "\n",
    "numbers = generate_numbers(6)\n",
    "numbers"
   ]
  },
  {
   "cell_type": "markdown",
   "metadata": {},
   "source": [
    "## 2단계 당첨 번호 뽑기"
   ]
  },
  {
   "cell_type": "markdown",
   "metadata": {},
   "source": [
    "정렬 방법 3가지\n",
    "1) sort() \n",
    "- list.sort() : 오름차순\n",
    "- sort(reverse=True) : 내림차순\n",
    "- 반환값 없어서 print 해줘야함\n",
    "2) sorted()\n",
    "- sorted(list) : 오름차순\n",
    "- sorted(list, reverse=True) : 내림차순\n",
    "- 반환값 존재\n",
    "3) np.sort() #numpy sort\n",
    "- np.sort(list) : 오름차순\n",
    "- np.sort(list)[::-1] : 내림차순"
   ]
  },
  {
   "cell_type": "code",
   "execution_count": 22,
   "metadata": {},
   "outputs": [
    {
     "data": {
      "text/plain": [
       "[7, 4, 31, 14, 10, 37]"
      ]
     },
     "execution_count": 22,
     "metadata": {},
     "output_type": "execute_result"
    }
   ],
   "source": [
    "rand_list = generate_numbers(6)\n",
    "rand_list"
   ]
  },
  {
   "cell_type": "code",
   "execution_count": 26,
   "metadata": {},
   "outputs": [
    {
     "name": "stdout",
     "output_type": "stream",
     "text": [
      "[4, 7, 10, 14, 31, 37]\n"
     ]
    }
   ],
   "source": [
    "rand_list.sort() # 이코드만 실행하면 반환 안됨\n",
    "print(rand_list) "
   ]
  },
  {
   "cell_type": "code",
   "execution_count": 27,
   "metadata": {},
   "outputs": [
    {
     "name": "stdout",
     "output_type": "stream",
     "text": [
      "[37, 31, 14, 10, 7, 4]\n"
     ]
    },
    {
     "data": {
      "text/plain": [
       "[4, 7, 10, 14, 31, 37]"
      ]
     },
     "execution_count": 27,
     "metadata": {},
     "output_type": "execute_result"
    }
   ],
   "source": [
    "print(sorted(rand_list, reverse=True))\n",
    "sorted(rand_list) #이 코드만 실행해도 반환됨"
   ]
  },
  {
   "cell_type": "markdown",
   "metadata": {},
   "source": [
    "풀이 1 : 정석대로, 랜덤 6개 뽑고 정렬 후 다시 랜덤 1개"
   ]
  },
  {
   "cell_type": "code",
   "execution_count": 39,
   "metadata": {},
   "outputs": [
    {
     "data": {
      "text/plain": [
       "[13, 17, 18, 25, 32, 36, 7]"
      ]
     },
     "execution_count": 39,
     "metadata": {},
     "output_type": "execute_result"
    }
   ],
   "source": [
    "def draw_winning_numbers():\n",
    "\n",
    "    winning_num_list = sorted(generate_numbers(n=6))\n",
    "\n",
    "    while len(winning_num_list) < 7:\n",
    "        rand_num = random.randint(1,45)\n",
    "        if rand_num not in winning_num_list:\n",
    "            winning_num_list.append(rand_num)\n",
    "\n",
    "    return winning_num_list\n",
    "\n",
    "draw_winning_numbers()"
   ]
  },
  {
   "cell_type": "markdown",
   "metadata": {},
   "source": [
    "풀이 2 : 7개 랜덤을 뽑고, 마지막만 분리해서 나중에 리스트에 더하기"
   ]
  },
  {
   "cell_type": "code",
   "execution_count": 46,
   "metadata": {},
   "outputs": [
    {
     "data": {
      "text/plain": [
       "[17, 18, 38, 40, 43, 44, 32]"
      ]
     },
     "execution_count": 46,
     "metadata": {},
     "output_type": "execute_result"
    }
   ],
   "source": [
    "def draw_winning_numbers():\n",
    "    winning_num_list = generate_numbers(n=7)\n",
    "    return sorted(winning_num_list[:6]) + [winning_num_list[6]]\n",
    "    \n",
    "winning_num_list = draw_winning_numbers()"
   ]
  },
  {
   "cell_type": "markdown",
   "metadata": {},
   "source": [
    "## 3단계 겹치는 번호 개수\n",
    "- 당첨 금액 리턴까지"
   ]
  },
  {
   "cell_type": "markdown",
   "metadata": {},
   "source": [
    "풀이 1 : (정석) 두 리스트 순회"
   ]
  },
  {
   "cell_type": "code",
   "execution_count": 49,
   "metadata": {},
   "outputs": [],
   "source": [
    "def count_matching_numbers(numbers, winning_num_list):\n",
    "    cnt = 0\n",
    "    for win_num in winning_num_list:\n",
    "        if win_num in numbers:\n",
    "            cnt += 1\n",
    "    return cnt"
   ]
  },
  {
   "cell_type": "markdown",
   "metadata": {},
   "source": [
    "풀이 2 : 집합의 교집합 이용"
   ]
  },
  {
   "cell_type": "code",
   "execution_count": 58,
   "metadata": {},
   "outputs": [],
   "source": [
    "def count_matching_numbers(numbers, winning_num_list):\n",
    "    # return len(set(numbers) & set(winning_num_list))\n",
    "    return len(set(numbers).intersection(set(winning_num_list)))"
   ]
  },
  {
   "cell_type": "code",
   "execution_count": 57,
   "metadata": {},
   "outputs": [],
   "source": [
    "def check(numbers, winning_num_list):\n",
    "\n",
    "    #일반 번호 체크\n",
    "    general_correct_num = count_matching_numbers(numbers, winning_num_list[:6])\n",
    "\n",
    "    #보너스 번호 체크\n",
    "    bonus_correct_num = count_matching_numbers(numbers, winning_num_list[6:])\n",
    "\n",
    "    #조건\n",
    "    if general_correct_num == 6:\n",
    "        return 10**9\n",
    "    elif general_correct_num == 5 and bonus_correct_num == 1:\n",
    "        return (10**7)*5\n",
    "    elif general_correct_num == 5:\n",
    "        return (10**6) \n",
    "    elif general_correct_num == 4:\n",
    "        return (10**4) * 5\n",
    "    elif general_correct_num == 4:\n",
    "        return (10**3) * 5"
   ]
  },
  {
   "cell_type": "markdown",
   "metadata": {},
   "source": [
    "## 4단계 코드 합쳐서 로또 모듈 만들기"
   ]
  },
  {
   "cell_type": "code",
   "execution_count": null,
   "metadata": {},
   "outputs": [],
   "source": [
    "import random\n",
    "\n",
    "def generate_numbers(n):\n",
    "    random_num_list = []\n",
    "\n",
    "    while len(random_num_list) < n:\n",
    "        rand_num = random.randint(1,45)\n",
    "        if rand_num not in random_num_list:\n",
    "            random_num_list.append(rand_num)\n",
    "    \n",
    "    return random_num_list\n",
    "\n",
    "numbers = generate_numbers(6)\n",
    "\n",
    "\n",
    "def draw_winning_numbers():\n",
    "    winning_num_list = generate_numbers(n=7)\n",
    "    return sorted(winning_num_list[:6]) + [winning_num_list[6]]\n",
    "    \n",
    "winning_num_list = draw_winning_numbers()\n",
    "\n",
    "\n",
    "def check(numbers, winning_num_list):\n",
    "    \n",
    "    general_correct_num = count_matching_numbers(numbers, winning_num_list[:6])\n",
    "    bonus_correct_num = count_matching_numbers(numbers, winning_num_list[6:])\n",
    "\n",
    "    if general_correct_num == 6:\n",
    "        return 10**9\n",
    "    elif general_correct_num == 5 and bonus_correct_num == 1:\n",
    "        return (10**7)*5\n",
    "    elif general_correct_num == 5:\n",
    "        return (10**6) \n",
    "    elif general_correct_num == 4:\n",
    "        return (10**4) * 5\n",
    "    elif general_correct_num == 4:\n",
    "        return (10**3) * 5"
   ]
  }
 ],
 "metadata": {
  "language_info": {
   "name": "python"
  }
 },
 "nbformat": 4,
 "nbformat_minor": 2
}
