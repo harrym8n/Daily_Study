{
 "cells": [
  {
   "cell_type": "markdown",
   "metadata": {},
   "source": [
    "### 클래스와 인스턴스, 정적메소드 보강해야할 개념\n",
    "1) 클래스 인스턴스 사용하는 이유\n",
    "2) 정적메소드와 인스턴스 메소드, 클래스 메소드 차이점 / 세 메소드 특징 정리\n"
   ]
  },
  {
   "cell_type": "markdown",
   "metadata": {},
   "source": [
    "# <수업 시작>"
   ]
  },
  {
   "cell_type": "markdown",
   "metadata": {},
   "source": [
    "## 객체(object)\n",
    "### 의미\n",
    "데이터와 그 데이터를 활용한 함수를 묶어서 저장해놓을 수 있는 것들 (복합체)\n",
    "- 데이터 : 속성(attribute)와 대응\n",
    "- 함수 : 메소드(method)와 대응\n",
    "- 모델링 : 객체의 속성과 행동 설계\n",
    "\n",
    "### 파이썬에서 객체를 만드는 방법"
   ]
  },
  {
   "cell_type": "code",
   "execution_count": 10,
   "metadata": {},
   "outputs": [
    {
     "name": "stdout",
     "output_type": "stream",
     "text": [
      "<class '__main__.User'>\n",
      "<class '__main__.User'>\n"
     ]
    }
   ],
   "source": [
    "class User: #클래스 이름의 첫 문자는 대문자로\n",
    "    \n",
    "    count = 0 #클래스 안에 있다. 따라서 클래스 변수\n",
    "\n",
    "    #생성자(클래스의 인자 역할) / self는 묵음 / 인스턴스 만들 때 자동 실행\n",
    "    #언더바 2개 붙으면 특수 메소드(__init__)\n",
    "    def __init__(self, name, email, password): \n",
    "        self.name = name\n",
    "        self.email = email\n",
    "        self.password = password\n",
    "\n",
    "        User.count += 1\n",
    "    \n",
    "    def say_hello(self): #매서드\n",
    "        print(f\"안녕하세요 저는 {self.name}입니다.\")\n",
    "    \n",
    "    def login(self, email, password): #매서드\n",
    "        if self.email == email and self.password == password:\n",
    "            print(\"로그인 성공, 환영합니다.\")\n",
    "            self.say_hello()\n",
    "        else:\n",
    "            print(\"로그인 실패, 없는 아이디이거나 잘못된 비밀번호 입니다.\")\n",
    "    \n",
    "\n",
    "    #인스턴스를 문자열로 변환하면 자동 실행이 되는 특수 메소드(__str__)\n",
    "    #print()를 하게 되면, 자동으로 문자열로 바꿔주기 떄문에 아래 메소드 자동 실행\n",
    "    def __str__(self):\n",
    "        return f\"사용자: {self.name}, 이메일: {self.email}\"\n",
    "    \n",
    "    @classmethod #클래스 메소드\n",
    "    def print_number_if_users(cls):\n",
    "        print(f\"총 유저 수는: {cls.count}입니다.\")\n",
    "    \n",
    "    @staticmethod #정적 메소드\n",
    "    def vaild_email(email):\n",
    "        return \"@\" in email #Boolean 형식으로 반환(True, False)\n",
    "    \n",
    "\n",
    "# 인스턴스 생성 / 하나의 클래스를 가지고 여러개의 인스턴스를 바로 선언할 수 있다.\n",
    "user1 = User(name = \"해리문\", email = \"harrym8n@naver.com\", password = \"0000\")\n",
    "user2 = User(name = \"코드마스터\", email = \"codemaster@naver.com\", password = \"1111\")\n",
    "user3 = User(name = \"에이\",email = \"cey@naver.com\", password = \"2222\")\n",
    "\n",
    "# type확인하면, 두 인스턴스가 같은 user 클래스부터 생성된 것임을 알 수 있다.\n",
    "print(type(user1))\n",
    "print(type(user2))"
   ]
  },
  {
   "cell_type": "markdown",
   "metadata": {},
   "source": [
    "## 객체와 클래스\n",
    "- 클래스 : 객체를 만드는 틀\n",
    "- 인스턴스 : 클래스로 만들어낸 객체"
   ]
  },
  {
   "cell_type": "markdown",
   "metadata": {},
   "source": [
    "### 1-1 객체의 속성(attribute)\n",
    "1) 인스턴스 변수 : 인스턴스 내부에서 초기화\n",
    "    - 서로 다른 인스턴스 사용할 때마다, 변수들을 초기화해줘야 한다.\n",
    "    - 예시\n",
    "    ~~~Python\n",
    "    user1 = User(name = \"해리문\", email = \"harrym8n@naver.com\", password = \"0000\")\n",
    "    ~~~\n",
    "\n",
    "2) 클래스 변수 : 인스턴스 간(외부) 연결"
   ]
  },
  {
   "cell_type": "markdown",
   "metadata": {},
   "source": [
    "1-1 객체의 속성 직접 지정하기"
   ]
  },
  {
   "cell_type": "code",
   "execution_count": 4,
   "metadata": {},
   "outputs": [
    {
     "data": {
      "text/plain": [
       "('해리문', 'harrym8n@naver.com', '0000')"
      ]
     },
     "execution_count": 4,
     "metadata": {},
     "output_type": "execute_result"
    }
   ],
   "source": [
    "#인스턴스 속성 호출 가능(인스턴스.속성)\n",
    "user1.name, user1.email, user1.password"
   ]
  },
  {
   "cell_type": "code",
   "execution_count": 13,
   "metadata": {},
   "outputs": [
    {
     "name": "stdout",
     "output_type": "stream",
     "text": [
      "샐리\n"
     ]
    }
   ],
   "source": [
    "#인스턴스 속성 직접 지정 가능\n",
    "user3.name = \"샐리\"\n",
    "print(user3.name)"
   ]
  },
  {
   "cell_type": "markdown",
   "metadata": {},
   "source": [
    "- 클래스 변수 count"
   ]
  },
  {
   "cell_type": "code",
   "execution_count": 11,
   "metadata": {},
   "outputs": [
    {
     "name": "stdout",
     "output_type": "stream",
     "text": [
      "3\n",
      "3\n",
      "3\n"
     ]
    }
   ],
   "source": [
    "print(User.count)\n",
    "print(user1.count)\n",
    "print(user2.count)"
   ]
  },
  {
   "cell_type": "code",
   "execution_count": 14,
   "metadata": {},
   "outputs": [
    {
     "name": "stdout",
     "output_type": "stream",
     "text": [
      "5\n",
      "5\n",
      "5\n"
     ]
    }
   ],
   "source": [
    "#class에 변화를 주면 이미 생성된 인스턴스에도 영향이 간다.\n",
    "User.count = 5\n",
    "print(User.count)\n",
    "print(user1.count)\n",
    "print(user2.count)"
   ]
  },
  {
   "cell_type": "code",
   "execution_count": 15,
   "metadata": {},
   "outputs": [
    {
     "name": "stdout",
     "output_type": "stream",
     "text": [
      "5\n",
      "3\n",
      "5\n"
     ]
    }
   ],
   "source": [
    "#하지만 인스턴스에 변화를 주어도 다른 인스턴스나 클래스에는 영향이 안 간다.\n",
    "user1.count = 3\n",
    "print(User.count)\n",
    "print(user1.count)\n",
    "print(user2.count)"
   ]
  },
  {
   "cell_type": "markdown",
   "metadata": {},
   "source": [
    "### 1-2 객체의 행동(method)\n",
    "\n",
    "**1) 인스턴스 메서드**\n",
    "- 첫번째 인자(argument)는 호출되는 인스턴스가 자동으로 넘어간다.\n",
    "    - 선언할 때 데코레이터 불필요\n",
    "    - 인스턴스.인스턴스_메소드() 로 호출\n",
    "    - self => 메서드 Self 자리에 클래스로 생성된 인스턴스 자기 자신이 들어간다.\n",
    "    **특수 메서드\n",
    "    - 특정 조건이 충족되면 자동 실행되는 메서드\n",
    "    - ____init____() : 인스턴스 생성시, 인스턴스 변수 초기화(인스턴스 생성시 변수 생성하기 위해서 여기다가 변수 생성)\n",
    "    - ____str____() : 인스턴스 문자열 형 변환시, 자동 실행\n",
    "    - ____add____() : +, 오른쪽 인스턴스를 자동으로 인자로 전달\n",
    "    - ____call____() : ()를 통해 함수를 호출하면 됨\n",
    "\n",
    "**2) 클래스 메서드**\n",
    "- 첫번째 인자(argument)는 호출되는 클래스가 자동으로 넘어간다.\n",
    "    - 클래스.클래스_메서드() 로 호출\n",
    "    - 데코레이터 @classmethod\n",
    "    - cls => 메서드 cls 자리에 클래스가 들어간다.\n",
    "~~~Python\n",
    "    @classmethod #클래스 메소드\n",
    "    def print_number_if_users(cls):\n",
    "        print(f\"총 유저 수는: {cls.count}입니다.\")\n",
    "~~~\n",
    "\n",
    "\n",
    "**3) 정적 메서드**\n",
    "- 클래스에는 속하되, 클래스/인스턴스 변수 그 무엇과도 관계없는 정적(고정된 동작을 수행) 함수\n",
    "    - 첫번째 인자가 자동으로 넘겨지지 않는다.\n",
    "    - 데코레이터 @staticmethod\n",
    "    - 일반적으로 (클래스).(정적메서드)\n",
    "~~~Python\n",
    "    @staticmethod #정적 메소드\n",
    "    def vaild_email(email):\n",
    "        return \"@\" in email #Boolean 형식으로 반환(True, False)\n",
    "~~~"
   ]
  },
  {
   "cell_type": "code",
   "execution_count": 21,
   "metadata": {},
   "outputs": [
    {
     "name": "stdout",
     "output_type": "stream",
     "text": [
      "총 유저 수는: 3입니다.\n",
      "안녕하세요 저는 해리문입니다.\n"
     ]
    }
   ],
   "source": [
    "User.count = 3\n",
    "User.print_number_if_users()\n",
    "user1.say_hello()"
   ]
  },
  {
   "cell_type": "code",
   "execution_count": 24,
   "metadata": {},
   "outputs": [
    {
     "name": "stdout",
     "output_type": "stream",
     "text": [
      "로그인 성공, 환영합니다.\n",
      "안녕하세요 저는 해리문입니다.\n"
     ]
    }
   ],
   "source": [
    "user1.login(email = \"harrym8n@naver.com\", password = \"0000\")"
   ]
  },
  {
   "cell_type": "markdown",
   "metadata": {},
   "source": [
    "## 실습"
   ]
  },
  {
   "cell_type": "markdown",
   "metadata": {},
   "source": [
    "#### 맞팔"
   ]
  },
  {
   "cell_type": "code",
   "execution_count": 25,
   "metadata": {},
   "outputs": [
    {
     "name": "stdout",
     "output_type": "stream",
     "text": [
      "Young 2 2\n",
      "Yoonsoo 1 3\n",
      "Taeho 2 0\n",
      "Lisa 1 1\n"
     ]
    }
   ],
   "source": [
    "class User: #클래스 이름의 첫 문자는 대문자로\n",
    "    \n",
    "    def __init__(self, name, email, password): \n",
    "        self.name = name\n",
    "        self.email = email\n",
    "        self.password = password\n",
    "        self.following_list = [] # 내가 팔로우하는 상대의 목록\n",
    "        self.followers_list = [] # 상대가 팔로우하는 목록\n",
    "    \n",
    "    def say_hello(self):\n",
    "        print(f\"안녕하세요 저는 {self.name}입니다.\")\n",
    "    \n",
    "    def login(self, email, password):\n",
    "        if self.email == email and self.password == password:\n",
    "            print(\"로그인 성공, 환영합니다.\")\n",
    "            self.say_hello()\n",
    "        else:\n",
    "            print(\"로그인 실패, 없는 아이디이거나 잘못된 비밀번호 입니다.\")\n",
    "    \n",
    "    def follow(self,another_user): #인스턴스 메서드, another_user도 인스턴스\n",
    "        # 나의 팔로우 목록에 상대 인스턴스 추가\n",
    "        self.following_list.append(another_user)\n",
    "        # 상대의 인스턴스의 팔로우 당한 목록에 나의 인스턴스가 추가\n",
    "        another_user.followers_list.append(self)\n",
    "\n",
    "    def num_following(self):\n",
    "        return len(self.following_list)\n",
    "    \n",
    "    def num_followers(self):\n",
    "        return len(self.followers_list)\n",
    "    \n",
    "# 유저들 생성\n",
    "user1 = User(\"Young\", \"young@codeit.kr\", \"123456\")\n",
    "user2 = User(\"Yoonsoo\", \"yoonsoo@codeit.kr\", \"abcdef\")\n",
    "user3 = User(\"Taeho\", \"taeho@codeit.kr\", \"123abc\")\n",
    "user4 = User(\"Lisa\", \"lisa@codeit.kr\", \"abc123\")\n",
    "\n",
    "# 유저마다 서로 관심 있는 유저를 팔로우\n",
    "user1.follow(user2)\n",
    "user1.follow(user3)\n",
    "user2.follow(user1)\n",
    "user2.follow(user3)\n",
    "user2.follow(user4)\n",
    "user4.follow(user1)\n",
    "\n",
    "# 유저 이름, 자신의 팔로워 수, 자신이 팔로우하는 사람 수를 출력합니다\n",
    "print(user1.name, user1.num_followers(), user1.num_following())\n",
    "print(user2.name, user2.num_followers(), user2.num_following())\n",
    "print(user3.name, user3.num_followers(), user3.num_following())\n",
    "print(user4.name, user4.num_followers(), user4.num_following())"
   ]
  },
  {
   "cell_type": "markdown",
   "metadata": {},
   "source": [
    "#### 배달 음식 메뉴 나타낼 클래스 : MenuItem"
   ]
  },
  {
   "cell_type": "code",
   "execution_count": 29,
   "metadata": {},
   "outputs": [
    {
     "name": "stdout",
     "output_type": "stream",
     "text": [
      "햄버거 가격: 4000\n",
      "콜라 가격: 1500\n",
      "후렌치 후라이 가격: 1500\n"
     ]
    }
   ],
   "source": [
    "#클래스 선언\n",
    "class MenuItem:\n",
    "\n",
    "    def __init__(self, name, price):\n",
    "        self.name = name\n",
    "        self.price = price\n",
    "\n",
    "    def __str__(self):\n",
    "        return f\"{self.name} 가격: {self.price}\"\n",
    "    \n",
    "#메뉴 생성\n",
    "hamburger = MenuItem(name=\"햄버거\", price=4000)\n",
    "coke = MenuItem(name=\"콜라\", price=1500)\n",
    "french_fried = MenuItem(name=\"후렌치 후라이\", price=1500)\n",
    "\n",
    "# print시 자동 문자열 변환\n",
    "print(hamburger)\n",
    "print(coke)\n",
    "print(french_fried)\n"
   ]
  },
  {
   "cell_type": "markdown",
   "metadata": {},
   "source": [
    "#### 게임 캐릭터 만들기 : GameCharacter"
   ]
  },
  {
   "cell_type": "code",
   "execution_count": 35,
   "metadata": {},
   "outputs": [],
   "source": [
    "class GameCharacter:\n",
    "\n",
    "    def __init__(self, name, hp, power):\n",
    "        self.name = name\n",
    "        self.hp = hp\n",
    "        self.power = power\n",
    "        \n",
    "    #체력 체크해서 살았는지 죽었는지\n",
    "    def is_alive(self):\n",
    "        return self.hp > 0\n",
    "\n",
    "    #공격 받았을 때\n",
    "    def get_attacked(self, damage):\n",
    "        if self.is_alive() == True:\n",
    "            #comprehension 미사용\n",
    "            if self.hp >= damage:\n",
    "                self.hp = self.hp - damage #self.damage가 아닌 이유?\n",
    "            else:\n",
    "                self.hp = 0\n",
    "            #틈새 개념: comprehension(한줄로 코드 작성)\n",
    "            #self.hp - damage if self.hp >= damage else self.hp = 0\n",
    "        else:\n",
    "            print(f\"{self.name}님은 죽었습니다.\")\n",
    "\n",
    "    #공격 할 때\n",
    "    def attack(self, another_character):\n",
    "        if self.is_alive():\n",
    "            another_character.get_attacked(damage = self.power) #'damage =' 안써도 되나?\n",
    "\n",
    "    def __str__(self):\n",
    "        return f\"{self.name}님은 현재 hp가 {self.hp}만큼 남았습니다.\""
   ]
  },
  {
   "cell_type": "code",
   "execution_count": 36,
   "metadata": {},
   "outputs": [
    {
     "name": "stdout",
     "output_type": "stream",
     "text": [
      "Ww영훈전사wW님은 죽었습니다.\n",
      "Ww영훈전사wW님은 현재 hp가 0만큼 남았습니다.\n",
      "Xx지웅최고xX님은 현재 hp가 70만큼 남았습니다.\n"
     ]
    }
   ],
   "source": [
    "# 게임 캐릭터 인스턴스 생성                        \n",
    "character_1 = GameCharacter(\"Ww영훈전사wW\", 200, 30)\n",
    "character_2 = GameCharacter(\"Xx지웅최고xX\", 100, 50)\n",
    "    \n",
    "# 게임 캐릭터 인스턴스들 서로 공격\n",
    "character_1.attack(character_2)\n",
    "character_2.attack(character_1)\n",
    "character_2.attack(character_1)\n",
    "character_2.attack(character_1)\n",
    "character_2.attack(character_1)\n",
    "character_2.attack(character_1)\n",
    "    \n",
    "# 게임 캐릭터 인스턴스 출력\n",
    "print(character_1)\n",
    "print(character_2)"
   ]
  },
  {
   "cell_type": "markdown",
   "metadata": {},
   "source": [
    "#### 블로그 유저 만들기"
   ]
  },
  {
   "cell_type": "code",
   "execution_count": 52,
   "metadata": {},
   "outputs": [],
   "source": [
    "class Post:\n",
    "    def __init__(self, date, content):\n",
    "        self.date = date\n",
    "        self.content = content\n",
    "    \n",
    "    def __str__(self):\n",
    "        return f\"작성 날짜: {self.date}\\n내용: {self.content}\"\n",
    "    \n",
    "class BlogUser:\n",
    "    def __init__(self, name):\n",
    "        self.name = name\n",
    "        self.posts = []\n",
    "\n",
    "    def add_post(self, date, content):\n",
    "        new_post =  Post(date, content)\n",
    "        \n",
    "        self.posts.append(new_post)\n",
    "\n",
    "        print(\"게시가 완료되었습니다.\")\n",
    "\n",
    "    def show_all_posts(self):\n",
    "        for post in self.posts:\n",
    "            print(post)\n",
    "    \n",
    "    def __str__(self):\n",
    "        return f\"안녕하세요. {self.name}입니다.\""
   ]
  },
  {
   "cell_type": "code",
   "execution_count": 53,
   "metadata": {},
   "outputs": [
    {
     "name": "stdout",
     "output_type": "stream",
     "text": [
      "안녕하세요. 해리문입니다.\n"
     ]
    }
   ],
   "source": [
    "# 블로그 유저 인스턴스 생성\n",
    "blog_user_1 = BlogUser(\"해리문\")\n",
    "\n",
    "# 블로그 유저 인스턴스 출력(인사, 이름)\n",
    "print(blog_user_1)"
   ]
  },
  {
   "cell_type": "code",
   "execution_count": 54,
   "metadata": {},
   "outputs": [
    {
     "name": "stdout",
     "output_type": "stream",
     "text": [
      "게시가 완료되었습니다.\n",
      "게시가 완료되었습니다.\n"
     ]
    }
   ],
   "source": [
    "# 블로그 유저 게시글 2개 추가\n",
    "blog_user_1.add_post(date=\"2019년 8월 30일\", content=\"\"\"\n",
    "오늘은 내 생일이었다.\n",
    "많은 사람들이 축하해줬다.\n",
    "행복했다.\n",
    "\"\"\")\n",
    "\n",
    "blog_user_1.add_post(\"2019년 8월 31일\", \"\"\"\n",
    "재밌는 코딩 교육 사이트를 찾았다.\n",
    "코드잇이란 곳인데 최고다.\n",
    "같이 공부하실 분들은 www.codeit.kr로 오세요!\n",
    "\"\"\")"
   ]
  },
  {
   "cell_type": "code",
   "execution_count": 55,
   "metadata": {},
   "outputs": [
    {
     "name": "stdout",
     "output_type": "stream",
     "text": [
      "작성 날짜: 2019년 8월 30일\n",
      "내용: \n",
      "오늘은 내 생일이었다.\n",
      "많은 사람들이 축하해줬다.\n",
      "행복했다.\n",
      "\n",
      "작성 날짜: 2019년 8월 31일\n",
      "내용: \n",
      "재밌는 코딩 교육 사이트를 찾았다.\n",
      "코드잇이란 곳인데 최고다.\n",
      "같이 공부하실 분들은 www.codeit.kr로 오세요!\n",
      "\n"
     ]
    }
   ],
   "source": [
    "blog_user_1.show_all_posts()"
   ]
  },
  {
   "cell_type": "markdown",
   "metadata": {},
   "source": [
    "#### 다양한 데이터 형태를 처리하는 인스턴스 만들기 : 다형성 - 클래스 메서드 실습"
   ]
  },
  {
   "cell_type": "code",
   "execution_count": 56,
   "metadata": {},
   "outputs": [],
   "source": [
    "info_string = \"김길동,kgildong@codeit.kr,123456\"\n",
    "info_list = [\"이길동\", \"leegildong@codeit.kr\", \"abcdef\"]\n",
    "\n",
    "parameter_list = info_string.split(\",\")"
   ]
  },
  {
   "cell_type": "code",
   "execution_count": 58,
   "metadata": {},
   "outputs": [
    {
     "name": "stdout",
     "output_type": "stream",
     "text": [
      "<class '__main__.User'>\n",
      "<class '__main__.User'>\n"
     ]
    }
   ],
   "source": [
    "class User: #클래스 이름의 첫 문자는 대문자로\n",
    "    \n",
    "    count = 0 #클래스 안에 있다. 따라서 클래스 변수\n",
    "\n",
    "    #생성자(클래스의 인자 역할) / self는 묵음 / 인스턴스 만들 때 자동 실행\n",
    "    #언더바 2개 붙으면 특수 메소드(__init__)\n",
    "    def __init__(self, name, email, password): \n",
    "        self.name = name\n",
    "        self.email = email\n",
    "        self.password = password\n",
    "\n",
    "        User.count += 1\n",
    "    \n",
    "    def say_hello(self): #매서드\n",
    "        print(f\"안녕하세요 저는 {self.name}입니다.\")\n",
    "    \n",
    "    def login(self, email, password): #매서드\n",
    "        if self.email == email and self.password == password:\n",
    "            print(\"로그인 성공, 환영합니다.\")\n",
    "            self.say_hello()\n",
    "        else:\n",
    "            print(\"로그인 실패, 없는 아이디이거나 잘못된 비밀번호 입니다.\")\n",
    "    \n",
    "\n",
    "    def __str__(self):\n",
    "        return f\"사용자: {self.name}, 이메일: {self.email}\"\n",
    "    \n",
    "\n",
    "    # 다형성 처리하는 메서드 만들기\n",
    "    @classmethod #클래스 메서드\n",
    "    def from_string(cls, string_params):\n",
    "        parameter_list = string_params.split(\",\")\n",
    "        name = parameter_list[0]\n",
    "        email = parameter_list[1]\n",
    "        password = parameter_list[2]\n",
    "        return cls(name, email, password)\n",
    "    \n",
    "    @classmethod\n",
    "    def from_list(cls, list_params):\n",
    "        name = list_params[0]\n",
    "        email = list_params[1]\n",
    "        password = list_params[2]\n",
    "        return cls(name, email, password)\n",
    "    \n",
    "\n",
    "# 인스턴스 생성 / 하나의 클래스를 가지고 여러개의 인스턴스를 바로 선언할 수 있다.\n",
    "user1 = User(name = \"해리문\", email = \"harrym8n@naver.com\", password = \"0000\")\n",
    "user2 = User(name = \"코드마스터\", email = \"codemaster@naver.com\", password = \"1111\")\n",
    "user3 = User(name = \"에이\",email = \"cey@naver.com\", password = \"2222\")\n",
    "\n",
    "# type확인하면, 두 인스턴스가 같은 user 클래스부터 생성된 것임을 알 수 있다.\n",
    "print(type(user1))\n",
    "print(type(user2))"
   ]
  },
  {
   "cell_type": "code",
   "execution_count": 59,
   "metadata": {},
   "outputs": [
    {
     "name": "stdout",
     "output_type": "stream",
     "text": [
      "강영훈 younghoon@codeit.kr 123456\n",
      "이윤수 yoonsoo@codeit.kr abcdef\n"
     ]
    }
   ],
   "source": [
    "info_string = \"강영훈,younghoon@codeit.kr,123456\"\n",
    "info_list = [\"이윤수\", \"yoonsoo@codeit.kr\", \"abcdef\"]\n",
    "\n",
    "user1 = User.from_string(info_string)\n",
    "user2 = User.from_list(info_list)\n",
    "\n",
    "# 인스턴스가 제대로 생성되었는지 확인\n",
    "print(user1.name, user1.email, user1.password)\n",
    "print(user2.name, user2.email, user2.password)"
   ]
  },
  {
   "cell_type": "markdown",
   "metadata": {},
   "source": [
    "#### 속성 없이 행동만 있는 객체: (인스턴스) 변수는 없고 메소드만 있는 클래스 - 정적 메소드 실습"
   ]
  },
  {
   "cell_type": "code",
   "execution_count": 60,
   "metadata": {},
   "outputs": [
    {
     "name": "stdout",
     "output_type": "stream",
     "text": [
      "9\n",
      "-1\n",
      "20\n",
      "0.8\n"
     ]
    }
   ],
   "source": [
    "class SimpleCalculator:\n",
    "    # 계산기 클래스\n",
    "    @staticmethod\n",
    "    def add(x,y):\n",
    "        return x + y\n",
    "    \n",
    "    @staticmethod\n",
    "    def subtract(x,y):\n",
    "        return x - y\n",
    "    \n",
    "    @staticmethod\n",
    "    def multiply(x,y):\n",
    "        return x * y\n",
    "    \n",
    "    @staticmethod\n",
    "    def divide(x,y):\n",
    "        return x / y\n",
    "\n",
    "    \n",
    "# 계산기 인스턴스 생성\n",
    "calculator = SimpleCalculator()\n",
    "    \n",
    "# 계산기 연산 호출\n",
    "print(calculator.add(4, 5))\n",
    "print(calculator.subtract(4, 5))\n",
    "print(calculator.multiply(4, 5))\n",
    "print(calculator.divide(4, 5))"
   ]
  },
  {
   "cell_type": "markdown",
   "metadata": {},
   "source": [
    "### 플레이 리스트 합치기 - 스페셜 메서드 실습"
   ]
  },
  {
   "cell_type": "code",
   "execution_count": 61,
   "metadata": {},
   "outputs": [
    {
     "name": "stdout",
     "output_type": "stream",
     "text": [
      "플레이리스트 안 노래들:\n",
      "\n",
      "Rolling in the Deep - Adele(2011)\n",
      "Call Me Maybe - Carly Rae Jepsen(2012)\n",
      "Get Lucky - Daft Punk(2013)\n",
      "Uptown Funk - Mark Ronson(2015)\n",
      "\n",
      "플레이리스트 안 노래들:\n",
      "\n",
      "Pallete(팔레트) - 아이유(2017)\n",
      "피 땀 눈물 - 방탄소년단(2016)\n",
      "TT - 트와이스(2016)\n",
      "\n",
      "플레이리스트 안 노래들:\n",
      "\n",
      "Rolling in the Deep - Adele(2011)\n",
      "Call Me Maybe - Carly Rae Jepsen(2012)\n",
      "Get Lucky - Daft Punk(2013)\n",
      "Uptown Funk - Mark Ronson(2015)\n",
      "Pallete(팔레트) - 아이유(2017)\n",
      "피 땀 눈물 - 방탄소년단(2016)\n",
      "TT - 트와이스(2016)\n",
      "\n"
     ]
    }
   ],
   "source": [
    "class Song:\n",
    "    def __init__(self, title, artist, year):\n",
    "        self.title = title\n",
    "        self.artist = artist\n",
    "        self.year = year\n",
    "\n",
    "    def __str__(self):\n",
    "        return f\"{self.title} - {self.artist}({self.year})\"\n",
    "\n",
    "class PlayList:\n",
    "    def __init__(self, songs):\n",
    "        self.songs = songs #바깥에서 리스트 받아서 인스턴스 속성에 넣는 걸로\n",
    "\n",
    "    def __str__(self):\n",
    "        result = f\"플레이리스트 안 노래들:\\n\\n\"\n",
    "\n",
    "        for song in self.songs:\n",
    "            result += f\"{song}\\n\"\n",
    "        return result\n",
    "\n",
    "    def __add__(self,other_playlist):\n",
    "        return PlayList(self.songs + other_playlist.songs)\n",
    "\n",
    "\n",
    "# 실행 코드\n",
    "### 노래들 인스턴스 생성\n",
    "##### us-pop\n",
    "rolling_in_the_deep = Song(\"Rolling in the Deep\", \"Adele\", 2011)\n",
    "call_me_maybe = Song(\"Call Me Maybe\", \"Carly Rae Jepsen\", 2012)\n",
    "get_lucky = Song(\"Get Lucky\", \"Daft Punk\", 2013)\n",
    "uptown_funk = Song(\"Uptown Funk\", \"Mark Ronson\", 2015)\n",
    "##### k-pop\n",
    "palette = Song(\"Pallete(팔레트)\", \"아이유\", 2017)\n",
    "blood_sweat_and_tears = Song(\"피 땀 눈물\", \"방탄소년단\", 2016)\n",
    "tt = Song(\"TT\", \"트와이스\", 2016)\n",
    "\n",
    "### 플레이 리스트에 노래들 추가\n",
    "us_pop_2010s = PlayList([rolling_in_the_deep, call_me_maybe, get_lucky, uptown_funk])\n",
    "k_pop_2010s = PlayList([palette, blood_sweat_and_tears, tt])\n",
    "\n",
    "print(us_pop_2010s)\n",
    "print(k_pop_2010s)\n",
    "\n",
    "pop_2010s = us_pop_2010s + k_pop_2010s # == PlayList([rolling_in_the_deep, call_me_maybe, get_lucky, uptown_funk] + [palette, blood_sweat_and_tears, tt])\n",
    "print(pop_2010s)"
   ]
  },
  {
   "cell_type": "markdown",
   "metadata": {},
   "source": [
    "- (참고) 클래스 정의의 범위 기준은?\n",
    "\n",
    "    - ```파일 분리의 기준``` : 연관성 (프로그램을 기획하는 정의에 따라 달라진다.)\n",
    "        - 기술적으로는, 각 클래스 마다 하나의 파일 혹은 연관 있는 클래스들을 묶어서 저장하는 것이 최대.\n",
    "        - 실행하기 위한 파일은 별도로 둔다. ex) `main.py`, `driver.py` 등등\n",
    "        ```python\n",
    "        # user.py라는 파일 안에 class User가 정의되었다면,\n",
    "        from user import User\n",
    "\n",
    "        user1 = User(\"김길동\", \"kgildong@naver.com\", \"123456\")\n",
    "        ```"
   ]
  },
  {
   "cell_type": "markdown",
   "metadata": {},
   "source": [
    "- `if __name__ == \"__main__\"`:\n",
    "\n",
    "    - 이는 스크립트가 불러와서 실행되는지 혹은 `직접 실행되는지를 구분`해주는 널리 쓰이는 관용구\n",
    "        \n",
    "        - 즉, 직접 실행시에 사용할 코드를 안에 작성합니다.\n",
    "\n",
    "            - 세세한 원리\n",
    "                - 불러와서 쓰일 때는, __name__이 그 모듈의 이름(즉, 저장된 파일명)이 됩니다. \n",
    "                - 만일 user.py를 import user로 불러온다면, __name__ == \"user\"\n",
    "                    - 직접 실행할 때는,  __name__ == \"__main__\""
   ]
  }
 ],
 "metadata": {
  "kernelspec": {
   "display_name": "Python 3",
   "language": "python",
   "name": "python3"
  },
  "language_info": {
   "codemirror_mode": {
    "name": "ipython",
    "version": 3
   },
   "file_extension": ".py",
   "mimetype": "text/x-python",
   "name": "python",
   "nbconvert_exporter": "python",
   "pygments_lexer": "ipython3",
   "version": "3.12.7"
  }
 },
 "nbformat": 4,
 "nbformat_minor": 2
}
