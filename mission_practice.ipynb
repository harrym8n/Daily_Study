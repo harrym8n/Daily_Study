{
 "cells": [
  {
   "cell_type": "markdown",
   "metadata": {},
   "source": [
    "# 스프린트 미션 1 해설"
   ]
  },
  {
   "cell_type": "markdown",
   "metadata": {},
   "source": [
    "## 기초"
   ]
  },
  {
   "cell_type": "markdown",
   "metadata": {},
   "source": [
    "### 문제 1) 3의 배수 출력"
   ]
  },
  {
   "cell_type": "markdown",
   "metadata": {},
   "source": [
    "#### 내풀이 - loop 전체 돌기"
   ]
  },
  {
   "cell_type": "code",
   "execution_count": null,
   "metadata": {},
   "outputs": [],
   "source": [
    "#문제\n",
    "def print_multiples_of_three(n):\n",
    "    num = 1\n",
    "    while num <= n:\n",
    "      if num % 3 == 0:\n",
    "        print(num)\n",
    "      num += 1\n",
    "      \n",
    "\n",
    "#프로그램 실행\n",
    "print_multiples_of_three(7)"
   ]
  },
  {
   "cell_type": "code",
   "execution_count": null,
   "metadata": {},
   "outputs": [],
   "source": [
    "#문제\n",
    "def print_multiples_of_three(n):\n",
    "    num = 1\n",
    "    while num <= n:\n",
    "      if num % 3 == 0:\n",
    "        print(num)\n",
    "      num += 1\n",
    "      \n",
    "\n",
    "#프로그램 실행\n",
    "print_multiples_of_three(7)"
   ]
  },
  {
   "cell_type": "markdown",
   "metadata": {},
   "source": [
    "#### 해설 - 비용절감"
   ]
  },
  {
   "cell_type": "code",
   "execution_count": 1,
   "metadata": {},
   "outputs": [
    {
     "name": "stdout",
     "output_type": "stream",
     "text": [
      "3\n",
      "6\n"
     ]
    }
   ],
   "source": [
    "#문제\n",
    "def print_multiples_of_three(n):\n",
    "    for i in range(1, n+1):\n",
    "        if(3 * i) <= n:\n",
    "            print(3*i)\n",
    "        else : \n",
    "            break\n",
    "\n",
    "#프로그램 실행\n",
    "print_multiples_of_three(7)"
   ]
  },
  {
   "cell_type": "markdown",
   "metadata": {},
   "source": [
    "### 문제 2) 모음 제거하기"
   ]
  },
  {
   "cell_type": "markdown",
   "metadata": {},
   "source": [
    "#### 내풀이"
   ]
  },
  {
   "cell_type": "code",
   "execution_count": 2,
   "metadata": {},
   "outputs": [
    {
     "name": "stdout",
     "output_type": "stream",
     "text": [
      "cdt\n"
     ]
    }
   ],
   "source": [
    "#문제\n",
    "def remove_vowels(s):\n",
    "  remove_char = ['a','e','i','o','u']\n",
    "  for char in remove_char:\n",
    "    s = s.replace(char, '')\n",
    "\n",
    "  return s\n",
    "\n",
    "#프로그램 실행\n",
    "print(remove_vowels(\"codeit\"))"
   ]
  },
  {
   "cell_type": "markdown",
   "metadata": {},
   "source": [
    "#### 해설"
   ]
  },
  {
   "cell_type": "code",
   "execution_count": 7,
   "metadata": {},
   "outputs": [
    {
     "name": "stdout",
     "output_type": "stream",
     "text": [
      "cdt\n"
     ]
    }
   ],
   "source": [
    "def remove_vowels(s):\n",
    "    filtered_string = \"\"\n",
    "\n",
    "    for char in s:\n",
    "        if char not in ['a','e','i','o','u']: #vowels = 'aeiou'로 정의하고, ['a','e','i','o','u'] 대신 vowels를 사용해도 된다.\n",
    "            filtered_string += char\n",
    "    return filtered_string\n",
    "\n",
    "#프로그램 실행\n",
    "print(remove_vowels(\"codeit\"))"
   ]
  },
  {
   "cell_type": "markdown",
   "metadata": {},
   "source": [
    "### 문제 3) 수 크기 비교하기"
   ]
  },
  {
   "cell_type": "markdown",
   "metadata": {},
   "source": [
    "#### 내풀이"
   ]
  },
  {
   "cell_type": "code",
   "execution_count": null,
   "metadata": {},
   "outputs": [],
   "source": [
    "#문제\n",
    "def compare_numbers(num1, num2):\n",
    "  if num1 > num2:\n",
    "    return num1, num2\n",
    "  elif num2 > num1:\n",
    "    return num2, num1\n",
    "\n",
    "#프로그램 실행\n",
    "print(compare_numbers(10, 20))"
   ]
  },
  {
   "cell_type": "markdown",
   "metadata": {},
   "source": [
    "해설"
   ]
  },
  {
   "cell_type": "code",
   "execution_count": null,
   "metadata": {},
   "outputs": [
    {
     "name": "stdout",
     "output_type": "stream",
     "text": [
      "(20, 10)\n"
     ]
    }
   ],
   "source": [
    "#문제\n",
    "def compare_numbers(num1, num2):\n",
    "    return max(num1, num2), min(num1, num2)\n",
    "\n",
    "#프로그램 실행\n",
    "print(compare_numbers(10, 20))"
   ]
  },
  {
   "cell_type": "code",
   "execution_count": null,
   "metadata": {},
   "outputs": [],
   "source": []
  },
  {
   "cell_type": "markdown",
   "metadata": {},
   "source": [
    "#### 내풀이"
   ]
  },
  {
   "cell_type": "code",
   "execution_count": null,
   "metadata": {},
   "outputs": [],
   "source": [
    "#문제\n",
    "def compare_numbers(num1, num2):\n",
    "  if num1 > num2:\n",
    "    return num1, num2\n",
    "  elif num2 > num1:\n",
    "    return num2, num1\n",
    "\n",
    "#프로그램 실행\n",
    "print(compare_numbers(10, 20))"
   ]
  },
  {
   "cell_type": "markdown",
   "metadata": {},
   "source": [
    "해설"
   ]
  },
  {
   "cell_type": "code",
   "execution_count": 8,
   "metadata": {},
   "outputs": [
    {
     "name": "stdout",
     "output_type": "stream",
     "text": [
      "(20, 10)\n"
     ]
    }
   ],
   "source": [
    "#문제\n",
    "def compare_numbers(num1, num2):\n",
    "    return max(num1, num2), min(num1, num2)\n",
    "\n",
    "#프로그램 실행\n",
    "print(compare_numbers(10, 20))"
   ]
  },
  {
   "cell_type": "markdown",
   "metadata": {},
   "source": [
    "### 문제 5) 총 합계 구하기"
   ]
  },
  {
   "cell_type": "markdown",
   "metadata": {},
   "source": [
    "#### 내풀이"
   ]
  },
  {
   "cell_type": "code",
   "execution_count": null,
   "metadata": {},
   "outputs": [],
   "source": [
    "#문제\n",
    "def sum_up_to_n(n):\n",
    "  sum = 0\n",
    "  for i in range(1, n+1):\n",
    "    sum += i\n",
    "\n",
    "  return sum\n",
    "\n",
    "#프로그램 실행\n",
    "print(sum_up_to_n(10))"
   ]
  },
  {
   "cell_type": "markdown",
   "metadata": {},
   "source": [
    "#### 해설"
   ]
  },
  {
   "cell_type": "code",
   "execution_count": 10,
   "metadata": {},
   "outputs": [
    {
     "name": "stdout",
     "output_type": "stream",
     "text": [
      "55\n"
     ]
    }
   ],
   "source": [
    "#문제\n",
    "def sum_up_to_n(n):\n",
    "  sum = n*(n+1)/2\n",
    "  return int(sum)\n",
    "\n",
    "#프로그램 실행\n",
    "print(sum_up_to_n(10))"
   ]
  },
  {
   "cell_type": "markdown",
   "metadata": {},
   "source": [
    "## 응용"
   ]
  },
  {
   "cell_type": "markdown",
   "metadata": {},
   "source": [
    "### 문제 1) 수 크기 비교하기"
   ]
  },
  {
   "cell_type": "markdown",
   "metadata": {},
   "source": [
    "#### 해설"
   ]
  },
  {
   "cell_type": "code",
   "execution_count": 11,
   "metadata": {},
   "outputs": [
    {
     "data": {
      "text/plain": [
       "'a2b1c5a3'"
      ]
     },
     "execution_count": 11,
     "metadata": {},
     "output_type": "execute_result"
    }
   ],
   "source": [
    "#string\n",
    "def compress_string(string):        \n",
    "    result = \"\"\n",
    "    cnt = 1\n",
    "    i = 0\n",
    "\n",
    "    for _ in range(len(string)-1):\n",
    "        if string[i] == string[i+1]:\n",
    "            cnt += 1\n",
    "        else:\n",
    "            result += f\"{string[i]}{cnt}\"\n",
    "            cnt = 1\n",
    "        i += 1\n",
    "    result += f\"{string[i]}{cnt}\"\n",
    "\n",
    "    if len(result) < len(string):\n",
    "        return result\n",
    "    else:\n",
    "        return string\n",
    "\n",
    "# 프로그램 실행\n",
    "compress_string(\"aabcccccaaa\")"
   ]
  },
  {
   "cell_type": "markdown",
   "metadata": {},
   "source": [
    "### 역순의 range()\n",
    "- 슬라이싱의 [a:b:c] 활용"
   ]
  },
  {
   "cell_type": "code",
   "execution_count": 12,
   "metadata": {},
   "outputs": [
    {
     "name": "stdout",
     "output_type": "stream",
     "text": [
      "5\n",
      "4\n",
      "3\n",
      "2\n",
      "1\n"
     ]
    }
   ],
   "source": [
    "for i in range(5,0,-1):\n",
    "    print(i)"
   ]
  },
  {
   "cell_type": "code",
   "execution_count": null,
   "metadata": {},
   "outputs": [],
   "source": []
  }
 ],
 "metadata": {
  "language_info": {
   "name": "python"
  }
 },
 "nbformat": 4,
 "nbformat_minor": 2
}
