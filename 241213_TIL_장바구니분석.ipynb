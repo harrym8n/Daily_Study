{
 "cells": [
  {
   "cell_type": "markdown",
   "metadata": {},
   "source": [
    "## 데이터와 정보"
   ]
  },
  {
   "cell_type": "markdown",
   "metadata": {},
   "source": [
    "- 데이터는 정보가 아니다. 데이터 분석해 유의미한 정보를 도출해야함\n",
    "\n",
    "- 데이터 마이닝 : 데이터를 분석해 패턴이나 규치 도출하여 숨겨진 가치를 추출하는 것"
   ]
  },
  {
   "cell_type": "markdown",
   "metadata": {},
   "source": [
    "## 장바구니 분석(Market Basket Analysis)\n",
    "\n",
    "- 정의 : 고객의 구매 데이터에서 상품 간의 연관성을 찾아내는 분석 기법\n",
    "    - 연관성 분석 기법, 함께 구매되는 상품 간의 패턴 파악\n",
    "    - CRM에 활용 가능: 특정 상품 구매한 고객의 이후 구매할 상품 예측\n",
    "\n",
    "- 데이터 마이닝 기법 중 하나\n",
    "\n",
    "- 목표 : 고객의 구매 패턴을 분석하여 상품 간 연관성 찾는 기법\n",
    "\n",
    "- ex) 크로스 셀링(Cross-Selling), 햄버거 사는 고객 감자튀김도 산다는 정보 도출"
   ]
  },
  {
   "cell_type": "markdown",
   "metadata": {},
   "source": [
    "---"
   ]
  },
  {
   "cell_type": "markdown",
   "metadata": {},
   "source": [
    "## 연관 규칙 마이닝"
   ]
  },
  {
   "cell_type": "markdown",
   "metadata": {},
   "source": [
    "- 연관 규칙 마이닝 : 데이터 안에서 아이템 간의 상호 관련성을 탐색해 유의미한 규칙을 찾아내는 장바구니 분석 기법\n",
    "\n",
    "- IF (조건) THEN (결과) 의 형태, 단 순서가 있는 것이 아니라 단순히 조건과 결과 간 관계가 있다 정도만 나타냄\n",
    "\n",
    "- 연관 규칙 마이닝에는 인과관계가 없다. 상관관계일뿐"
   ]
  },
  {
   "cell_type": "markdown",
   "metadata": {},
   "source": [
    "### 규칙의 가치를 평가하는 지표"
   ]
  },
  {
   "cell_type": "markdown",
   "metadata": {},
   "source": [
    "#### 1. 지지도(Support)"
   ]
  },
  {
   "cell_type": "markdown",
   "metadata": {},
   "source": [
    "- 규칙이 얼마나 자주 발생하는지 나타내는 지표\n",
    "\n",
    "- 규칙이 전체 거래에서 얼마나 자주 발생했는지 측정\n",
    "\n",
    "- 단일 항목 또는 다중 항목이더라도 방향에 관계가 없다.\n",
    "\n",
    "- support(X -> Y) = (X와 Y가 함께 포함된 거래 수) / (전체 거래 수)\n",
    "\n",
    "- 지지도 값이 클수록 규칙 자주 발생, 값이 작을수록 드문 규칙을 나타냄"
   ]
  },
  {
   "cell_type": "markdown",
   "metadata": {},
   "source": [
    "#### 2. 신뢰도(Confidence)\n",
    "\n",
    "- 신뢰도 : 규칙이 얼마나 신뢰할 수 있는지\n",
    "- X를 구매한 고객 중 Y도 구매한 비율을 계산\n",
    "  - 신뢰도는 IF-THEN에서 IF에 해당하는 경우의 수가 분모\n",
    "  - X->Y/ Y->X, `추천의 방향성까지 고려`한다!\n",
    "\n",
    "- confidence(X -> Y) = (X와 Y가 함께 포함된 거래 수) / (X가 포함된 거래 수)\n",
    "\n",
    "- 신뢰도 값이 1에 가까울수록 규칙이 신뢰할 만하며, 고객 추천 시 매우 유용할 수 있다."
   ]
  },
  {
   "cell_type": "markdown",
   "metadata": {},
   "source": [
    "#### 3. 향상도(Lift)\n",
    "\n",
    "- 향상도 : X를 구매하는 것이 Y를 구매할 확률에 영향을 미치는지 평가하는 지표\n",
    "\n",
    "- 두 요소의 영향관계 단일 값, 방향성 고려X\n",
    "\n",
    "- X와 Y가 단순히 우연히 함께 구매된 것인지, 실제로 관련이 있는지 파악할 수 있음\n",
    "\n",
    "- lift(X ⇒ Y) = (X와 Y가 함께 포함된 거래 수) * (전체 거래 수) / (X가 포함된 거래 수) * (Y가 포함된 거래 수)\n",
    "\n",
    "- P(Y) (X와 무관하게 Y를 구매할 확률) 분에 P(Y|X) (X를 구매했을 때 Y를 집어 들 확률)\n",
    "    - `X의 영향 없이 단지, Y 자체가 잘 팔리는 것뿐인지를 구분`할 수 있다! \n",
    "\n",
    "- 해석 기준(1이 기준):  \n",
    "  - 향상도 = 1: X와 Y는 서로 독립적입니다. `우연`한 것. (Y가 팔리는 확률이나 X 다음 Y를 집어들 확률이나 대동소이)\n",
    "  - 향상도 > 1: X를 구매하면 Y를 구매할 확률이 높습니다.  \n",
    "  - 향상도 < 1: X를 구매하면 Y를 구매할 확률이 낮아집니다.  "
   ]
  },
  {
   "cell_type": "markdown",
   "metadata": {},
   "source": [
    "1. 지지도/신뢰도를 통해 규칙 필터링 (설정한 최소 지지도와 최소 신뢰도를 기준으로)\n",
    "    - 적절한 최소 지지도 최소 신뢰도? 필터링 되는 데이터 개수를 보면서 남는 데이터가 100개 내외가 되도록 맞춰주면 좋다!"
   ]
  },
  {
   "cell_type": "markdown",
   "metadata": {},
   "source": [
    "---"
   ]
  },
  {
   "cell_type": "markdown",
   "metadata": {},
   "source": [
    "## Apriori (빈발 탐색) 알고리즘\n",
    "\n",
    "- 연관 규칙 마이닝에서 모든 경우의 수를 탐색하는 방법(Brute Force)은 연산량이 너무 많아 비효율적\n",
    "- 이를 개선하기 위해 **Apriori 알고리즘** 사용\n",
    "\n",
    "- `특정 조합이 빈발하려면 그 부분 집합이 빈발`해야한다는 사전 지식(A priori)을 이용\n",
    "\n",
    "### Apriori 알고리즘의 특징\n",
    "- **'빈발 항목 집합'** 을 통해 자주 발생하지 않는 조합을 배제하여 연산량 줄임\n",
    "- 조합을 검사하는 기준은 `지지도(Support)`를 사용\n",
    "- `단계적으로 더 큰 조합`을 생성하면서 `최소 지지도를 넘는 조합만` 남김"
   ]
  },
  {
   "cell_type": "markdown",
   "metadata": {},
   "source": [
    "### 파이썬 코딩\n",
    "1. 데이터 전처리\n",
    "    - 결측치, 이상치, 중복값, 건별 데이터 정리(`agg('list)`), 원핫 인코딩(`TransactionEncoder()`)\n",
    "    ``` python\n",
    "    # TransactionEncoder 적용\n",
    "    te = TransactionEncoder()\n",
    "    te_result = te.fit_transform(basket_df['ProdName'])\n",
    "    ```\n",
    "\n",
    "2. Apiori 알고리즘 구현(mlxtend의 `apiori()`)\n",
    "    ``` python\n",
    "    from mlxtend.frequent_patterns import apriori\n",
    "    # 지지도 기반 1차 필터 : 연관 규칙 후보 생성\n",
    "    frequent_itemsets = apriori(te_df, min_support=0.06, use_colnames=True) #use_colnames : 열 인덱스 -> 이름 변환\n",
    "    frequent_itemsets # 61개 빈발 항목 집합 생성\n",
    "    ```\n",
    "\n",
    "3. 연관 규칙 추출 및 평가(`association_rules()`)\n",
    "    - lift와 confidence로 내림차순 정렬해서 평가\n",
    "    ```python\n",
    "    from mlxtend.frequent_patterns import association_rules\n",
    "\n",
    "    # 신뢰도 0.8 지표 활용 : 연관 규칙 추출\n",
    "    rules_df = association_rules(frequent_itemsets, metric='confidence', min_threshold=0.8)\n",
    "    rules_df.head(3) # 총 159개의 규칙 반환\n",
    "\n",
    "    rule_top5_df = rules_df.sort_values(by='lift', ascending=False).head(5)\n",
    "    rule_top5_df\n",
    "    ```"
   ]
  },
  {
   "cell_type": "markdown",
   "metadata": {},
   "source": [
    "---"
   ]
  },
  {
   "cell_type": "markdown",
   "metadata": {},
   "source": [
    "## FP-Growth (빈발 탐색) 알고리즘\n",
    "\n",
    "- FP-Growth(Frequent Pattern Growth) 알고리즘은 **Apriori 알고리즘**의 단점인 반복적인 데이터 스캔 문제를 개선한 방법론\n",
    "    - Aprori는 매 단계마다 각 조합에 대해 스캔하므로 데이터의 수가 많을 수록 계산 비용은 비례해서 증가\n",
    "\n",
    "- 트리(Tree) 구조를 활용해 `데이터셋을 단 두 번만 스캔하여 빈발 항목 집합(연관 규칙 후보군)`을 찾을 수 있어 대규모 데이터셋에 유리\n",
    "    1. 첫번째 데이터 스캔 및 조합, 재정렬\n",
    "    2. 트리 구성\n",
    "    - 데이터 개수와 관계없이 언제나 총 2번"
   ]
  },
  {
   "cell_type": "markdown",
   "metadata": {},
   "source": [
    "\n",
    "### FP-Growth 알고리즘의 프로세스\n",
    "#### 1단계: 단일 항목 집합 생성\n",
    "- Apriori 알고리즘과 동일하게 단일 항목 집합 생성\n",
    "- **최소 지지도 이상**인 상품만 선택\n",
    "\n",
    "#### 2단계: 상품 정렬\n",
    "- 1단계에서 제거된 상품을 데이터에서 제외\n",
    "- 남아있는 상품들을 각 로우별로 **빈도(지지도) 순으로 재정렬**\n",
    "\n",
    "#### 3단계: FP-Tree 생성\n",
    "- 2단계의 데이터를 기반으로 **FP-Tree**를 생성\n",
    "- **Root 노드**에서 시작해, 가장 빈도가 높은 상품(예: \"우유\") 노드를 추가\n",
    "- 각 로우를 따라 같은 상품이 등장하면 해당 노드의 빈도를 **증가**시키고, 새로운 상품은 새로운 노드를 생성하여 연결\n",
    "\n",
    "#### 4단계: 부분 트리 생성 및 빈발 항목 집합 추출\n",
    "- 3단계에서 생성된 **FP-Tree**를 활용해, 빈발 항목 집합을 추출\n",
    "- **지지도가 낮은 상품부터 순차적으로 진행**합니다. (가지의 끝에서 시작)\n",
    "- 각 상품을 기준으로 **부분 트리(sub_tree)**를 생성 (해당 상품이 포함되지 않은 가지는 제거)\n",
    "- 상품 노드의 지지도를 상위 노드에 반영하며, 빈발 항목 집합을 선택\n",
    "\n",
    "#### 5단계: 연관 규칙 생성\n",
    "- 최종적으로 선별된 **빈발 항목 집합**을 기준으로 **연관 규칙**을 찾고, 규칙 비교를 위한 추가 지표(예: 신뢰도, 향상도 등)를 계산해 적합한 규칙을 선별\n",
    "\n",
    "### FP-Growth의 장점\n",
    "\n",
    "- FP-Growth는 데이터셋을 2번만 스캔하면 규칙을 도출할 수 있어, `Apriori 알고리즘보다 속도가 빠릅니다`. 따라서 `대규모 데이터셋`에 적용하기 유리함\n",
    "    - Apriori 알고리즘은 항목 집합의 개수가 바뀔 때마다 데이터를 다시 스캔해야 하므로, FP-Growth 보다 속도가 느립니다."
   ]
  },
  {
   "cell_type": "markdown",
   "metadata": {},
   "source": [
    "### 파이썬 코딩\n",
    "1. 데이터 전처리\n",
    "    - 결측치, 이상치, 중복값, 건별 데이터 정리(`agg('list)`), 원핫 인코딩\n",
    "\n",
    "2. FP-Growth 알고리즘 구현(mlxtend의 `fpgrowth()`)\n",
    "\n",
    "3. 연관 규칙 추출 및 평가(`association_rules()`)\n",
    "    - lift와 confidence로 내림차순 정렬해서 평가"
   ]
  },
  {
   "cell_type": "markdown",
   "metadata": {},
   "source": [
    "---"
   ]
  },
  {
   "cell_type": "markdown",
   "metadata": {},
   "source": [
    "## 순차 패턴 마이닝"
   ]
  },
  {
   "cell_type": "markdown",
   "metadata": {},
   "source": [
    "- 순차 패턴 마이닝(Sequential Pattern Mining): 데이터 안에서 아이템 간의 순차 관계를 분석해 유의미한 패턴을 찾아내는 방법론\n",
    "\n",
    "- 연관 규칙 마이닝이 '어떤 물건들이 함께 구매되는가'를 분석하는 데 초점을 맞췄다면, 순차 패턴 마이닝은 `'이 물건 다음에 어떤 물건을 사는가?'(선후관계까지)`를 분석\n",
    "\n",
    "### 예시\n",
    "- **연관 규칙**: `동시 발생` \n",
    "    - IF: 고객이 우유와 달걀을 함께 구매하면 \n",
    "    - THEN: 빵도 함께 구매할 가능성이 높다.\n",
    "- **순차 패턴**: `순차 관계`\n",
    "    - IF: 금요일에 빵을 구매하면 \n",
    "    - THEN: 주말에 우유를 구매할 가능성이 높다.\n",
    "\n",
    "`IF와 THEN 사이에 시간적 간격`이 존재한다는 점이 연관 규칙 마이닝과의 차이점"
   ]
  },
  {
   "cell_type": "markdown",
   "metadata": {},
   "source": [
    "### 시퀀스 데이터란\n",
    "\n",
    "- 시퀀스 데이터(Sequence Data): `순서`를 가지는 데이터로, 주로 장바구니 분석에서는 `시간의 흐름`에 따른 패턴을 발견하는 데 사용\n",
    "\n",
    "- 순차 패턴 마이닝에서는 고객별 시퀀스 데이터를 활용해 `시간 순서`와 `고객 구분자`를 함께 고려해야함\n",
    "\n",
    "### 시퀀스 데이터 정리\n",
    "- 고객 번호로 구매한 상품명을 묶되, 거래 시점을 기준으로 정렬해서 묶어야 함\n",
    "    - **C1**: `<(빵, 고기)>`\n",
    "    - **C2**: `<(우유)>`\n",
    "    - **C3**: `<(야채, 물)>`\n",
    "\n",
    "- 여기서 **< >** 는 **구매 상품 간 순서가 존재** 함을 나타내고, **( )** 는 **같은 시점에 구매된 상품들** 을 묶어 표시"
   ]
  },
  {
   "cell_type": "markdown",
   "metadata": {},
   "source": [
    "## PrefixSpan 알고리즘\n",
    "- 접두사(prefix)를 기준으로 순차패턴을 탐색하는 알고리즘\n",
    "    - 특정 아이템을 prefix로 삼아 해당 아이템을 시작으로 패턴 찾아나가는 방식"
   ]
  },
  {
   "cell_type": "markdown",
   "metadata": {},
   "source": [
    "#### 1. 접두사(Prefix)\n",
    "- PrefixSpan 알고리즘에서 `\"Prefix(A)\"` 는 특정 접두사(A)를 기준으로 데이터 분석을 시작한다는 의미\n",
    "\n",
    "#### 2. Projected Database\n",
    "- `Projected Database`: 선택한 접두사(A) 이후의 데이터만 남겨 재구성한 데이터셋.\n",
    "  - 예시\n",
    "    - `A → B → C → D` → **B → C → D**\n",
    "    - `A → C → B` → **C → B**\n",
    "\n",
    "#### 3. PrefixSpan 알고리즘 작동 방식\n",
    "1. 특정 접두사(예: A)를 선택\n",
    "2. 해당 접두사와 관련된 **Projected Database** 생성\n",
    "3. 이 데이터셋에서 **새로운 시퀀스 패턴**을 탐색\n",
    "4. 재귀적으로 반복하여 전체 데이터에서 **모든 시퀀스 패턴** 발견\n",
    "\n",
    "#### 4. 특징\n",
    "- 접두사 기반으로 데이터를 투영(Project)하여 점진적으로 탐색\n",
    "  - 투영: 접두사 이후의 데이터셋만 탐색\n",
    "- 데이터 크기를 줄이며 효율적으로 패턴을 발견"
   ]
  },
  {
   "cell_type": "markdown",
   "metadata": {},
   "source": [
    "## PrefixSpan 알고리즘\n",
    "- 접두사(prefix)를 기준으로 순차패턴을 탐색하는 알고리즘\n",
    "    - 특정 아이템을 prefix로 삼아 해당 아이템을 시작으로 패턴 찾아나가는 방식"
   ]
  },
  {
   "cell_type": "markdown",
   "metadata": {},
   "source": [
    "1. **1단계: 1개 상품 시퀀스 탐색 및 지지도 계산**\n",
    "   - 가능한 모든 1개 상품 시퀀스를 나열하고 `지지도 카운트`(발생 횟수)를 계산\n",
    "      - 지지도 카운트 : 해당 상품의 발생 횟수, 지지도의 분자값\n",
    "   - `최소 지지도 미만`의 상품(예: 치즈)을 제거하여 빈발 시퀀스만 남김\n",
    "      - 적절한 최소 지지도는 시행착오를 통해 설정해도됨\n",
    "      - ex)최소 지지도 카운트 : 2\n",
    "\n",
    "2. **2단계: Prefix별 Projected DB 생성**\n",
    "   - 1단계 최소 지지도 이상의 상품을 각각 **Prefix**로 두고, 각 상품별로 **Projected DB**를 생성\n",
    "      - Projected DB : 각 고객별 시퀀스에서 **Prefix** 이후의 아이템들만 남김\n",
    "   - prefix 상품이 동일한 시퀀스로 포함되어야 하는 경우에는 **언더바(_)** 로 표기\n",
    "\n",
    "3. **3단계: Projected DB 탐색**\n",
    "   - 각 Prefix의 **Projected DB**에서 모든 시퀀스(A->B)를 뽑아서 지지도 카운트를 계산하고, `빈발 시퀀스`를 추출\n",
    "      - 순차 탐색 : 빈발 시퀀스 ⇌ 연관 탐색 : 빈발 항목 \n",
    "   - 지지도 카운트가 낮은 시퀀스는 제거\n",
    "      - 예. 최소 지지도 카운트 : 2\n",
    "   - 재귀적으로 빈발 시퀀스가 prefix인 또 새로운 Projected DB를 만듬\n",
    "\n",
    "4. **4단계: 트리 구조 완성**\n",
    "   - Prefix별 탐색을 반복하여 **트리 구조**를 완성하고, 최종 **빈발 시퀀스**를 추출\n",
    "      - 최종 트리의 prefix를 추출하면, 빈발 시퀀스\n"
   ]
  },
  {
   "cell_type": "markdown",
   "metadata": {},
   "source": [
    "### 파이썬 코드"
   ]
  },
  {
   "cell_type": "code",
   "execution_count": null,
   "metadata": {},
   "outputs": [
    {
     "data": {
      "text/html": [
       "<div>\n",
       "<style scoped>\n",
       "    .dataframe tbody tr th:only-of-type {\n",
       "        vertical-align: middle;\n",
       "    }\n",
       "\n",
       "    .dataframe tbody tr th {\n",
       "        vertical-align: top;\n",
       "    }\n",
       "\n",
       "    .dataframe thead th {\n",
       "        text-align: right;\n",
       "    }\n",
       "</style>\n",
       "<table border=\"1\" class=\"dataframe\">\n",
       "  <thead>\n",
       "    <tr style=\"text-align: right;\">\n",
       "      <th></th>\n",
       "      <th>OrderID</th>\n",
       "      <th>StockCode</th>\n",
       "      <th>ProdName</th>\n",
       "      <th>Quantity</th>\n",
       "      <th>OrderDate</th>\n",
       "      <th>UnitPrice</th>\n",
       "      <th>CustomerID</th>\n",
       "    </tr>\n",
       "  </thead>\n",
       "  <tbody>\n",
       "    <tr>\n",
       "      <th>0</th>\n",
       "      <td>536365</td>\n",
       "      <td>85123A</td>\n",
       "      <td>WHITE HANGING HEART T-LIGHT HOLDER</td>\n",
       "      <td>6</td>\n",
       "      <td>2010-12-01</td>\n",
       "      <td>2.55</td>\n",
       "      <td>17850.0</td>\n",
       "    </tr>\n",
       "    <tr>\n",
       "      <th>1</th>\n",
       "      <td>536365</td>\n",
       "      <td>71053</td>\n",
       "      <td>WHITE METAL LANTERN</td>\n",
       "      <td>6</td>\n",
       "      <td>2010-12-01</td>\n",
       "      <td>3.39</td>\n",
       "      <td>17850.0</td>\n",
       "    </tr>\n",
       "    <tr>\n",
       "      <th>2</th>\n",
       "      <td>536365</td>\n",
       "      <td>84406B</td>\n",
       "      <td>CREAM CUPID HEARTS COAT HANGER</td>\n",
       "      <td>8</td>\n",
       "      <td>2010-12-01</td>\n",
       "      <td>2.75</td>\n",
       "      <td>17850.0</td>\n",
       "    </tr>\n",
       "    <tr>\n",
       "      <th>3</th>\n",
       "      <td>536365</td>\n",
       "      <td>84029G</td>\n",
       "      <td>KNITTED UNION FLAG HOT WATER BOTTLE</td>\n",
       "      <td>6</td>\n",
       "      <td>2010-12-01</td>\n",
       "      <td>3.39</td>\n",
       "      <td>17850.0</td>\n",
       "    </tr>\n",
       "    <tr>\n",
       "      <th>4</th>\n",
       "      <td>536365</td>\n",
       "      <td>84029E</td>\n",
       "      <td>RED WOOLLY HOTTIE WHITE HEART.</td>\n",
       "      <td>6</td>\n",
       "      <td>2010-12-01</td>\n",
       "      <td>3.39</td>\n",
       "      <td>17850.0</td>\n",
       "    </tr>\n",
       "  </tbody>\n",
       "</table>\n",
       "</div>"
      ],
      "text/plain": [
       "   OrderID StockCode                             ProdName  Quantity  \\\n",
       "0   536365    85123A   WHITE HANGING HEART T-LIGHT HOLDER         6   \n",
       "1   536365     71053                  WHITE METAL LANTERN         6   \n",
       "2   536365    84406B       CREAM CUPID HEARTS COAT HANGER         8   \n",
       "3   536365    84029G  KNITTED UNION FLAG HOT WATER BOTTLE         6   \n",
       "4   536365    84029E       RED WOOLLY HOTTIE WHITE HEART.         6   \n",
       "\n",
       "    OrderDate  UnitPrice  CustomerID  \n",
       "0  2010-12-01       2.55     17850.0  \n",
       "1  2010-12-01       3.39     17850.0  \n",
       "2  2010-12-01       2.75     17850.0  \n",
       "3  2010-12-01       3.39     17850.0  \n",
       "4  2010-12-01       3.39     17850.0  "
      ]
     },
     "metadata": {},
     "output_type": "display_data"
    }
   ],
   "source": [
    "df = pd.read_csv('./data/retail_data.csv')\n",
    "df.head()"
   ]
  },
  {
   "cell_type": "markdown",
   "metadata": {},
   "source": [
    "#### 1) 데이터 전처리"
   ]
  },
  {
   "cell_type": "code",
   "execution_count": null,
   "metadata": {},
   "outputs": [
    {
     "data": {
      "text/html": [
       "<div>\n",
       "<style scoped>\n",
       "    .dataframe tbody tr th:only-of-type {\n",
       "        vertical-align: middle;\n",
       "    }\n",
       "\n",
       "    .dataframe tbody tr th {\n",
       "        vertical-align: top;\n",
       "    }\n",
       "\n",
       "    .dataframe thead th {\n",
       "        text-align: right;\n",
       "    }\n",
       "</style>\n",
       "<table border=\"1\" class=\"dataframe\">\n",
       "  <thead>\n",
       "    <tr style=\"text-align: right;\">\n",
       "      <th></th>\n",
       "      <th>CustomerID</th>\n",
       "      <th>ProdName</th>\n",
       "    </tr>\n",
       "  </thead>\n",
       "  <tbody>\n",
       "    <tr>\n",
       "      <th>0</th>\n",
       "      <td>12427.0</td>\n",
       "      <td>[(WOODLAND  HEIGHT CHART STICKERS , POSTAGE, F...</td>\n",
       "    </tr>\n",
       "    <tr>\n",
       "      <th>1</th>\n",
       "      <td>12431.0</td>\n",
       "      <td>[(VINTAGE UNION JACK CUSHION COVER, VINTAGE HE...</td>\n",
       "    </tr>\n",
       "    <tr>\n",
       "      <th>2</th>\n",
       "      <td>12433.0</td>\n",
       "      <td>[(WOODEN SCHOOL COLOURING SET, SMALL POPCORN H...</td>\n",
       "    </tr>\n",
       "    <tr>\n",
       "      <th>3</th>\n",
       "      <td>12583.0</td>\n",
       "      <td>[(VINTAGE SEASIDE JIGSAW PUZZLES, VINTAGE HEAD...</td>\n",
       "    </tr>\n",
       "    <tr>\n",
       "      <th>4</th>\n",
       "      <td>12662.0</td>\n",
       "      <td>[(SET OF 6 T-LIGHTS SANTA, ROTATING SILVER ANG...</td>\n",
       "    </tr>\n",
       "    <tr>\n",
       "      <th>...</th>\n",
       "      <td>...</td>\n",
       "      <td>...</td>\n",
       "    </tr>\n",
       "    <tr>\n",
       "      <th>194</th>\n",
       "      <td>18085.0</td>\n",
       "      <td>[(WHITE SKULL HOT WATER BOTTLE , SET OF 6 SOLD...</td>\n",
       "    </tr>\n",
       "    <tr>\n",
       "      <th>195</th>\n",
       "      <td>18144.0</td>\n",
       "      <td>[(SET OF 2 CHRISTMAS DECOUPAGE CANDLE, RETROSP...</td>\n",
       "    </tr>\n",
       "    <tr>\n",
       "      <th>196</th>\n",
       "      <td>18168.0</td>\n",
       "      <td>[(WRAP PINK FAIRY CAKES , WRAP ENGLISH ROSE , ...</td>\n",
       "    </tr>\n",
       "    <tr>\n",
       "      <th>197</th>\n",
       "      <td>18229.0</td>\n",
       "      <td>[(BREAD BIN DINER STYLE RED , BREAD BIN DINER ...</td>\n",
       "    </tr>\n",
       "    <tr>\n",
       "      <th>198</th>\n",
       "      <td>18239.0</td>\n",
       "      <td>[(WOODEN STAR CHRISTMAS SCANDINAVIAN, WHITE ME...</td>\n",
       "    </tr>\n",
       "  </tbody>\n",
       "</table>\n",
       "<p>199 rows × 2 columns</p>\n",
       "</div>"
      ],
      "text/plain": [
       "     CustomerID                                           ProdName\n",
       "0       12427.0  [(WOODLAND  HEIGHT CHART STICKERS , POSTAGE, F...\n",
       "1       12431.0  [(VINTAGE UNION JACK CUSHION COVER, VINTAGE HE...\n",
       "2       12433.0  [(WOODEN SCHOOL COLOURING SET, SMALL POPCORN H...\n",
       "3       12583.0  [(VINTAGE SEASIDE JIGSAW PUZZLES, VINTAGE HEAD...\n",
       "4       12662.0  [(SET OF 6 T-LIGHTS SANTA, ROTATING SILVER ANG...\n",
       "..          ...                                                ...\n",
       "194     18085.0  [(WHITE SKULL HOT WATER BOTTLE , SET OF 6 SOLD...\n",
       "195     18144.0  [(SET OF 2 CHRISTMAS DECOUPAGE CANDLE, RETROSP...\n",
       "196     18168.0  [(WRAP PINK FAIRY CAKES , WRAP ENGLISH ROSE , ...\n",
       "197     18229.0  [(BREAD BIN DINER STYLE RED , BREAD BIN DINER ...\n",
       "198     18239.0  [(WOODEN STAR CHRISTMAS SCANDINAVIAN, WHITE ME...\n",
       "\n",
       "[199 rows x 2 columns]"
      ]
     },
     "metadata": {},
     "output_type": "display_data"
    }
   ],
   "source": [
    "# 상품명 기준으로 정렬\n",
    "df = df.sort_values(by='ProdName', ascending=False)\n",
    "\n",
    "# 같은날 구매 상품들은 튜플로 묶기(상품명 알파벳 순서대로 정렬)\n",
    "tuple_df = df.groupby(['CustomerID','OrderDate','OrderID'])['ProdName'].agg(tuple).reset_index()\n",
    "\n",
    "# 일자별로 정렬\n",
    "tuple_df = tuple_df.sort_values(by='OrderDate',ascending=False)\n",
    "\n",
    "# 고객 기준으로 구매 상품들을 리스트로 묶기\n",
    "sequence_df = tuple_df.groupby('CustomerID')['ProdName'].agg(list).reset_index()\n",
    "sequence_df"
   ]
  },
  {
   "cell_type": "markdown",
   "metadata": {},
   "source": [
    "#### 2) PrefixSpan 알고리즘 적용"
   ]
  },
  {
   "cell_type": "code",
   "execution_count": null,
   "metadata": {},
   "outputs": [
    {
     "data": {
      "text/plain": [
       "[(2, [('BATH BUILDING BLOCK WORD',)]),\n",
       " (2, [(\"PAPER CHAIN KIT 50'S CHRISTMAS \",)]),\n",
       " (2, [('JAM MAKING SET WITH JARS', 'JAM MAKING SET PRINTED')])]"
      ]
     },
     "metadata": {},
     "output_type": "display_data"
    }
   ],
   "source": [
    "from prefixspan import PrefixSpan\n",
    "\n",
    "ps = PrefixSpan(sequence_df['ProdName'])\n",
    "ps.frequent(2)"
   ]
  },
  {
   "cell_type": "code",
   "execution_count": null,
   "metadata": {},
   "outputs": [
    {
     "data": {
      "text/plain": [
       "[(2, [('BATH BUILDING BLOCK WORD',)]),\n",
       " (2, [('JAM MAKING SET WITH JARS', 'JAM MAKING SET PRINTED')]),\n",
       " (2, [(\"PAPER CHAIN KIT 50'S CHRISTMAS \",)])]"
      ]
     },
     "metadata": {},
     "output_type": "display_data"
    }
   ],
   "source": [
    "ps.topk(3)"
   ]
  },
  {
   "cell_type": "code",
   "execution_count": null,
   "metadata": {},
   "outputs": [],
   "source": [
    "class PrefixSpan:\n",
    "    def __init__(self, min_support):\n",
    "        self.min_support = min_support\n",
    "\n",
    "    def run(self, sequences):\n",
    "        frequent_patterns = []\n",
    "        self.prefix_span([], sequences, frequent_patterns)\n",
    "        return self.to_dataframe(frequent_patterns)\n",
    "\n",
    "    def prefix_span(self, prefix, projected_db, frequent_patterns):\n",
    "        frequent_items = self.get_frequent_items(projected_db)\n",
    "        for item, support in frequent_items.items():\n",
    "            new_prefix = prefix + [item]\n",
    "            frequent_patterns.append((new_prefix, support))\n",
    "            new_projected_db = self.build_projected_db(projected_db, item)\n",
    "            if new_projected_db:\n",
    "                self.prefix_span(new_prefix, new_projected_db, frequent_patterns)\n",
    "\n",
    "    def get_frequent_items(self, projected_db):\n",
    "        item_counts = {}\n",
    "        for sequence in projected_db:\n",
    "            visited = set()\n",
    "            for itemset in sequence:\n",
    "                for item in itemset:\n",
    "                    if item not in visited:\n",
    "                        if item not in item_counts:\n",
    "                            item_counts[item] = 0\n",
    "                        item_counts[item] += 1\n",
    "                        visited.add(item)\n",
    "        return {item: count for item, count in item_counts.items() if count >= self.min_support}\n",
    "\n",
    "    def build_projected_db(self, projected_db, item):\n",
    "        new_projected_db = []\n",
    "        for sequence in projected_db:\n",
    "            for idx, itemset in enumerate(sequence):\n",
    "                if item in itemset:\n",
    "                    new_projected_db.append(sequence[idx+1:])\n",
    "                    break\n",
    "        return new_projected_db\n",
    "\n",
    "    def to_dataframe(self, frequent_patterns):\n",
    "        pattern_data = [{'item': pattern[0], 'support_count': pattern[1], 'item_count': len(pattern[0])} for pattern in frequent_patterns]\n",
    "        df_patterns = pd.DataFrame(pattern_data)\n",
    "        return df_patterns"
   ]
  },
  {
   "cell_type": "code",
   "execution_count": null,
   "metadata": {},
   "outputs": [
    {
     "data": {
      "text/html": [
       "<div>\n",
       "<style scoped>\n",
       "    .dataframe tbody tr th:only-of-type {\n",
       "        vertical-align: middle;\n",
       "    }\n",
       "\n",
       "    .dataframe tbody tr th {\n",
       "        vertical-align: top;\n",
       "    }\n",
       "\n",
       "    .dataframe thead th {\n",
       "        text-align: right;\n",
       "    }\n",
       "</style>\n",
       "<table border=\"1\" class=\"dataframe\">\n",
       "  <thead>\n",
       "    <tr style=\"text-align: right;\">\n",
       "      <th></th>\n",
       "      <th>item</th>\n",
       "      <th>support_count</th>\n",
       "      <th>item_count</th>\n",
       "    </tr>\n",
       "  </thead>\n",
       "  <tbody>\n",
       "    <tr>\n",
       "      <th>0</th>\n",
       "      <td>[WOODLAND  HEIGHT CHART STICKERS ]</td>\n",
       "      <td>2</td>\n",
       "      <td>1</td>\n",
       "    </tr>\n",
       "    <tr>\n",
       "      <th>1</th>\n",
       "      <td>[POSTAGE]</td>\n",
       "      <td>7</td>\n",
       "      <td>1</td>\n",
       "    </tr>\n",
       "    <tr>\n",
       "      <th>2</th>\n",
       "      <td>[FELTCRAFT 6 FLOWER FRIENDS]</td>\n",
       "      <td>8</td>\n",
       "      <td>1</td>\n",
       "    </tr>\n",
       "    <tr>\n",
       "      <th>3</th>\n",
       "      <td>[DINOSAURS  WRITING SET ]</td>\n",
       "      <td>2</td>\n",
       "      <td>1</td>\n",
       "    </tr>\n",
       "    <tr>\n",
       "      <th>4</th>\n",
       "      <td>[COFFEE MUG CAT + BIRD DESIGN]</td>\n",
       "      <td>2</td>\n",
       "      <td>1</td>\n",
       "    </tr>\n",
       "    <tr>\n",
       "      <th>...</th>\n",
       "      <td>...</td>\n",
       "      <td>...</td>\n",
       "      <td>...</td>\n",
       "    </tr>\n",
       "    <tr>\n",
       "      <th>763</th>\n",
       "      <td>[FOLDING UMBRELLA RED/WHITE POLKADOT]</td>\n",
       "      <td>2</td>\n",
       "      <td>1</td>\n",
       "    </tr>\n",
       "    <tr>\n",
       "      <th>764</th>\n",
       "      <td>[FOLDING UMBRELLA PINKWHITE POLKADOT]</td>\n",
       "      <td>2</td>\n",
       "      <td>1</td>\n",
       "    </tr>\n",
       "    <tr>\n",
       "      <th>765</th>\n",
       "      <td>[TRADITIONAL MODELLING CLAY]</td>\n",
       "      <td>2</td>\n",
       "      <td>1</td>\n",
       "    </tr>\n",
       "    <tr>\n",
       "      <th>766</th>\n",
       "      <td>[BLACK DIAMANTE EXPANDABLE RING]</td>\n",
       "      <td>2</td>\n",
       "      <td>1</td>\n",
       "    </tr>\n",
       "    <tr>\n",
       "      <th>767</th>\n",
       "      <td>[GOLD PRINT PAPER BAG]</td>\n",
       "      <td>2</td>\n",
       "      <td>1</td>\n",
       "    </tr>\n",
       "  </tbody>\n",
       "</table>\n",
       "<p>768 rows × 3 columns</p>\n",
       "</div>"
      ],
      "text/plain": [
       "                                      item  support_count  item_count\n",
       "0       [WOODLAND  HEIGHT CHART STICKERS ]              2           1\n",
       "1                                [POSTAGE]              7           1\n",
       "2             [FELTCRAFT 6 FLOWER FRIENDS]              8           1\n",
       "3                [DINOSAURS  WRITING SET ]              2           1\n",
       "4           [COFFEE MUG CAT + BIRD DESIGN]              2           1\n",
       "..                                     ...            ...         ...\n",
       "763  [FOLDING UMBRELLA RED/WHITE POLKADOT]              2           1\n",
       "764  [FOLDING UMBRELLA PINKWHITE POLKADOT]              2           1\n",
       "765           [TRADITIONAL MODELLING CLAY]              2           1\n",
       "766       [BLACK DIAMANTE EXPANDABLE RING]              2           1\n",
       "767                 [GOLD PRINT PAPER BAG]              2           1\n",
       "\n",
       "[768 rows x 3 columns]"
      ]
     },
     "metadata": {},
     "output_type": "display_data"
    }
   ],
   "source": [
    "ps = PrefixSpan(min_support=2)\n",
    "patterns = ps.run(sequence_df['ProdName'])\n",
    "patterns"
   ]
  },
  {
   "cell_type": "code",
   "execution_count": null,
   "metadata": {},
   "outputs": [],
   "source": [
    "fs_top5_df = patterns[patterns['item_count']>=2].sort_values(by='support_count',ascending=False).head(5).reset_index(drop=True)"
   ]
  },
  {
   "cell_type": "code",
   "execution_count": null,
   "metadata": {},
   "outputs": [
    {
     "data": {
      "text/plain": [
       "['ALARM CLOCK BAKELIKE GREEN', 'GINGERBREAD MAN COOKIE CUTTER']"
      ]
     },
     "metadata": {},
     "output_type": "display_data"
    }
   ],
   "source": [
    "fs_top5_df['item'].iloc[0]"
   ]
  }
 ],
 "metadata": {
  "language_info": {
   "name": "python"
  }
 },
 "nbformat": 4,
 "nbformat_minor": 2
}
