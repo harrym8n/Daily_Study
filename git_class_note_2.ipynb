{
 "cells": [
  {
   "cell_type": "markdown",
   "metadata": {},
   "source": [
    "## HEAD"
   ]
  },
  {
   "cell_type": "markdown",
   "metadata": {},
   "source": [
    "#### 의미\n",
    "- 어떤 커밋 하나를 가리킴\n",
    "- 가장 최상단 커밋\n",
    "\n",
    "\n",
    "#### 역할\n",
    "- HEAD가 가리키는 커밋에 따라 working directory(working tree) 구성"
   ]
  },
  {
   "cell_type": "markdown",
   "metadata": {},
   "source": [
    "___"
   ]
  },
  {
   "cell_type": "markdown",
   "metadata": {},
   "source": [
    "### git reset : Head를 옮겨 주는 커맨드\n",
    "- HEAD가 과거의 커밋을 가리키게 할 수 있다.\n",
    "- `git reset --hard [커밋ID]`\n",
    "- [커밋ID] 대신 HEAD^, HEAD~N 등을 사용해 바로 이전, N번 전(자신을 포함하지 않고 N번째 커밋) 으로 reset할 수 있다.\n",
    "- 과거 말고 미래로도 갈 수 있다. 원하는 커밋ID를 지정해 HEAD를 이동시킴\n",
    "- <font color=\"red\">**(중요)git reset [커밋 아이디]는 HEAD가 가리키던 브랜치가 가리키던 커밋을 변경 / git reset을 써도 HEAD는 계속 같은 브랜치를 가리키고 있습니다. /HEAD랑 브랜치랑 같이 데리고 다님**</font>\n",
    "\n",
    "#### git reset의 3가지 옵션\n",
    "1) `--soft` : 헤드가 과거의 특정 커밋을 가리키도록 한다 repository\n",
    "2) `--mixed` : staging area를 과거의 특정 커밋의 내용과 똑같게 만든다. staging area / repository\n",
    "3) `--hard` : repository를 과거의 특정 커밋의 내용과 똑같게 만든다. working directory / staging area / repository\n",
    "    - 권장되지 않음 / 커밋 이후에 모든 것이 사라짐"
   ]
  },
  {
   "cell_type": "markdown",
   "metadata": {},
   "source": [
    "### git tag : 커밋에 태그 붙이기\n",
    "- `git tag [태그명] [커밋ID]` : 태그 붙이기\n",
    "- `git tag -d [태그명]` : 태그 삭제\n",
    "- `git tag` : 현재 붙여진 tag명 출력\n",
    "- `git show [태그명]` : 태그 달린 커밋 상세 내용 조회"
   ]
  },
  {
   "cell_type": "markdown",
   "metadata": {},
   "source": [
    "---"
   ]
  },
  {
   "cell_type": "markdown",
   "metadata": {},
   "source": [
    "## Branch"
   ]
  },
  {
   "cell_type": "markdown",
   "metadata": {},
   "source": [
    "### **1) Branch**"
   ]
  },
  {
   "cell_type": "markdown",
   "metadata": {},
   "source": [
    "의미\n",
    "- 하나의 코드 관리 흐름\n",
    "\n",
    "종류\n",
    "- 마스터 브랜치(메인 브랜치) : 기본적으로 생성되는 기본\n",
    "\n",
    "명령어\n",
    "- `git branch [브랜치명]` : 브랜치 생성\n",
    "- `git branch` : 생성되어있는 branch 조회\n",
    "- `git checkout [브랜치명]` : [브랜치명]으로 이동\n",
    "- `git branch -d [브랜치명]` : [브랜치명] 삭제 #[브랜치명]에 없을 때 삭제 가능\n",
    "- `git checkout -b [브랜치명]` : [브랜치명] 브랜치 생성하고 거기로 이동"
   ]
  },
  {
   "cell_type": "markdown",
   "metadata": {},
   "source": [
    "### **2) merge**"
   ]
  },
  {
   "cell_type": "markdown",
   "metadata": {},
   "source": [
    "- `git merge [가지고 오는 branch]` : 현재 위치의 branch에 [가지고 오는 branch]를 합치겠다."
   ]
  },
  {
   "cell_type": "markdown",
   "metadata": {},
   "source": [
    "#### #merge 할때 conflict가 나는 경우\n",
    "- 머지를 하다가 충돌이 발생했다.\n",
    "\n",
    "해결 방법 1)\n",
    "1) 컨플릭트가 발생한 파일을 연다. (merge 시도할 때 어디서 conflict 발생했는지 메시지 뜬다.)\n",
    "2) 머지의 결과가 되었으면 하는 모습으로 코드 수정 및 저장\n",
    "3) 커밋(git add. > git commit)\n",
    "\n",
    "해결 방법 2)\n",
    "- conflict 시 merge 취소하기\n",
    "- conflict 발생 시, `git merge --abort` 로 merge 취소 가능"
   ]
  },
  {
   "cell_type": "markdown",
   "metadata": {},
   "source": [
    "#### #Merge 의 종류\n",
    "- 3-way merge\n",
    "- fast-forward merge"
   ]
  },
  {
   "cell_type": "markdown",
   "metadata": {},
   "source": [
    "### **3) 여러 브랜치 PUSH 하기**"
   ]
  },
  {
   "cell_type": "markdown",
   "metadata": {},
   "source": [
    "원격 저장소에 연결하고 push하기\n",
    "- 깃헙에 로컬 저장소 연결 : `git remote add origin [github에서 생성한 remote repository 주소]`\n",
    "- 처음 push 하는 경우 : `git push --set-upstream origin [브랜치명]` or `git push -u origin [브랜치명]`"
   ]
  },
  {
   "cell_type": "markdown",
   "metadata": {},
   "source": [
    "### **4) HEAD와 브랜치의 관계**"
   ]
  },
  {
   "cell_type": "markdown",
   "metadata": {},
   "source": [
    "- HEAD : 어떤 커밋 하나를 가리킴(포인터)\n",
    "- branch : 하나의 코드 관리 흐름 > 커밋을 가리키는 존재\n",
    "- HEAD -> main ?\n",
    "    - 사실은, HEAD > branch > commit 구조이다!\n",
    "    - HEAD는 branch를 거쳐서 간접적으로 commit 을 가리킨다.\n",
    "- checkout : HEAD가 branch를 넘나들며 commit을 가리킴\n",
    "    - 이전 커밋으로 브랜치를 나누고 싶을 때 사용하기 좋음"
   ]
  },
  {
   "cell_type": "markdown",
   "metadata": {},
   "source": [
    "___"
   ]
  },
  {
   "cell_type": "markdown",
   "metadata": {},
   "source": [
    "## 다양한 use case"
   ]
  },
  {
   "cell_type": "markdown",
   "metadata": {},
   "source": [
    "### 1) push 전 pull 해야하는 경우\n",
    "- 협업할 때는 대부분 해당\n",
    "- 다른 개발자들이 작업한 것을 로컬에 pull하고 push 해야함\n",
    "1) git pull > conflict 해결 > git push\n",
    "2) `git fetch` > `git diff` > (1) 변경하라고 해당 작업자에 노티스 (2) 직접 수정하고 merge\n",
    "    - `git fetch`: merge 하지 않고 가져오기만 함 / 리모트 레포지토리의 브랜치를 검토해야할 때\n",
    "    - `git pull` = `git fetch` + `git merge`\n",
    "    - `git diff` : 두 가지 버전의 차이 확인하기"
   ]
  },
  {
   "cell_type": "markdown",
   "metadata": {},
   "source": [
    "### 2) 누가 이 코드를 작성했을까\n",
    "- `git blame [파일명]` : 어떤 파일의 특정 코드를 누가 작성했는지 찾아내기 위한 커맨드(한줄 한줄)"
   ]
  },
  {
   "cell_type": "markdown",
   "metadata": {},
   "source": [
    "### 3) 이미 커밋된 걸 취소하기\n",
    "- `git revert [커밋ID]` : 커밋 취소된 버전의 새로운 커밋 생성해서 커밋 취소\n",
    "- 새로운 커밋 생성하는 것이기 때문에 git reset과 다르게 git push해야함"
   ]
  },
  {
   "cell_type": "markdown",
   "metadata": {},
   "source": [
    "### 4) 여러 커밋 취소하기\n",
    "- `git revert [커밋ID_1..커밋ID_2]` 사용 - **예전** 부터 **최근** 커밋으로 범위 지정\n",
    "    - 예전 커밋은 포함되지 않고 취소됨"
   ]
  },
  {
   "cell_type": "markdown",
   "metadata": {},
   "source": [
    "### 5) reset으로 이전 버전 커밋으로 되돌아 갔을때 다시 미래의 버전으로 reset하기\n",
    "- reset해도 커밋들이 진짜로 사라진 것은 아니다.\n",
    "- `git reflog` reset로 인해 가려진 커밋ID를 확인하는 함수를 통해 [되돌아갈 커밋ID] 확인\n",
    "- [되돌아갈 커밋ID]로 reset하면 됨"
   ]
  },
  {
   "cell_type": "markdown",
   "metadata": {},
   "source": [
    "### 6) 그래프로 다른 브랜치까지 한번에 git history 보기\n",
    "- `git log --pretty=oneline --all --graph` : 그래프로(--graph) 다른 브랜치까지(--all) 다 보여줌"
   ]
  },
  {
   "cell_type": "markdown",
   "metadata": {
    "vscode": {
     "languageId": "plaintext"
    }
   },
   "source": [
    "### 7) Rebase\n",
    "- `git rebase [옵션]` : \n",
    "    - merge와이 차이: 두 줄로 가던 걸 없애고 한줄로 그냥 만들어버림(커밋 기록을 깔끔하게 유지하기 위해서)\n",
    "        - = rebase는 새로운 커밋을 만들지 않는다. \n",
    "    - merge나 rebase나 결과는 같아! 그냥 깔끔하게 만들기 위해서\n",
    "    - 과정 : `git rebase` > `conflict 해결` > `git add .` > `git rebase --continue`"
   ]
  },
  {
   "cell_type": "markdown",
   "metadata": {},
   "source": [
    "### 8) 작업 내용 임시 저장하기 : stash\n",
    "- `git stash` : 작업 임시저장\n",
    "- `git stash list` : 스택으로 저장되어 있는 stash 정보 조회\n",
    "    - 하나의 레포지토리에 하나의 stash 스택 공간 있음\n",
    "- `git stash apply` : stash 적용\n",
    "    - `git stash apply [stash ID]` : 특정 stash 적용\n",
    "- 잘못된 브랜치에서 작업하고 있었을 경우\n",
    "    - git stash > 원하는 branch로 이동 > git stash apply\n",
    "- `git stash drop [stash ID]` : 특정 stash 삭제\n",
    "\n",
    "- `git stash apply [커밋 아이디]` : 스택 영역에 저장된 가장 최근의(혹은 특정) 작업 내용을 working directory에 적용\n",
    "- `git stash drop [커밋 아이디]` : 스택 영역에 저장된 가장 최근의(혹은 특정) 작업 내용을 스택에서 삭제\n",
    "- `git stash pop [커밋 아이디]` : 스택 영역에 저장된 가장 최근의(혹은 특정) 작업 내용을 working directory에 적용하면서 스택에서 삭제"
   ]
  },
  {
   "cell_type": "markdown",
   "metadata": {},
   "source": [
    "### 9) 필요한 내용만 가져오는 cherry-pick\n",
    "- `git cherry-pick [커밋 ID]`\n",
    "- 다른 브랜치를 merge하고 싶지는 않지만 해당 브랜치의 커밋 히스토리 중 마음에 드는 특정 커밋만을 가져와서 현재 브랜치에 반영하고 싶을 때 사용"
   ]
  },
  {
   "cell_type": "markdown",
   "metadata": {},
   "source": [
    "### 10) reset --soft\n",
    "- reset --soft 를 통해 커밋 깔끔하게 다시 할 수 있다."
   ]
  },
  {
   "cell_type": "markdown",
   "metadata": {},
   "source": [
    "### 11) git이 무시하는 파일\n",
    "- .gitignore 파일은 보통 Git으로 프로젝트의 버전 관리를 시작하려고 할 때 작성하는데요. .gitignore 파일에는 'working directory 안에 존재하기는 하지만 Git으로 버전 관리하고 싶지 않은 것들'의 이름을 적으면 됩니다."
   ]
  },
  {
   "cell_type": "markdown",
   "metadata": {},
   "source": [
    "___"
   ]
  },
  {
   "cell_type": "markdown",
   "metadata": {},
   "source": [
    "질문(<font color= \"blue\">해결완료</font>) 위 노트에 반영해둠\n",
    "- git revert하면 자동으로 git push되는게 맞나요~? 리모트 레포지토리를 취소하는 함수 맞나요~?"
   ]
  }
 ],
 "metadata": {
  "language_info": {
   "name": "python"
  }
 },
 "nbformat": 4,
 "nbformat_minor": 2
}
