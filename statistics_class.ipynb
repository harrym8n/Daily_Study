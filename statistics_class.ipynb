{
 "cells": [
  {
   "cell_type": "markdown",
   "metadata": {},
   "source": [
    "# 기초 통계와 데이터 시각화"
   ]
  },
  {
   "cell_type": "markdown",
   "metadata": {},
   "source": [
    "## 통계와 시각화"
   ]
  },
  {
   "cell_type": "markdown",
   "metadata": {},
   "source": [
    ">기술 통계를 시각화해서 인사이트를 잘 전달할 수 있도록 `시각화`!\n",
    "- 시각화 과정은 분석 후에도 필요하지만 분석을 하는 과정에서도 필수\n",
    "- seaborn\n",
    "    - 통계 기반 데이터 시각화 툴\n",
    "    - 같은 공수로 더 많은 데이터를 이쁘게 보여준다."
   ]
  },
  {
   "cell_type": "markdown",
   "metadata": {},
   "source": [
    "### 1) 통계 기본 상식"
   ]
  },
  {
   "cell_type": "markdown",
   "metadata": {},
   "source": [
    "통계 : 어떤 상황을 쉽게 이해할 수 있도록 숫자로 정리하는 것\n",
    "- 기술 통계(Descriptive Statistics) : 상황을 잘 설명해주는 통계 (요약)\n",
    "- 추론 통계(Descriptive Statistics)"
   ]
  },
  {
   "cell_type": "markdown",
   "metadata": {},
   "source": [
    "데이터 유형\n",
    "- 수치형 데이터(Numerical Data) : 숫자로 된 데이터, 사칙연산 가능\n",
    "- 범주형 데이터(Categorical Data) : 범주로 된 데이터"
   ]
  },
  {
   "cell_type": "markdown",
   "metadata": {},
   "source": [
    "**대표값**\n",
    "- 평균(mean) = 데이터 합계 / 데이터 개수\n",
    "- 중간값(median) = (전체 데이터 오름 차순 -> 가장 중간 위치 점수)\n",
    "    - 홀수면 가장 중앙의 값\n",
    "    - 짝수면 가장 중앙의 2개의 값의 평균\n",
    "- 최빈값(mode) : 가장 빈도 수가 높은 데이터"
   ]
  },
  {
   "cell_type": "markdown",
   "metadata": {},
   "source": [
    "**사분위수(quartile)**\n",
    "- min : 최소값\n",
    "- Q1(25%) : 데이터 오름차순으로 정렬했을 때 전체의 25%되는 값\n",
    "- Q2(50%) : 데이터 오름차순으로 정렬했을 때 전체의 50%되는 값, 중간값\n",
    "- Q3(75%) : 데이터 오름차순으로 정렬했을 때 전체의 75%되는 값\n",
    "- max : 최댓값"
   ]
  },
  {
   "cell_type": "markdown",
   "metadata": {},
   "source": [
    "중간 값은 어떨 때 써야할까?\n",
    "- 이상치가 있는 경우(데이터 셋에 다른 값보다 극단적으로 크거나 작은 값이 있는 경우)\n",
    "- 평균과 중간값이 비슷하면 이상치가 들어가지 않은 데이터 셋이라는 것을 알 수 있다."
   ]
  },
  {
   "cell_type": "markdown",
   "metadata": {},
   "source": [
    "### 2) 사분위수 계산하기"
   ]
  },
  {
   "cell_type": "markdown",
   "metadata": {},
   "source": [
    "데이터 개수가 홀수일 때\n",
    "- 중간값을 포함하는 앞의 범위에서 중간값 > 1사분위수\n",
    "- 중간값을 포함하는 뒤의 범위에서 중간값 > 3사분위수"
   ]
  },
  {
   "cell_type": "markdown",
   "metadata": {},
   "source": [
    "데이터 개수가 짝수일 때\n",
    ">인덱스로\n",
    "- 1사분위수(Q1) = 가중평균으로 구함()"
   ]
  },
  {
   "cell_type": "markdown",
   "metadata": {},
   "source": [
    "___"
   ]
  },
  {
   "cell_type": "markdown",
   "metadata": {},
   "source": [
    "## 박스 플롯(or Box and Whisker Plot)"
   ]
  },
  {
   "cell_type": "markdown",
   "metadata": {},
   "source": [
    "- IQR : 3사분위수 - 1사분위수\n",
    "- 상한선 : Q3 + 1.5xIQR\n",
    "    - 상한 수염(upper whisker)\n",
    "    - 하한 수염(lower whisker)\n",
    "- 하한선 : Q1 - 1.5xIQR\n",
    "\n",
    "상한선, 하한선을 벗어난 데이터는 `이상치(outlier)`이다."
   ]
  },
  {
   "cell_type": "markdown",
   "metadata": {},
   "source": [
    "---"
   ]
  },
  {
   "cell_type": "markdown",
   "metadata": {},
   "source": [
    "## 히스토그램"
   ]
  },
  {
   "cell_type": "markdown",
   "metadata": {},
   "source": [
    ">분포를 보는 방법 중 하나, 막대 차트로 표현됨"
   ]
  },
  {
   "cell_type": "markdown",
   "metadata": {},
   "source": [
    "데이터 구분\n",
    "- 이산형 데이터 : 특정한 값들만 가질 수 있는 데이터로, 보통 셀 수 있는 항목들\n",
    "    - 구간으로 묶어서 히스토그램 만들기 가능\n",
    "- 연속형 데이터 : \t특정 구간 안의 모든 값을 가질 수 있는 데이터로, 일반적으로 측정 가능한 항목들"
   ]
  },
  {
   "cell_type": "markdown",
   "metadata": {},
   "source": [
    "---"
   ]
  },
  {
   "cell_type": "markdown",
   "metadata": {},
   "source": [
    "## 모집단과 표본"
   ]
  },
  {
   "cell_type": "markdown",
   "metadata": {},
   "source": [
    "전수조사에는 시간과 비용이 많이든다. 따라서 표본을 뽑아서 표본을 분석\n",
    "- 모집단(Population) : 전체 집단\n",
    "- 표본 집단(sample) :\n",
    "- 추론 통계 : 모집단을 추론하는 것"
   ]
  },
  {
   "cell_type": "markdown",
   "metadata": {},
   "source": [
    "---"
   ]
  },
  {
   "cell_type": "markdown",
   "metadata": {},
   "source": [
    "## 확률밀도함수 KDE"
   ]
  },
  {
   "cell_type": "markdown",
   "metadata": {},
   "source": [
    "연속형데이터를 좀 더 세밀하게 표현"
   ]
  },
  {
   "cell_type": "markdown",
   "metadata": {},
   "source": [
    "### PDF (Probability Density Function)\n",
    "> 모집단의 데이터를 다 받아서 그린것\n",
    "- **정의**: (`모집단의`) 확률 밀도를 나타내는 함수.\n",
    "- **특징**:\n",
    "  - 특정 분포(정규분포 등)에 대한 이론적 정의.\n",
    "  - 구간 내 확률을 적분하여 구함.\n",
    "  - 확률 분포의 수학적 모델.\n",
    "  - 그래프 아래 공간 넓이 = 1 (확률이기 때문)\n",
    "  - 특정 지점의 확률은 0 이나, 구간을 설정하면 확률 산출 가능해짐\n",
    "\n",
    "### KDE (Kernel Density Estimation)\n",
    "> 모집단에서 표본을 뽑아 그 데이터만을 다 받아서 그린것\n",
    "- **정의**: 데이터의 분포를 부드럽게 추정하는 `비모수적 방법` (표본 -> 모집단 추정)\n",
    "- **특징**:\n",
    "  - 데이터 포인트를 기반으로 연속적인 밀도를 추정.\n",
    "  - `밴드폭을 설정`해 부드러움 조정.\n",
    "  - 실제 데이터(표본) 에 기반한 분포.\n",
    "\n",
    "### 주요 차이\n",
    "- **비모수적 vs 모수적**: KDE는 데이터 기반의 비모수적(표본->모집단 추정) 방법, PDF는 이론적(모집단) 분포 기반.\n",
    "- **밴드폭**: KDE는 `밴드폭(조정 가능)` 설정 필요, PDF는 고정된 함수."
   ]
  },
  {
   "cell_type": "markdown",
   "metadata": {},
   "source": [
    "### plot 옵션 -> bw_method (bandwidth method) : 밴드폭\n",
    "- **의미**: KDE에서 커널 함수의 **밴드폭**(데이터 주변에서 커널이 `얼마나 넓게 퍼질지`를 결정)을 설정하는 방법.\n",
    "  - **크면**: 곡선이 부드러워지며, 데이터의 세부 변동을 덜 반영.\n",
    "  - **작으면**: 곡선이 세밀해지며, 데이터의 작은 변동까지 반영. 하지만 과적합 위험이 있음.\n",
    "\n",
    "### 조정 방법\n",
    "- **기본값**: scott 또는 silverman 방법을 통해 `자동으로 설정`됨.\n",
    "- **`수동 조정`**:\n",
    "  - **큰 값** (예: `bw_method=2`): 데이터의 전체적인 추세를 확인할 때.\n",
    "  - **작은 값** (예: `bw_method=0.5`): 데이터의 세부 분포를 보고 싶을 때."
   ]
  },
  {
   "cell_type": "markdown",
   "metadata": {},
   "source": [
    "---"
   ]
  },
  {
   "cell_type": "markdown",
   "metadata": {},
   "source": [
    "## 데이터 분포의 모양"
   ]
  },
  {
   "cell_type": "markdown",
   "metadata": {},
   "source": [
    "분포 종류\n",
    "- 정규 분포 : 종모양의 분포 / 완벽하게 대칭\n",
    "    -  왜도 = 0\n",
    "- right-skewed / positively-skewed : 오른쪽으로 꼬리내린 분포\n",
    "    - 왜도 > 0\n",
    "- left-skewed / negatively-skewed : 왼쪽으로 꼬리내린 분포\n",
    "    - 왜도 < 0\n",
    "\n",
    "> positively-skewed, 양의 방향 오른쪽으로 꼬리거든, right-skewed\n",
    "> 반대로 negatively-skewed, 음의 방향 왼쪽으로 꼬리, left-skewed"
   ]
  },
  {
   "cell_type": "markdown",
   "metadata": {},
   "source": [
    "왜도 : 그래프가 편향된 정도(치우쳐진 정도)\n",
    "- 왜도의 절댒값이 클수록 데이터가 더 많이 비뚤어짐"
   ]
  },
  {
   "cell_type": "markdown",
   "metadata": {},
   "source": [
    "첨도 : 데이터의 분포가 얼마나 뾰족한지\n",
    "- 낮으면 뭉툭\n",
    "- 높으면 뾰족"
   ]
  },
  {
   "cell_type": "markdown",
   "metadata": {},
   "source": [
    "---"
   ]
  },
  {
   "cell_type": "markdown",
   "metadata": {},
   "source": [
    "## 분산과 표준편차"
   ]
  },
  {
   "cell_type": "markdown",
   "metadata": {},
   "source": [
    "그래프마다 값이 퍼져 있는 정도가 다름 / 퍼져있는 정도를 나타내주는 지표는 아래 2개"
   ]
  },
  {
   "cell_type": "markdown",
   "metadata": {},
   "source": [
    "- 분산(Variance) : 편차의 제곱의 평균\n",
    "- 표준편차(Standard Deviation) : 분산의 제곱근"
   ]
  },
  {
   "cell_type": "markdown",
   "metadata": {},
   "source": [
    "계산\n",
    "- 편차 : 값이 평균에서 얼마나 떨어져 있는지\n",
    "    - 여기서 부호는 평균에서 떨어진 방향을 말하는 것(음수는 왼쪽/양수는 오른쪽)\n",
    "    - 편차의 합은 항상 0이 나옴\n",
    "- 각 편차를 제곱\n",
    "    - 제곱을 해서 양수로 통일\n",
    "    - `편차가 큰 값들을 더 부각시킴`\n",
    "    - 이 제곱들의 평균이 분산이 된다.\n",
    "- 표준편차\n",
    "    - 분산의 제곱근\n",
    "    - 단위를 다시 맞춰주기 위해"
   ]
  },
  {
   "cell_type": "markdown",
   "metadata": {},
   "source": [
    "해석\n",
    "- 분산/표준편차가 작으면? 데이터가 대체로 평균 근처에 모여있음\n",
    "- 분산/표준편차가 크면? 데이터가 평균 기준으로 퍼져있다."
   ]
  },
  {
   "cell_type": "markdown",
   "metadata": {},
   "source": [
    "표본에서는?\n",
    "- 분산 구할 때, 전체 데이터의 개수로 나누는 것이 아닌 (데이터의 개수 -1)로 나눠줌"
   ]
  }
 ],
 "metadata": {
  "language_info": {
   "name": "python"
  }
 },
 "nbformat": 4,
 "nbformat_minor": 2
}
