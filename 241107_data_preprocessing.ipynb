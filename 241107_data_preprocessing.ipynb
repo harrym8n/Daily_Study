{
 "cells": [
  {
   "cell_type": "markdown",
   "metadata": {},
   "source": [
    "# 데이터 전처리"
   ]
  },
  {
   "cell_type": "markdown",
   "metadata": {},
   "source": [
    "## 결측값"
   ]
  },
  {
   "cell_type": "markdown",
   "metadata": {},
   "source": [
    "### 1) 결측값 찾기\n",
    "방법\n",
    "- 1. 결측값 제거\n",
    "- 2. 결측값 다른 값으로 대치\n",
    "    - 평균/중간값/최빈값\n",
    "    - 예측모델 사용해서 예측된 값 대치"
   ]
  },
  {
   "cell_type": "markdown",
   "metadata": {},
   "source": [
    "#### 결측값 확인하기\n",
    "- info() > 결측값을 제외한 데이터 개수 확인\n",
    "- isna() > 결측값의 위치를 불린값으로 확인\n",
    "    - `df.isna().sum()` 하면 결측값 개수 확인 가능"
   ]
  },
  {
   "cell_type": "markdown",
   "metadata": {},
   "source": [
    "#### 결측값 데이터 살펴보기\n",
    "- `df.isna().any(axis=1)` : 결측값이 있는 로우 확인\n",
    "- `df[df.isna().any(axis=1)]` : 결측값이 있는 데이터만 추출"
   ]
  },
  {
   "cell_type": "markdown",
   "metadata": {},
   "source": [
    "### 2) 결측값 처리하기\n",
    "방법\n",
    "- 1. 결측값 제거\n",
    "    - 로우 삭제\n",
    "        - 삭제하고 난 뒤 데이터 개수가 충분한가? (30개 이상인가)\n",
    "    - 행/열 삭제:\n",
    "        - 컬럼/로우 값들이 대부분 결측값일 때\n",
    "- 2. 결측값 다른 값으로 대치\n",
    "    - 숫자 데이터 : 평균/중간값\n",
    "    - 범주 데이터 : 최빈값\n",
    "    - 예측모델 사용해서 예측된 값 대치"
   ]
  },
  {
   "cell_type": "markdown",
   "metadata": {
    "vscode": {
     "languageId": "plaintext"
    }
   },
   "source": [
    "- `df.dropna()` : 결측값 삭제\n",
    "- `df.fillna()` : 결측값을 다른 값으로 채우는 방법(보통 평균이나 중간값으로)"
   ]
  },
  {
   "cell_type": "markdown",
   "metadata": {},
   "source": [
    "### 정리\n",
    "1. 결측값 확인 - `df.isna().sum()`\n",
    "    - `df[df.isna().any(axis=1)]` 로 결측값 존재하는 모든 로우 확인 가능\n",
    "2. 결측값 삭제 - `df.dropna()`"
   ]
  },
  {
   "cell_type": "markdown",
   "metadata": {},
   "source": [
    "---"
   ]
  },
  {
   "cell_type": "markdown",
   "metadata": {},
   "source": [
    "## 중복값"
   ]
  },
  {
   "cell_type": "markdown",
   "metadata": {},
   "source": [
    "### 1) 중복값 확인하기\n",
    "- `duplicated()` : 중복된 로우 확인 / 불린 값으로 반환\n",
    "    - `df.duplicated().sum()` 으로 중복된 데이터 개수 확인\n",
    "    - `subset`옵션 : subset = \"고유값컬럼이름'  > 중복되면 안되는 속성만 중복체크 > 컬럼 여러개 하려면 리스트로 넣어주면됨\n",
    "    -  `keep` 옵션\n",
    "        -\tkeep 옵션은 중복값 중 어느 값을 중복으로 취급할지 정함\n",
    "        -\t`keep='first'`: 기본값, 가장 첫 번째 값은 `중복에서 제외` 간주 (기본값)\n",
    "        -\t`keep='last'`: 가장 마지막 값을 `중복에서 제외` 아니라고 간주\n",
    "        -\t`keep=False`: 중복된 값 전부 출력, `중복 제외 X`"
   ]
  },
  {
   "cell_type": "markdown",
   "metadata": {},
   "source": [
    "### 2) 중복값 처리하기\n",
    "- `drop_duplicates()`: 중복된 데이터 삭제 / 기본적으로 모든 컬럼 값이 동일한 경우 중복으로 간주하고 중복된 로우 삭제\n",
    "    - 특정 컬럼들 지정 : subset 옵션\n",
    "    - `keep` 옵션 (이제야, 남긴다!)\n",
    "        -\t개념: `keep` 옵션은 중복된 값 중 어떤 값을 남길지 설정하는 데 사용됩니다.\n",
    "        -\t`keep='first'`: 중복된 값 중 `첫 번째 값을 남기고` 나머지는 삭제 (기본값)\n",
    "        -\t`keep='last'`: 중복된 값 중 `마지막 값을 남기고` 나머지는 삭제\n",
    "        -\t`keep=False`: 중복된 값 모두 삭제\n",
    "    - 보통 마지막 값을 남김 : 가장 최근 값이기 때문에"
   ]
  },
  {
   "cell_type": "markdown",
   "metadata": {},
   "source": [
    "---"
   ]
  },
  {
   "cell_type": "markdown",
   "metadata": {},
   "source": [
    "## 이상값"
   ]
  },
  {
   "cell_type": "markdown",
   "metadata": {},
   "source": [
    "### 1) 이상값 확인하기"
   ]
  },
  {
   "cell_type": "markdown",
   "metadata": {},
   "source": [
    "1. 사분위수로 확인\n",
    "    - IQR = Q3-Q1\n",
    "    - 이상치 범위 : `Q3 * 1.5 * IQR` 보다 크거나, `Q1 * 1.5 * IQR` 보다 작을 때\n",
    "        - lower_limit = Q1 * 1.5 * IQR\n",
    "        - upper_limit = Q3 * 1.5 * IQR\n",
    "\n",
    "2. 불린 인덱싱으로 이상점 인덱싱\n",
    "    - `lower_limit`과 `upper_limit`을 이용해 정상 범위 밖 값을 인덱싱으로 추출"
   ]
  },
  {
   "cell_type": "markdown",
   "metadata": {},
   "source": [
    "### 2) 이상값 처리하기\n",
    "1. 그냥 놔둔다.\n",
    "2. 임계값으로 값을 변경한다.(상한, 하한값으로)\n",
    "3. 삭제한다.\n",
    "    - 불린 인덱싱을 통해 정상 범위에 있는 값들만 남기면 됨"
   ]
  },
  {
   "cell_type": "markdown",
   "metadata": {},
   "source": []
  }
 ],
 "metadata": {
  "language_info": {
   "name": "python"
  }
 },
 "nbformat": 4,
 "nbformat_minor": 2
}
