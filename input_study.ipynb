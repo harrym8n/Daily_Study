{
 "cells": [
  {
   "cell_type": "markdown",
   "metadata": {},
   "source": [
    "# Input"
   ]
  },
  {
   "cell_type": "markdown",
   "metadata": {},
   "source": [
    "- 사용자의 입력값을 받을 수 있는 함수"
   ]
  },
  {
   "cell_type": "markdown",
   "metadata": {},
   "source": [
    "# 파일 읽고 쓰기"
   ]
  },
  {
   "cell_type": "markdown",
   "metadata": {},
   "source": [
    "<파일을 읽는 예시>"
   ]
  },
  {
   "cell_type": "code",
   "execution_count": null,
   "metadata": {},
   "outputs": [],
   "source": [
    "# 읽어오기\n",
    "with open('chicken.txt', 'r') as f1:\n",
    "    for line in f1:\n",
    "        print(line, end ='\\n') #end ='\\n'하면 띄어쓰기 된 줄 사라짐(default값이 줄 띄어쓰기)"
   ]
  },
  {
   "cell_type": "markdown",
   "metadata": {},
   "source": [
    "<파일을 쓰는 예시>>"
   ]
  },
  {
   "cell_type": "code",
   "execution_count": 7,
   "metadata": {},
   "outputs": [],
   "source": [
    "# 생성 / 덮어쓰기\n",
    "with open('new_file.txt','a') as f2:\n",
    "    f2.write(\"What a beautiful day!\")"
   ]
  },
  {
   "cell_type": "markdown",
   "metadata": {},
   "source": [
    "## 3.1 strip\n",
    "- 양쪽 화이트 스페이스(\"\",\"\\t\", \"\\n\")를 삭제해주는 기능의 함수"
   ]
  },
  {
   "cell_type": "markdown",
   "metadata": {},
   "source": [
    "## 3.2 split\n",
    "- 지정한 파라미터를 기준으로 문자열을 나눠주는 기능의 함수"
   ]
  },
  {
   "cell_type": "code",
   "execution_count": 9,
   "metadata": {},
   "outputs": [],
   "source": [
    "test_series = \"1, 2, 3, 4, 5\"\n",
    "full_name = \"Kum, Yuna\"\n",
    "number_series = \"       \\n \\n \\n   1, 2, 3, 4   \\n \\t\""
   ]
  },
  {
   "cell_type": "code",
   "execution_count": 13,
   "metadata": {},
   "outputs": [
    {
     "name": "stdout",
     "output_type": "stream",
     "text": [
      "['1', '2', '3', '4', '5']\n",
      "['Kum', 'Yuna']\n",
      "['1', '2', '3', '4']\n"
     ]
    }
   ],
   "source": [
    "print(test_series.strip().split(', '))\n",
    "print(full_name.strip().split(', '))\n",
    "print(number_series.strip().split(', '))"
   ]
  },
  {
   "cell_type": "markdown",
   "metadata": {},
   "source": [
    "## 읽는 3가지 방법"
   ]
  },
  {
   "cell_type": "markdown",
   "metadata": {},
   "source": [
    "1. read() : 파일의 모든 내용을 통으로 읽어오기\n",
    "2. \n",
    "3. readlines() : 파일의 한 줄을 요소로 하는 리스트로 읽어오기"
   ]
  },
  {
   "cell_type": "markdown",
   "metadata": {},
   "source": [
    "## 3.4 파일을 쓰기"
   ]
  },
  {
   "cell_type": "code",
   "execution_count": 16,
   "metadata": {},
   "outputs": [],
   "source": [
    "# 'w'로 쓰면 만약 동일한 이름의 파일이 있으면 날라가고 덮어씌워진다. 따라서 'a'를 사용하는 것을 권장\n",
    "with open('new_text.txt', 'a') as f:\n",
    "    f.write(\"Hello!\\nmy name is Harry\")"
   ]
  },
  {
   "cell_type": "markdown",
   "metadata": {},
   "source": []
  }
 ],
 "metadata": {
  "kernelspec": {
   "display_name": "Python 3",
   "language": "python",
   "name": "python3"
  },
  "language_info": {
   "codemirror_mode": {
    "name": "ipython",
    "version": 3
   },
   "file_extension": ".py",
   "mimetype": "text/x-python",
   "name": "python",
   "nbconvert_exporter": "python",
   "pygments_lexer": "ipython3",
   "version": "3.12.7"
  }
 },
 "nbformat": 4,
 "nbformat_minor": 2
}
