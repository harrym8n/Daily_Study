{
 "cells": [
  {
   "cell_type": "markdown",
   "metadata": {},
   "source": [
    "## 1단계) 숫자 3개 뽑기\n",
    "- 0~9 사이 서로 다른 정수, 무작위 3개 추출\n",
    "- 3개 리스트 기턴"
   ]
  },
  {
   "cell_type": "code",
   "execution_count": 12,
   "metadata": {},
   "outputs": [
    {
     "name": "stdout",
     "output_type": "stream",
     "text": [
      "[4, 7, 0]\n"
     ]
    }
   ],
   "source": [
    "from random import randint\n",
    "\n",
    "def generate_numbers():\n",
    "    numbers = []\n",
    "\n",
    "    while len(numbers) < 3:\n",
    "        num = randint(0,9)\n",
    "        if num not in numbers:\n",
    "            numbers.append(num)\n",
    "    \n",
    "    return numbers\n",
    "\n",
    "print(generate_numbers())"
   ]
  },
  {
   "cell_type": "markdown",
   "metadata": {},
   "source": [
    "## 2단계) 숫자 예측하기"
   ]
  },
  {
   "cell_type": "code",
   "execution_count": 14,
   "metadata": {},
   "outputs": [],
   "source": [
    "def checked_input(order, guess_list):\n",
    "    while True:\n",
    "        guess = int(input(f\"{order}번째 숫자를 입력하세요: \"))\n",
    "                    \n",
    "        #검증1(범위, 중복 체크)\n",
    "        if (0 <= guess <= 9) and guess not in guess_list:\n",
    "            guess_list.append(guess)\n",
    "            break\n",
    "        elif guess in guess_list:\n",
    "            print(\"중복되는 숫자입니다. 다시 입력해주세요.\")\n",
    "            continue #밑에 코드 무시하고 다시 반복문 처음으로 돌아가서 실행해라\n",
    "        else:\n",
    "            print(\"범위를 벗어났습니다. 다시 입력해주세요.\")\n",
    "            continue\n",
    "    \n",
    "    return guess_list"
   ]
  },
  {
   "cell_type": "code",
   "execution_count": 15,
   "metadata": {},
   "outputs": [
    {
     "data": {
      "text/plain": [
       "[2, 3, 4]"
      ]
     },
     "execution_count": 15,
     "metadata": {},
     "output_type": "execute_result"
    }
   ],
   "source": [
    "# 사용자 예측 숫자들 넣을 리스트\n",
    "def get_guess_list():\n",
    "    guess_list = []\n",
    "\n",
    "    for i in range(3):\n",
    "        guess_list = checked_input(i+1, guess_list=guess_list)\n",
    "\n",
    "    return guess_list\n",
    "\n",
    "get_guess_list()"
   ]
  },
  {
   "cell_type": "markdown",
   "metadata": {},
   "source": [
    "## 3단계) 점수 계산하기"
   ]
  },
  {
   "cell_type": "markdown",
   "metadata": {},
   "source": [
    "enumerate()\n",
    "- 순회하면서(반복문을 돌며), 인덱스를 함께 부여할 수 있도록 반환해주는 함수\n",
    "- '열거하다'라는 뜻"
   ]
  },
  {
   "cell_type": "code",
   "execution_count": 24,
   "metadata": {},
   "outputs": [
    {
     "name": "stdout",
     "output_type": "stream",
     "text": [
      "0 2\n",
      "1 4\n",
      "2 7\n"
     ]
    }
   ],
   "source": [
    "for i, v in enumerate([2,4,7]):\n",
    "    print(i, v)"
   ]
  },
  {
   "cell_type": "code",
   "execution_count": 23,
   "metadata": {},
   "outputs": [
    {
     "name": "stdout",
     "output_type": "stream",
     "text": [
      "0S 1B\n"
     ]
    }
   ],
   "source": [
    "def get_score(guess_list, solution_list):\n",
    "    strike_count = 0\n",
    "    ball_count = 0\n",
    "\n",
    "    #enumerate() 사용해서 풀이 가능\n",
    "    # for i, guess in enumerate(guess_list):\n",
    "    #     if guess == solution_list[i]:\n",
    "            \n",
    "    for i in range(3):\n",
    "        if guess_list[i] == solution_list[i]:\n",
    "            strike_count += 1\n",
    "        elif guess_list[i] in solution_list:\n",
    "            ball_count += 1\n",
    "    \n",
    "    return strike_count, ball_count\n",
    "\n",
    "strike_count, ball_count = get_score(guess_list=[1,2,3], solution_list=[2,5,0])\n",
    "\n",
    "print(f\"{strike_count}S {ball_count}B\")"
   ]
  }
 ],
 "metadata": {
  "language_info": {
   "name": "python"
  }
 },
 "nbformat": 4,
 "nbformat_minor": 2
}
